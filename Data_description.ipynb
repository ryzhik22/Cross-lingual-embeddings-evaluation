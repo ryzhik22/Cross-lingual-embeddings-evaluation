{
  "nbformat": 4,
  "nbformat_minor": 0,
  "metadata": {
    "colab": {
      "name": "Data description.ipynb",
      "provenance": [],
      "collapsed_sections": [
        "vNPnydy6xyQV",
        "iMxAc7E6WO9Y",
        "7SQb_WHSLUBG"
      ],
      "machine_shape": "hm"
    },
    "kernelspec": {
      "name": "python3",
      "display_name": "Python 3"
    },
    "widgets": {
      "application/vnd.jupyter.widget-state+json": {
        "31d28b4ee2394a0888ce862d40bd8bbf": {
          "model_module": "@jupyter-widgets/controls",
          "model_name": "HBoxModel",
          "state": {
            "_view_name": "HBoxView",
            "_dom_classes": [],
            "_model_name": "HBoxModel",
            "_view_module": "@jupyter-widgets/controls",
            "_model_module_version": "1.5.0",
            "_view_count": null,
            "_view_module_version": "1.5.0",
            "box_style": "",
            "layout": "IPY_MODEL_1da0c0e4d9ee4f1fa2e42e360e047275",
            "_model_module": "@jupyter-widgets/controls",
            "children": [
              "IPY_MODEL_46b01820723b4430bc7b4453e9bf45ee",
              "IPY_MODEL_17db634e3cdf4db6a6ec27024c87985e"
            ]
          }
        },
        "1da0c0e4d9ee4f1fa2e42e360e047275": {
          "model_module": "@jupyter-widgets/base",
          "model_name": "LayoutModel",
          "state": {
            "_view_name": "LayoutView",
            "grid_template_rows": null,
            "right": null,
            "justify_content": null,
            "_view_module": "@jupyter-widgets/base",
            "overflow": null,
            "_model_module_version": "1.2.0",
            "_view_count": null,
            "flex_flow": null,
            "width": null,
            "min_width": null,
            "border": null,
            "align_items": null,
            "bottom": null,
            "_model_module": "@jupyter-widgets/base",
            "top": null,
            "grid_column": null,
            "overflow_y": null,
            "overflow_x": null,
            "grid_auto_flow": null,
            "grid_area": null,
            "grid_template_columns": null,
            "flex": null,
            "_model_name": "LayoutModel",
            "justify_items": null,
            "grid_row": null,
            "max_height": null,
            "align_content": null,
            "visibility": null,
            "align_self": null,
            "height": null,
            "min_height": null,
            "padding": null,
            "grid_auto_rows": null,
            "grid_gap": null,
            "max_width": null,
            "order": null,
            "_view_module_version": "1.2.0",
            "grid_template_areas": null,
            "object_position": null,
            "object_fit": null,
            "grid_auto_columns": null,
            "margin": null,
            "display": null,
            "left": null
          }
        },
        "46b01820723b4430bc7b4453e9bf45ee": {
          "model_module": "@jupyter-widgets/controls",
          "model_name": "IntProgressModel",
          "state": {
            "_view_name": "ProgressView",
            "style": "IPY_MODEL_183f81d7bbe3415c8e4710330024f3fe",
            "_dom_classes": [],
            "description": "100%",
            "_model_name": "IntProgressModel",
            "bar_style": "success",
            "max": 10150,
            "_view_module": "@jupyter-widgets/controls",
            "_model_module_version": "1.5.0",
            "value": 10150,
            "_view_count": null,
            "_view_module_version": "1.5.0",
            "orientation": "horizontal",
            "min": 0,
            "description_tooltip": null,
            "_model_module": "@jupyter-widgets/controls",
            "layout": "IPY_MODEL_2ee264cb54d441a9ab32d5f7b70bf613"
          }
        },
        "17db634e3cdf4db6a6ec27024c87985e": {
          "model_module": "@jupyter-widgets/controls",
          "model_name": "HTMLModel",
          "state": {
            "_view_name": "HTMLView",
            "style": "IPY_MODEL_6024020aaff441499ca22018fa5cf84e",
            "_dom_classes": [],
            "description": "",
            "_model_name": "HTMLModel",
            "placeholder": "​",
            "_view_module": "@jupyter-widgets/controls",
            "_model_module_version": "1.5.0",
            "value": " 10150/10150 [02:37&lt;00:00, 64.29it/s]",
            "_view_count": null,
            "_view_module_version": "1.5.0",
            "description_tooltip": null,
            "_model_module": "@jupyter-widgets/controls",
            "layout": "IPY_MODEL_9d2226e64f664fe8ba94119c90a02048"
          }
        },
        "183f81d7bbe3415c8e4710330024f3fe": {
          "model_module": "@jupyter-widgets/controls",
          "model_name": "ProgressStyleModel",
          "state": {
            "_view_name": "StyleView",
            "_model_name": "ProgressStyleModel",
            "description_width": "initial",
            "_view_module": "@jupyter-widgets/base",
            "_model_module_version": "1.5.0",
            "_view_count": null,
            "_view_module_version": "1.2.0",
            "bar_color": null,
            "_model_module": "@jupyter-widgets/controls"
          }
        },
        "2ee264cb54d441a9ab32d5f7b70bf613": {
          "model_module": "@jupyter-widgets/base",
          "model_name": "LayoutModel",
          "state": {
            "_view_name": "LayoutView",
            "grid_template_rows": null,
            "right": null,
            "justify_content": null,
            "_view_module": "@jupyter-widgets/base",
            "overflow": null,
            "_model_module_version": "1.2.0",
            "_view_count": null,
            "flex_flow": null,
            "width": null,
            "min_width": null,
            "border": null,
            "align_items": null,
            "bottom": null,
            "_model_module": "@jupyter-widgets/base",
            "top": null,
            "grid_column": null,
            "overflow_y": null,
            "overflow_x": null,
            "grid_auto_flow": null,
            "grid_area": null,
            "grid_template_columns": null,
            "flex": null,
            "_model_name": "LayoutModel",
            "justify_items": null,
            "grid_row": null,
            "max_height": null,
            "align_content": null,
            "visibility": null,
            "align_self": null,
            "height": null,
            "min_height": null,
            "padding": null,
            "grid_auto_rows": null,
            "grid_gap": null,
            "max_width": null,
            "order": null,
            "_view_module_version": "1.2.0",
            "grid_template_areas": null,
            "object_position": null,
            "object_fit": null,
            "grid_auto_columns": null,
            "margin": null,
            "display": null,
            "left": null
          }
        },
        "6024020aaff441499ca22018fa5cf84e": {
          "model_module": "@jupyter-widgets/controls",
          "model_name": "DescriptionStyleModel",
          "state": {
            "_view_name": "StyleView",
            "_model_name": "DescriptionStyleModel",
            "description_width": "",
            "_view_module": "@jupyter-widgets/base",
            "_model_module_version": "1.5.0",
            "_view_count": null,
            "_view_module_version": "1.2.0",
            "_model_module": "@jupyter-widgets/controls"
          }
        },
        "9d2226e64f664fe8ba94119c90a02048": {
          "model_module": "@jupyter-widgets/base",
          "model_name": "LayoutModel",
          "state": {
            "_view_name": "LayoutView",
            "grid_template_rows": null,
            "right": null,
            "justify_content": null,
            "_view_module": "@jupyter-widgets/base",
            "overflow": null,
            "_model_module_version": "1.2.0",
            "_view_count": null,
            "flex_flow": null,
            "width": null,
            "min_width": null,
            "border": null,
            "align_items": null,
            "bottom": null,
            "_model_module": "@jupyter-widgets/base",
            "top": null,
            "grid_column": null,
            "overflow_y": null,
            "overflow_x": null,
            "grid_auto_flow": null,
            "grid_area": null,
            "grid_template_columns": null,
            "flex": null,
            "_model_name": "LayoutModel",
            "justify_items": null,
            "grid_row": null,
            "max_height": null,
            "align_content": null,
            "visibility": null,
            "align_self": null,
            "height": null,
            "min_height": null,
            "padding": null,
            "grid_auto_rows": null,
            "grid_gap": null,
            "max_width": null,
            "order": null,
            "_view_module_version": "1.2.0",
            "grid_template_areas": null,
            "object_position": null,
            "object_fit": null,
            "grid_auto_columns": null,
            "margin": null,
            "display": null,
            "left": null
          }
        },
        "e5ec8f173ccd47f1ae2e030640c83ccc": {
          "model_module": "@jupyter-widgets/controls",
          "model_name": "HBoxModel",
          "state": {
            "_view_name": "HBoxView",
            "_dom_classes": [],
            "_model_name": "HBoxModel",
            "_view_module": "@jupyter-widgets/controls",
            "_model_module_version": "1.5.0",
            "_view_count": null,
            "_view_module_version": "1.5.0",
            "box_style": "",
            "layout": "IPY_MODEL_5af399efb3044bf8a0c186cf50d8e1eb",
            "_model_module": "@jupyter-widgets/controls",
            "children": [
              "IPY_MODEL_0cf2e92414134507b72d2da6cc97b00a",
              "IPY_MODEL_4f2f3dcb3a5e485e9c9de389a6445e36"
            ]
          }
        },
        "5af399efb3044bf8a0c186cf50d8e1eb": {
          "model_module": "@jupyter-widgets/base",
          "model_name": "LayoutModel",
          "state": {
            "_view_name": "LayoutView",
            "grid_template_rows": null,
            "right": null,
            "justify_content": null,
            "_view_module": "@jupyter-widgets/base",
            "overflow": null,
            "_model_module_version": "1.2.0",
            "_view_count": null,
            "flex_flow": null,
            "width": null,
            "min_width": null,
            "border": null,
            "align_items": null,
            "bottom": null,
            "_model_module": "@jupyter-widgets/base",
            "top": null,
            "grid_column": null,
            "overflow_y": null,
            "overflow_x": null,
            "grid_auto_flow": null,
            "grid_area": null,
            "grid_template_columns": null,
            "flex": null,
            "_model_name": "LayoutModel",
            "justify_items": null,
            "grid_row": null,
            "max_height": null,
            "align_content": null,
            "visibility": null,
            "align_self": null,
            "height": null,
            "min_height": null,
            "padding": null,
            "grid_auto_rows": null,
            "grid_gap": null,
            "max_width": null,
            "order": null,
            "_view_module_version": "1.2.0",
            "grid_template_areas": null,
            "object_position": null,
            "object_fit": null,
            "grid_auto_columns": null,
            "margin": null,
            "display": null,
            "left": null
          }
        },
        "0cf2e92414134507b72d2da6cc97b00a": {
          "model_module": "@jupyter-widgets/controls",
          "model_name": "IntProgressModel",
          "state": {
            "_view_name": "ProgressView",
            "style": "IPY_MODEL_976f24d0bcf24ed5a9f5502040d3ca0f",
            "_dom_classes": [],
            "description": "100%",
            "_model_name": "IntProgressModel",
            "bar_style": "success",
            "max": 12143,
            "_view_module": "@jupyter-widgets/controls",
            "_model_module_version": "1.5.0",
            "value": 12143,
            "_view_count": null,
            "_view_module_version": "1.5.0",
            "orientation": "horizontal",
            "min": 0,
            "description_tooltip": null,
            "_model_module": "@jupyter-widgets/controls",
            "layout": "IPY_MODEL_51fd8bee13094fd78db54dd75ffc4aa5"
          }
        },
        "4f2f3dcb3a5e485e9c9de389a6445e36": {
          "model_module": "@jupyter-widgets/controls",
          "model_name": "HTMLModel",
          "state": {
            "_view_name": "HTMLView",
            "style": "IPY_MODEL_5f1fa08d409748638bfc87aff48f2dba",
            "_dom_classes": [],
            "description": "",
            "_model_name": "HTMLModel",
            "placeholder": "​",
            "_view_module": "@jupyter-widgets/controls",
            "_model_module_version": "1.5.0",
            "value": " 12143/12143 [02:36&lt;00:00, 77.55it/s]",
            "_view_count": null,
            "_view_module_version": "1.5.0",
            "description_tooltip": null,
            "_model_module": "@jupyter-widgets/controls",
            "layout": "IPY_MODEL_86189c440c464840a1883b623f954990"
          }
        },
        "976f24d0bcf24ed5a9f5502040d3ca0f": {
          "model_module": "@jupyter-widgets/controls",
          "model_name": "ProgressStyleModel",
          "state": {
            "_view_name": "StyleView",
            "_model_name": "ProgressStyleModel",
            "description_width": "initial",
            "_view_module": "@jupyter-widgets/base",
            "_model_module_version": "1.5.0",
            "_view_count": null,
            "_view_module_version": "1.2.0",
            "bar_color": null,
            "_model_module": "@jupyter-widgets/controls"
          }
        },
        "51fd8bee13094fd78db54dd75ffc4aa5": {
          "model_module": "@jupyter-widgets/base",
          "model_name": "LayoutModel",
          "state": {
            "_view_name": "LayoutView",
            "grid_template_rows": null,
            "right": null,
            "justify_content": null,
            "_view_module": "@jupyter-widgets/base",
            "overflow": null,
            "_model_module_version": "1.2.0",
            "_view_count": null,
            "flex_flow": null,
            "width": null,
            "min_width": null,
            "border": null,
            "align_items": null,
            "bottom": null,
            "_model_module": "@jupyter-widgets/base",
            "top": null,
            "grid_column": null,
            "overflow_y": null,
            "overflow_x": null,
            "grid_auto_flow": null,
            "grid_area": null,
            "grid_template_columns": null,
            "flex": null,
            "_model_name": "LayoutModel",
            "justify_items": null,
            "grid_row": null,
            "max_height": null,
            "align_content": null,
            "visibility": null,
            "align_self": null,
            "height": null,
            "min_height": null,
            "padding": null,
            "grid_auto_rows": null,
            "grid_gap": null,
            "max_width": null,
            "order": null,
            "_view_module_version": "1.2.0",
            "grid_template_areas": null,
            "object_position": null,
            "object_fit": null,
            "grid_auto_columns": null,
            "margin": null,
            "display": null,
            "left": null
          }
        },
        "5f1fa08d409748638bfc87aff48f2dba": {
          "model_module": "@jupyter-widgets/controls",
          "model_name": "DescriptionStyleModel",
          "state": {
            "_view_name": "StyleView",
            "_model_name": "DescriptionStyleModel",
            "description_width": "",
            "_view_module": "@jupyter-widgets/base",
            "_model_module_version": "1.5.0",
            "_view_count": null,
            "_view_module_version": "1.2.0",
            "_model_module": "@jupyter-widgets/controls"
          }
        },
        "86189c440c464840a1883b623f954990": {
          "model_module": "@jupyter-widgets/base",
          "model_name": "LayoutModel",
          "state": {
            "_view_name": "LayoutView",
            "grid_template_rows": null,
            "right": null,
            "justify_content": null,
            "_view_module": "@jupyter-widgets/base",
            "overflow": null,
            "_model_module_version": "1.2.0",
            "_view_count": null,
            "flex_flow": null,
            "width": null,
            "min_width": null,
            "border": null,
            "align_items": null,
            "bottom": null,
            "_model_module": "@jupyter-widgets/base",
            "top": null,
            "grid_column": null,
            "overflow_y": null,
            "overflow_x": null,
            "grid_auto_flow": null,
            "grid_area": null,
            "grid_template_columns": null,
            "flex": null,
            "_model_name": "LayoutModel",
            "justify_items": null,
            "grid_row": null,
            "max_height": null,
            "align_content": null,
            "visibility": null,
            "align_self": null,
            "height": null,
            "min_height": null,
            "padding": null,
            "grid_auto_rows": null,
            "grid_gap": null,
            "max_width": null,
            "order": null,
            "_view_module_version": "1.2.0",
            "grid_template_areas": null,
            "object_position": null,
            "object_fit": null,
            "grid_auto_columns": null,
            "margin": null,
            "display": null,
            "left": null
          }
        },
        "28e5e7a6269548098454756180546b8a": {
          "model_module": "@jupyter-widgets/controls",
          "model_name": "HBoxModel",
          "state": {
            "_view_name": "HBoxView",
            "_dom_classes": [],
            "_model_name": "HBoxModel",
            "_view_module": "@jupyter-widgets/controls",
            "_model_module_version": "1.5.0",
            "_view_count": null,
            "_view_module_version": "1.5.0",
            "box_style": "",
            "layout": "IPY_MODEL_bc54bc678edd4ffda7c8b6f967a8ac63",
            "_model_module": "@jupyter-widgets/controls",
            "children": [
              "IPY_MODEL_3600e2ef299f46d5bc7acf781801fedc",
              "IPY_MODEL_90f00d5539e64b679779c878a1f28029"
            ]
          }
        },
        "bc54bc678edd4ffda7c8b6f967a8ac63": {
          "model_module": "@jupyter-widgets/base",
          "model_name": "LayoutModel",
          "state": {
            "_view_name": "LayoutView",
            "grid_template_rows": null,
            "right": null,
            "justify_content": null,
            "_view_module": "@jupyter-widgets/base",
            "overflow": null,
            "_model_module_version": "1.2.0",
            "_view_count": null,
            "flex_flow": null,
            "width": null,
            "min_width": null,
            "border": null,
            "align_items": null,
            "bottom": null,
            "_model_module": "@jupyter-widgets/base",
            "top": null,
            "grid_column": null,
            "overflow_y": null,
            "overflow_x": null,
            "grid_auto_flow": null,
            "grid_area": null,
            "grid_template_columns": null,
            "flex": null,
            "_model_name": "LayoutModel",
            "justify_items": null,
            "grid_row": null,
            "max_height": null,
            "align_content": null,
            "visibility": null,
            "align_self": null,
            "height": null,
            "min_height": null,
            "padding": null,
            "grid_auto_rows": null,
            "grid_gap": null,
            "max_width": null,
            "order": null,
            "_view_module_version": "1.2.0",
            "grid_template_areas": null,
            "object_position": null,
            "object_fit": null,
            "grid_auto_columns": null,
            "margin": null,
            "display": null,
            "left": null
          }
        },
        "3600e2ef299f46d5bc7acf781801fedc": {
          "model_module": "@jupyter-widgets/controls",
          "model_name": "IntProgressModel",
          "state": {
            "_view_name": "ProgressView",
            "style": "IPY_MODEL_24631e48b8a447298423c19b25579a53",
            "_dom_classes": [],
            "description": "100%",
            "_model_name": "IntProgressModel",
            "bar_style": "success",
            "max": 68805,
            "_view_module": "@jupyter-widgets/controls",
            "_model_module_version": "1.5.0",
            "value": 68805,
            "_view_count": null,
            "_view_module_version": "1.5.0",
            "orientation": "horizontal",
            "min": 0,
            "description_tooltip": null,
            "_model_module": "@jupyter-widgets/controls",
            "layout": "IPY_MODEL_fcf64e48713543a8a24c3d613e249dda"
          }
        },
        "90f00d5539e64b679779c878a1f28029": {
          "model_module": "@jupyter-widgets/controls",
          "model_name": "HTMLModel",
          "state": {
            "_view_name": "HTMLView",
            "style": "IPY_MODEL_bc1740e736c246648c93f966da1968da",
            "_dom_classes": [],
            "description": "",
            "_model_name": "HTMLModel",
            "placeholder": "​",
            "_view_module": "@jupyter-widgets/controls",
            "_model_module_version": "1.5.0",
            "value": " 68805/68805 [02:35&lt;00:00, 442.29it/s]",
            "_view_count": null,
            "_view_module_version": "1.5.0",
            "description_tooltip": null,
            "_model_module": "@jupyter-widgets/controls",
            "layout": "IPY_MODEL_0c5f56121b0f4b11985ca563c57cf84a"
          }
        },
        "24631e48b8a447298423c19b25579a53": {
          "model_module": "@jupyter-widgets/controls",
          "model_name": "ProgressStyleModel",
          "state": {
            "_view_name": "StyleView",
            "_model_name": "ProgressStyleModel",
            "description_width": "initial",
            "_view_module": "@jupyter-widgets/base",
            "_model_module_version": "1.5.0",
            "_view_count": null,
            "_view_module_version": "1.2.0",
            "bar_color": null,
            "_model_module": "@jupyter-widgets/controls"
          }
        },
        "fcf64e48713543a8a24c3d613e249dda": {
          "model_module": "@jupyter-widgets/base",
          "model_name": "LayoutModel",
          "state": {
            "_view_name": "LayoutView",
            "grid_template_rows": null,
            "right": null,
            "justify_content": null,
            "_view_module": "@jupyter-widgets/base",
            "overflow": null,
            "_model_module_version": "1.2.0",
            "_view_count": null,
            "flex_flow": null,
            "width": null,
            "min_width": null,
            "border": null,
            "align_items": null,
            "bottom": null,
            "_model_module": "@jupyter-widgets/base",
            "top": null,
            "grid_column": null,
            "overflow_y": null,
            "overflow_x": null,
            "grid_auto_flow": null,
            "grid_area": null,
            "grid_template_columns": null,
            "flex": null,
            "_model_name": "LayoutModel",
            "justify_items": null,
            "grid_row": null,
            "max_height": null,
            "align_content": null,
            "visibility": null,
            "align_self": null,
            "height": null,
            "min_height": null,
            "padding": null,
            "grid_auto_rows": null,
            "grid_gap": null,
            "max_width": null,
            "order": null,
            "_view_module_version": "1.2.0",
            "grid_template_areas": null,
            "object_position": null,
            "object_fit": null,
            "grid_auto_columns": null,
            "margin": null,
            "display": null,
            "left": null
          }
        },
        "bc1740e736c246648c93f966da1968da": {
          "model_module": "@jupyter-widgets/controls",
          "model_name": "DescriptionStyleModel",
          "state": {
            "_view_name": "StyleView",
            "_model_name": "DescriptionStyleModel",
            "description_width": "",
            "_view_module": "@jupyter-widgets/base",
            "_model_module_version": "1.5.0",
            "_view_count": null,
            "_view_module_version": "1.2.0",
            "_model_module": "@jupyter-widgets/controls"
          }
        },
        "0c5f56121b0f4b11985ca563c57cf84a": {
          "model_module": "@jupyter-widgets/base",
          "model_name": "LayoutModel",
          "state": {
            "_view_name": "LayoutView",
            "grid_template_rows": null,
            "right": null,
            "justify_content": null,
            "_view_module": "@jupyter-widgets/base",
            "overflow": null,
            "_model_module_version": "1.2.0",
            "_view_count": null,
            "flex_flow": null,
            "width": null,
            "min_width": null,
            "border": null,
            "align_items": null,
            "bottom": null,
            "_model_module": "@jupyter-widgets/base",
            "top": null,
            "grid_column": null,
            "overflow_y": null,
            "overflow_x": null,
            "grid_auto_flow": null,
            "grid_area": null,
            "grid_template_columns": null,
            "flex": null,
            "_model_name": "LayoutModel",
            "justify_items": null,
            "grid_row": null,
            "max_height": null,
            "align_content": null,
            "visibility": null,
            "align_self": null,
            "height": null,
            "min_height": null,
            "padding": null,
            "grid_auto_rows": null,
            "grid_gap": null,
            "max_width": null,
            "order": null,
            "_view_module_version": "1.2.0",
            "grid_template_areas": null,
            "object_position": null,
            "object_fit": null,
            "grid_auto_columns": null,
            "margin": null,
            "display": null,
            "left": null
          }
        },
        "c4f18d3995784d6687abd85f35c8a824": {
          "model_module": "@jupyter-widgets/controls",
          "model_name": "HBoxModel",
          "state": {
            "_view_name": "HBoxView",
            "_dom_classes": [],
            "_model_name": "HBoxModel",
            "_view_module": "@jupyter-widgets/controls",
            "_model_module_version": "1.5.0",
            "_view_count": null,
            "_view_module_version": "1.5.0",
            "box_style": "",
            "layout": "IPY_MODEL_f0c89ed658a54d02a287c73cb8efe708",
            "_model_module": "@jupyter-widgets/controls",
            "children": [
              "IPY_MODEL_5a24d336fc0641509c1b2189d02d69ca",
              "IPY_MODEL_ab886d2e98c34ad5a2d367f7b36e82e4"
            ]
          }
        },
        "f0c89ed658a54d02a287c73cb8efe708": {
          "model_module": "@jupyter-widgets/base",
          "model_name": "LayoutModel",
          "state": {
            "_view_name": "LayoutView",
            "grid_template_rows": null,
            "right": null,
            "justify_content": null,
            "_view_module": "@jupyter-widgets/base",
            "overflow": null,
            "_model_module_version": "1.2.0",
            "_view_count": null,
            "flex_flow": null,
            "width": null,
            "min_width": null,
            "border": null,
            "align_items": null,
            "bottom": null,
            "_model_module": "@jupyter-widgets/base",
            "top": null,
            "grid_column": null,
            "overflow_y": null,
            "overflow_x": null,
            "grid_auto_flow": null,
            "grid_area": null,
            "grid_template_columns": null,
            "flex": null,
            "_model_name": "LayoutModel",
            "justify_items": null,
            "grid_row": null,
            "max_height": null,
            "align_content": null,
            "visibility": null,
            "align_self": null,
            "height": null,
            "min_height": null,
            "padding": null,
            "grid_auto_rows": null,
            "grid_gap": null,
            "max_width": null,
            "order": null,
            "_view_module_version": "1.2.0",
            "grid_template_areas": null,
            "object_position": null,
            "object_fit": null,
            "grid_auto_columns": null,
            "margin": null,
            "display": null,
            "left": null
          }
        },
        "5a24d336fc0641509c1b2189d02d69ca": {
          "model_module": "@jupyter-widgets/controls",
          "model_name": "IntProgressModel",
          "state": {
            "_view_name": "ProgressView",
            "style": "IPY_MODEL_b66034b5d6fa466b9ffd06e456450811",
            "_dom_classes": [],
            "description": "100%",
            "_model_name": "IntProgressModel",
            "bar_style": "success",
            "max": 10150,
            "_view_module": "@jupyter-widgets/controls",
            "_model_module_version": "1.5.0",
            "value": 10150,
            "_view_count": null,
            "_view_module_version": "1.5.0",
            "orientation": "horizontal",
            "min": 0,
            "description_tooltip": null,
            "_model_module": "@jupyter-widgets/controls",
            "layout": "IPY_MODEL_527112eca8ba4d00892e2b6bfaddae5b"
          }
        },
        "ab886d2e98c34ad5a2d367f7b36e82e4": {
          "model_module": "@jupyter-widgets/controls",
          "model_name": "HTMLModel",
          "state": {
            "_view_name": "HTMLView",
            "style": "IPY_MODEL_7813520481654ecb842759246b584157",
            "_dom_classes": [],
            "description": "",
            "_model_name": "HTMLModel",
            "placeholder": "​",
            "_view_module": "@jupyter-widgets/controls",
            "_model_module_version": "1.5.0",
            "value": " 10150/10150 [01:03&lt;00:00, 159.05it/s]",
            "_view_count": null,
            "_view_module_version": "1.5.0",
            "description_tooltip": null,
            "_model_module": "@jupyter-widgets/controls",
            "layout": "IPY_MODEL_471e296d3ce24ec287ec8895c2f428ba"
          }
        },
        "b66034b5d6fa466b9ffd06e456450811": {
          "model_module": "@jupyter-widgets/controls",
          "model_name": "ProgressStyleModel",
          "state": {
            "_view_name": "StyleView",
            "_model_name": "ProgressStyleModel",
            "description_width": "initial",
            "_view_module": "@jupyter-widgets/base",
            "_model_module_version": "1.5.0",
            "_view_count": null,
            "_view_module_version": "1.2.0",
            "bar_color": null,
            "_model_module": "@jupyter-widgets/controls"
          }
        },
        "527112eca8ba4d00892e2b6bfaddae5b": {
          "model_module": "@jupyter-widgets/base",
          "model_name": "LayoutModel",
          "state": {
            "_view_name": "LayoutView",
            "grid_template_rows": null,
            "right": null,
            "justify_content": null,
            "_view_module": "@jupyter-widgets/base",
            "overflow": null,
            "_model_module_version": "1.2.0",
            "_view_count": null,
            "flex_flow": null,
            "width": null,
            "min_width": null,
            "border": null,
            "align_items": null,
            "bottom": null,
            "_model_module": "@jupyter-widgets/base",
            "top": null,
            "grid_column": null,
            "overflow_y": null,
            "overflow_x": null,
            "grid_auto_flow": null,
            "grid_area": null,
            "grid_template_columns": null,
            "flex": null,
            "_model_name": "LayoutModel",
            "justify_items": null,
            "grid_row": null,
            "max_height": null,
            "align_content": null,
            "visibility": null,
            "align_self": null,
            "height": null,
            "min_height": null,
            "padding": null,
            "grid_auto_rows": null,
            "grid_gap": null,
            "max_width": null,
            "order": null,
            "_view_module_version": "1.2.0",
            "grid_template_areas": null,
            "object_position": null,
            "object_fit": null,
            "grid_auto_columns": null,
            "margin": null,
            "display": null,
            "left": null
          }
        },
        "7813520481654ecb842759246b584157": {
          "model_module": "@jupyter-widgets/controls",
          "model_name": "DescriptionStyleModel",
          "state": {
            "_view_name": "StyleView",
            "_model_name": "DescriptionStyleModel",
            "description_width": "",
            "_view_module": "@jupyter-widgets/base",
            "_model_module_version": "1.5.0",
            "_view_count": null,
            "_view_module_version": "1.2.0",
            "_model_module": "@jupyter-widgets/controls"
          }
        },
        "471e296d3ce24ec287ec8895c2f428ba": {
          "model_module": "@jupyter-widgets/base",
          "model_name": "LayoutModel",
          "state": {
            "_view_name": "LayoutView",
            "grid_template_rows": null,
            "right": null,
            "justify_content": null,
            "_view_module": "@jupyter-widgets/base",
            "overflow": null,
            "_model_module_version": "1.2.0",
            "_view_count": null,
            "flex_flow": null,
            "width": null,
            "min_width": null,
            "border": null,
            "align_items": null,
            "bottom": null,
            "_model_module": "@jupyter-widgets/base",
            "top": null,
            "grid_column": null,
            "overflow_y": null,
            "overflow_x": null,
            "grid_auto_flow": null,
            "grid_area": null,
            "grid_template_columns": null,
            "flex": null,
            "_model_name": "LayoutModel",
            "justify_items": null,
            "grid_row": null,
            "max_height": null,
            "align_content": null,
            "visibility": null,
            "align_self": null,
            "height": null,
            "min_height": null,
            "padding": null,
            "grid_auto_rows": null,
            "grid_gap": null,
            "max_width": null,
            "order": null,
            "_view_module_version": "1.2.0",
            "grid_template_areas": null,
            "object_position": null,
            "object_fit": null,
            "grid_auto_columns": null,
            "margin": null,
            "display": null,
            "left": null
          }
        },
        "5fa763be95f44ce686e25d6b142b58a4": {
          "model_module": "@jupyter-widgets/controls",
          "model_name": "HBoxModel",
          "state": {
            "_view_name": "HBoxView",
            "_dom_classes": [],
            "_model_name": "HBoxModel",
            "_view_module": "@jupyter-widgets/controls",
            "_model_module_version": "1.5.0",
            "_view_count": null,
            "_view_module_version": "1.5.0",
            "box_style": "",
            "layout": "IPY_MODEL_8fd7620d292740c4889e209f20b87241",
            "_model_module": "@jupyter-widgets/controls",
            "children": [
              "IPY_MODEL_187a34cb3f0c41e285025bb46b06604f",
              "IPY_MODEL_8daee4acc52b4bf0bbe3008bdcbc2adf"
            ]
          }
        },
        "8fd7620d292740c4889e209f20b87241": {
          "model_module": "@jupyter-widgets/base",
          "model_name": "LayoutModel",
          "state": {
            "_view_name": "LayoutView",
            "grid_template_rows": null,
            "right": null,
            "justify_content": null,
            "_view_module": "@jupyter-widgets/base",
            "overflow": null,
            "_model_module_version": "1.2.0",
            "_view_count": null,
            "flex_flow": null,
            "width": null,
            "min_width": null,
            "border": null,
            "align_items": null,
            "bottom": null,
            "_model_module": "@jupyter-widgets/base",
            "top": null,
            "grid_column": null,
            "overflow_y": null,
            "overflow_x": null,
            "grid_auto_flow": null,
            "grid_area": null,
            "grid_template_columns": null,
            "flex": null,
            "_model_name": "LayoutModel",
            "justify_items": null,
            "grid_row": null,
            "max_height": null,
            "align_content": null,
            "visibility": null,
            "align_self": null,
            "height": null,
            "min_height": null,
            "padding": null,
            "grid_auto_rows": null,
            "grid_gap": null,
            "max_width": null,
            "order": null,
            "_view_module_version": "1.2.0",
            "grid_template_areas": null,
            "object_position": null,
            "object_fit": null,
            "grid_auto_columns": null,
            "margin": null,
            "display": null,
            "left": null
          }
        },
        "187a34cb3f0c41e285025bb46b06604f": {
          "model_module": "@jupyter-widgets/controls",
          "model_name": "IntProgressModel",
          "state": {
            "_view_name": "ProgressView",
            "style": "IPY_MODEL_ce403f495b2548adbacd33945614dade",
            "_dom_classes": [],
            "description": "100%",
            "_model_name": "IntProgressModel",
            "bar_style": "success",
            "max": 68805,
            "_view_module": "@jupyter-widgets/controls",
            "_model_module_version": "1.5.0",
            "value": 68805,
            "_view_count": null,
            "_view_module_version": "1.5.0",
            "orientation": "horizontal",
            "min": 0,
            "description_tooltip": null,
            "_model_module": "@jupyter-widgets/controls",
            "layout": "IPY_MODEL_4680a465e8e943b2b517711aa55656bd"
          }
        },
        "8daee4acc52b4bf0bbe3008bdcbc2adf": {
          "model_module": "@jupyter-widgets/controls",
          "model_name": "HTMLModel",
          "state": {
            "_view_name": "HTMLView",
            "style": "IPY_MODEL_7b09966ea7d94136bbd9aa8aaf54c44c",
            "_dom_classes": [],
            "description": "",
            "_model_name": "HTMLModel",
            "placeholder": "​",
            "_view_module": "@jupyter-widgets/controls",
            "_model_module_version": "1.5.0",
            "value": " 68805/68805 [07:08&lt;00:00, 160.59it/s]",
            "_view_count": null,
            "_view_module_version": "1.5.0",
            "description_tooltip": null,
            "_model_module": "@jupyter-widgets/controls",
            "layout": "IPY_MODEL_127243cc244e4d61aeddfe47aa88af05"
          }
        },
        "ce403f495b2548adbacd33945614dade": {
          "model_module": "@jupyter-widgets/controls",
          "model_name": "ProgressStyleModel",
          "state": {
            "_view_name": "StyleView",
            "_model_name": "ProgressStyleModel",
            "description_width": "initial",
            "_view_module": "@jupyter-widgets/base",
            "_model_module_version": "1.5.0",
            "_view_count": null,
            "_view_module_version": "1.2.0",
            "bar_color": null,
            "_model_module": "@jupyter-widgets/controls"
          }
        },
        "4680a465e8e943b2b517711aa55656bd": {
          "model_module": "@jupyter-widgets/base",
          "model_name": "LayoutModel",
          "state": {
            "_view_name": "LayoutView",
            "grid_template_rows": null,
            "right": null,
            "justify_content": null,
            "_view_module": "@jupyter-widgets/base",
            "overflow": null,
            "_model_module_version": "1.2.0",
            "_view_count": null,
            "flex_flow": null,
            "width": null,
            "min_width": null,
            "border": null,
            "align_items": null,
            "bottom": null,
            "_model_module": "@jupyter-widgets/base",
            "top": null,
            "grid_column": null,
            "overflow_y": null,
            "overflow_x": null,
            "grid_auto_flow": null,
            "grid_area": null,
            "grid_template_columns": null,
            "flex": null,
            "_model_name": "LayoutModel",
            "justify_items": null,
            "grid_row": null,
            "max_height": null,
            "align_content": null,
            "visibility": null,
            "align_self": null,
            "height": null,
            "min_height": null,
            "padding": null,
            "grid_auto_rows": null,
            "grid_gap": null,
            "max_width": null,
            "order": null,
            "_view_module_version": "1.2.0",
            "grid_template_areas": null,
            "object_position": null,
            "object_fit": null,
            "grid_auto_columns": null,
            "margin": null,
            "display": null,
            "left": null
          }
        },
        "7b09966ea7d94136bbd9aa8aaf54c44c": {
          "model_module": "@jupyter-widgets/controls",
          "model_name": "DescriptionStyleModel",
          "state": {
            "_view_name": "StyleView",
            "_model_name": "DescriptionStyleModel",
            "description_width": "",
            "_view_module": "@jupyter-widgets/base",
            "_model_module_version": "1.5.0",
            "_view_count": null,
            "_view_module_version": "1.2.0",
            "_model_module": "@jupyter-widgets/controls"
          }
        },
        "127243cc244e4d61aeddfe47aa88af05": {
          "model_module": "@jupyter-widgets/base",
          "model_name": "LayoutModel",
          "state": {
            "_view_name": "LayoutView",
            "grid_template_rows": null,
            "right": null,
            "justify_content": null,
            "_view_module": "@jupyter-widgets/base",
            "overflow": null,
            "_model_module_version": "1.2.0",
            "_view_count": null,
            "flex_flow": null,
            "width": null,
            "min_width": null,
            "border": null,
            "align_items": null,
            "bottom": null,
            "_model_module": "@jupyter-widgets/base",
            "top": null,
            "grid_column": null,
            "overflow_y": null,
            "overflow_x": null,
            "grid_auto_flow": null,
            "grid_area": null,
            "grid_template_columns": null,
            "flex": null,
            "_model_name": "LayoutModel",
            "justify_items": null,
            "grid_row": null,
            "max_height": null,
            "align_content": null,
            "visibility": null,
            "align_self": null,
            "height": null,
            "min_height": null,
            "padding": null,
            "grid_auto_rows": null,
            "grid_gap": null,
            "max_width": null,
            "order": null,
            "_view_module_version": "1.2.0",
            "grid_template_areas": null,
            "object_position": null,
            "object_fit": null,
            "grid_auto_columns": null,
            "margin": null,
            "display": null,
            "left": null
          }
        },
        "e9c3d93673344cfcb847bbb10bae4772": {
          "model_module": "@jupyter-widgets/controls",
          "model_name": "HBoxModel",
          "state": {
            "_view_name": "HBoxView",
            "_dom_classes": [],
            "_model_name": "HBoxModel",
            "_view_module": "@jupyter-widgets/controls",
            "_model_module_version": "1.5.0",
            "_view_count": null,
            "_view_module_version": "1.5.0",
            "box_style": "",
            "layout": "IPY_MODEL_959373ddd1ae49aab42fa641a7a2216d",
            "_model_module": "@jupyter-widgets/controls",
            "children": [
              "IPY_MODEL_66d5c7e0966846bba7100c5c7f001b30",
              "IPY_MODEL_2ec1acaf9508433098e86ad362d3a737"
            ]
          }
        },
        "959373ddd1ae49aab42fa641a7a2216d": {
          "model_module": "@jupyter-widgets/base",
          "model_name": "LayoutModel",
          "state": {
            "_view_name": "LayoutView",
            "grid_template_rows": null,
            "right": null,
            "justify_content": null,
            "_view_module": "@jupyter-widgets/base",
            "overflow": null,
            "_model_module_version": "1.2.0",
            "_view_count": null,
            "flex_flow": null,
            "width": null,
            "min_width": null,
            "border": null,
            "align_items": null,
            "bottom": null,
            "_model_module": "@jupyter-widgets/base",
            "top": null,
            "grid_column": null,
            "overflow_y": null,
            "overflow_x": null,
            "grid_auto_flow": null,
            "grid_area": null,
            "grid_template_columns": null,
            "flex": null,
            "_model_name": "LayoutModel",
            "justify_items": null,
            "grid_row": null,
            "max_height": null,
            "align_content": null,
            "visibility": null,
            "align_self": null,
            "height": null,
            "min_height": null,
            "padding": null,
            "grid_auto_rows": null,
            "grid_gap": null,
            "max_width": null,
            "order": null,
            "_view_module_version": "1.2.0",
            "grid_template_areas": null,
            "object_position": null,
            "object_fit": null,
            "grid_auto_columns": null,
            "margin": null,
            "display": null,
            "left": null
          }
        },
        "66d5c7e0966846bba7100c5c7f001b30": {
          "model_module": "@jupyter-widgets/controls",
          "model_name": "IntProgressModel",
          "state": {
            "_view_name": "ProgressView",
            "style": "IPY_MODEL_c68e022b7c05413e91c3dc3ab235cdd2",
            "_dom_classes": [],
            "description": "100%",
            "_model_name": "IntProgressModel",
            "bar_style": "success",
            "max": 12143,
            "_view_module": "@jupyter-widgets/controls",
            "_model_module_version": "1.5.0",
            "value": 12143,
            "_view_count": null,
            "_view_module_version": "1.5.0",
            "orientation": "horizontal",
            "min": 0,
            "description_tooltip": null,
            "_model_module": "@jupyter-widgets/controls",
            "layout": "IPY_MODEL_cf02453460a04f93a82cbbe40512c19c"
          }
        },
        "2ec1acaf9508433098e86ad362d3a737": {
          "model_module": "@jupyter-widgets/controls",
          "model_name": "HTMLModel",
          "state": {
            "_view_name": "HTMLView",
            "style": "IPY_MODEL_9cbb7a4ea5974ccbb9a2f108bce9f66e",
            "_dom_classes": [],
            "description": "",
            "_model_name": "HTMLModel",
            "placeholder": "​",
            "_view_module": "@jupyter-widgets/controls",
            "_model_module_version": "1.5.0",
            "value": " 12143/12143 [01:16&lt;00:00, 158.98it/s]",
            "_view_count": null,
            "_view_module_version": "1.5.0",
            "description_tooltip": null,
            "_model_module": "@jupyter-widgets/controls",
            "layout": "IPY_MODEL_c5704f71c2ce4e288b7677599234f3f0"
          }
        },
        "c68e022b7c05413e91c3dc3ab235cdd2": {
          "model_module": "@jupyter-widgets/controls",
          "model_name": "ProgressStyleModel",
          "state": {
            "_view_name": "StyleView",
            "_model_name": "ProgressStyleModel",
            "description_width": "initial",
            "_view_module": "@jupyter-widgets/base",
            "_model_module_version": "1.5.0",
            "_view_count": null,
            "_view_module_version": "1.2.0",
            "bar_color": null,
            "_model_module": "@jupyter-widgets/controls"
          }
        },
        "cf02453460a04f93a82cbbe40512c19c": {
          "model_module": "@jupyter-widgets/base",
          "model_name": "LayoutModel",
          "state": {
            "_view_name": "LayoutView",
            "grid_template_rows": null,
            "right": null,
            "justify_content": null,
            "_view_module": "@jupyter-widgets/base",
            "overflow": null,
            "_model_module_version": "1.2.0",
            "_view_count": null,
            "flex_flow": null,
            "width": null,
            "min_width": null,
            "border": null,
            "align_items": null,
            "bottom": null,
            "_model_module": "@jupyter-widgets/base",
            "top": null,
            "grid_column": null,
            "overflow_y": null,
            "overflow_x": null,
            "grid_auto_flow": null,
            "grid_area": null,
            "grid_template_columns": null,
            "flex": null,
            "_model_name": "LayoutModel",
            "justify_items": null,
            "grid_row": null,
            "max_height": null,
            "align_content": null,
            "visibility": null,
            "align_self": null,
            "height": null,
            "min_height": null,
            "padding": null,
            "grid_auto_rows": null,
            "grid_gap": null,
            "max_width": null,
            "order": null,
            "_view_module_version": "1.2.0",
            "grid_template_areas": null,
            "object_position": null,
            "object_fit": null,
            "grid_auto_columns": null,
            "margin": null,
            "display": null,
            "left": null
          }
        },
        "9cbb7a4ea5974ccbb9a2f108bce9f66e": {
          "model_module": "@jupyter-widgets/controls",
          "model_name": "DescriptionStyleModel",
          "state": {
            "_view_name": "StyleView",
            "_model_name": "DescriptionStyleModel",
            "description_width": "",
            "_view_module": "@jupyter-widgets/base",
            "_model_module_version": "1.5.0",
            "_view_count": null,
            "_view_module_version": "1.2.0",
            "_model_module": "@jupyter-widgets/controls"
          }
        },
        "c5704f71c2ce4e288b7677599234f3f0": {
          "model_module": "@jupyter-widgets/base",
          "model_name": "LayoutModel",
          "state": {
            "_view_name": "LayoutView",
            "grid_template_rows": null,
            "right": null,
            "justify_content": null,
            "_view_module": "@jupyter-widgets/base",
            "overflow": null,
            "_model_module_version": "1.2.0",
            "_view_count": null,
            "flex_flow": null,
            "width": null,
            "min_width": null,
            "border": null,
            "align_items": null,
            "bottom": null,
            "_model_module": "@jupyter-widgets/base",
            "top": null,
            "grid_column": null,
            "overflow_y": null,
            "overflow_x": null,
            "grid_auto_flow": null,
            "grid_area": null,
            "grid_template_columns": null,
            "flex": null,
            "_model_name": "LayoutModel",
            "justify_items": null,
            "grid_row": null,
            "max_height": null,
            "align_content": null,
            "visibility": null,
            "align_self": null,
            "height": null,
            "min_height": null,
            "padding": null,
            "grid_auto_rows": null,
            "grid_gap": null,
            "max_width": null,
            "order": null,
            "_view_module_version": "1.2.0",
            "grid_template_areas": null,
            "object_position": null,
            "object_fit": null,
            "grid_auto_columns": null,
            "margin": null,
            "display": null,
            "left": null
          }
        },
        "7221fbf33e5e40e5b964191eb3417cce": {
          "model_module": "@jupyter-widgets/controls",
          "model_name": "HBoxModel",
          "state": {
            "_view_name": "HBoxView",
            "_dom_classes": [],
            "_model_name": "HBoxModel",
            "_view_module": "@jupyter-widgets/controls",
            "_model_module_version": "1.5.0",
            "_view_count": null,
            "_view_module_version": "1.5.0",
            "box_style": "",
            "layout": "IPY_MODEL_bc86ea4df86d48988f90715ecd44146c",
            "_model_module": "@jupyter-widgets/controls",
            "children": [
              "IPY_MODEL_fde5418e32f545c581eccfd1fe21cd68",
              "IPY_MODEL_f65bac88fe574b488bebe05cd02e2413"
            ]
          }
        },
        "bc86ea4df86d48988f90715ecd44146c": {
          "model_module": "@jupyter-widgets/base",
          "model_name": "LayoutModel",
          "state": {
            "_view_name": "LayoutView",
            "grid_template_rows": null,
            "right": null,
            "justify_content": null,
            "_view_module": "@jupyter-widgets/base",
            "overflow": null,
            "_model_module_version": "1.2.0",
            "_view_count": null,
            "flex_flow": null,
            "width": null,
            "min_width": null,
            "border": null,
            "align_items": null,
            "bottom": null,
            "_model_module": "@jupyter-widgets/base",
            "top": null,
            "grid_column": null,
            "overflow_y": null,
            "overflow_x": null,
            "grid_auto_flow": null,
            "grid_area": null,
            "grid_template_columns": null,
            "flex": null,
            "_model_name": "LayoutModel",
            "justify_items": null,
            "grid_row": null,
            "max_height": null,
            "align_content": null,
            "visibility": null,
            "align_self": null,
            "height": null,
            "min_height": null,
            "padding": null,
            "grid_auto_rows": null,
            "grid_gap": null,
            "max_width": null,
            "order": null,
            "_view_module_version": "1.2.0",
            "grid_template_areas": null,
            "object_position": null,
            "object_fit": null,
            "grid_auto_columns": null,
            "margin": null,
            "display": null,
            "left": null
          }
        },
        "fde5418e32f545c581eccfd1fe21cd68": {
          "model_module": "@jupyter-widgets/controls",
          "model_name": "IntProgressModel",
          "state": {
            "_view_name": "ProgressView",
            "style": "IPY_MODEL_2c56ce1075394dbeb5d8404cb6c97868",
            "_dom_classes": [],
            "description": "",
            "_model_name": "IntProgressModel",
            "bar_style": "success",
            "max": 1,
            "_view_module": "@jupyter-widgets/controls",
            "_model_module_version": "1.5.0",
            "value": 1,
            "_view_count": null,
            "_view_module_version": "1.5.0",
            "orientation": "horizontal",
            "min": 0,
            "description_tooltip": null,
            "_model_module": "@jupyter-widgets/controls",
            "layout": "IPY_MODEL_1dee8528e8604ed3b6de3a21056d09a9"
          }
        },
        "f65bac88fe574b488bebe05cd02e2413": {
          "model_module": "@jupyter-widgets/controls",
          "model_name": "HTMLModel",
          "state": {
            "_view_name": "HTMLView",
            "style": "IPY_MODEL_92f925aab68b4a1f97cfbcbc829ee227",
            "_dom_classes": [],
            "description": "",
            "_model_name": "HTMLModel",
            "placeholder": "​",
            "_view_module": "@jupyter-widgets/controls",
            "_model_module_version": "1.5.0",
            "value": " 68805/? [00:13&lt;00:00, 4957.88it/s]",
            "_view_count": null,
            "_view_module_version": "1.5.0",
            "description_tooltip": null,
            "_model_module": "@jupyter-widgets/controls",
            "layout": "IPY_MODEL_c48471a6197d443a8a828b1db3f9455c"
          }
        },
        "2c56ce1075394dbeb5d8404cb6c97868": {
          "model_module": "@jupyter-widgets/controls",
          "model_name": "ProgressStyleModel",
          "state": {
            "_view_name": "StyleView",
            "_model_name": "ProgressStyleModel",
            "description_width": "initial",
            "_view_module": "@jupyter-widgets/base",
            "_model_module_version": "1.5.0",
            "_view_count": null,
            "_view_module_version": "1.2.0",
            "bar_color": null,
            "_model_module": "@jupyter-widgets/controls"
          }
        },
        "1dee8528e8604ed3b6de3a21056d09a9": {
          "model_module": "@jupyter-widgets/base",
          "model_name": "LayoutModel",
          "state": {
            "_view_name": "LayoutView",
            "grid_template_rows": null,
            "right": null,
            "justify_content": null,
            "_view_module": "@jupyter-widgets/base",
            "overflow": null,
            "_model_module_version": "1.2.0",
            "_view_count": null,
            "flex_flow": null,
            "width": null,
            "min_width": null,
            "border": null,
            "align_items": null,
            "bottom": null,
            "_model_module": "@jupyter-widgets/base",
            "top": null,
            "grid_column": null,
            "overflow_y": null,
            "overflow_x": null,
            "grid_auto_flow": null,
            "grid_area": null,
            "grid_template_columns": null,
            "flex": null,
            "_model_name": "LayoutModel",
            "justify_items": null,
            "grid_row": null,
            "max_height": null,
            "align_content": null,
            "visibility": null,
            "align_self": null,
            "height": null,
            "min_height": null,
            "padding": null,
            "grid_auto_rows": null,
            "grid_gap": null,
            "max_width": null,
            "order": null,
            "_view_module_version": "1.2.0",
            "grid_template_areas": null,
            "object_position": null,
            "object_fit": null,
            "grid_auto_columns": null,
            "margin": null,
            "display": null,
            "left": null
          }
        },
        "92f925aab68b4a1f97cfbcbc829ee227": {
          "model_module": "@jupyter-widgets/controls",
          "model_name": "DescriptionStyleModel",
          "state": {
            "_view_name": "StyleView",
            "_model_name": "DescriptionStyleModel",
            "description_width": "",
            "_view_module": "@jupyter-widgets/base",
            "_model_module_version": "1.5.0",
            "_view_count": null,
            "_view_module_version": "1.2.0",
            "_model_module": "@jupyter-widgets/controls"
          }
        },
        "c48471a6197d443a8a828b1db3f9455c": {
          "model_module": "@jupyter-widgets/base",
          "model_name": "LayoutModel",
          "state": {
            "_view_name": "LayoutView",
            "grid_template_rows": null,
            "right": null,
            "justify_content": null,
            "_view_module": "@jupyter-widgets/base",
            "overflow": null,
            "_model_module_version": "1.2.0",
            "_view_count": null,
            "flex_flow": null,
            "width": null,
            "min_width": null,
            "border": null,
            "align_items": null,
            "bottom": null,
            "_model_module": "@jupyter-widgets/base",
            "top": null,
            "grid_column": null,
            "overflow_y": null,
            "overflow_x": null,
            "grid_auto_flow": null,
            "grid_area": null,
            "grid_template_columns": null,
            "flex": null,
            "_model_name": "LayoutModel",
            "justify_items": null,
            "grid_row": null,
            "max_height": null,
            "align_content": null,
            "visibility": null,
            "align_self": null,
            "height": null,
            "min_height": null,
            "padding": null,
            "grid_auto_rows": null,
            "grid_gap": null,
            "max_width": null,
            "order": null,
            "_view_module_version": "1.2.0",
            "grid_template_areas": null,
            "object_position": null,
            "object_fit": null,
            "grid_auto_columns": null,
            "margin": null,
            "display": null,
            "left": null
          }
        }
      }
    }
  },
  "cells": [
    {
      "cell_type": "code",
      "metadata": {
        "id": "5izbrngVuQuJ",
        "colab_type": "code",
        "colab": {}
      },
      "source": [
        "import pandas as pd\n",
        "import random\n",
        "import io\n",
        "import ast\n",
        "import numpy as np\n",
        "import os\n",
        "import re\n",
        "import string\n",
        "import pickle\n",
        "%matplotlib inline\n",
        "import matplotlib\n",
        "import matplotlib.pyplot as plt\n",
        "import seaborn as sns\n",
        "from tqdm import tnrange\n",
        "from tqdm import tqdm_notebook as tqdm\n",
        "from collections import Counter\n",
        "import nltk\n",
        "from nltk.stem import WordNetLemmatizer\n",
        "from sklearn.feature_extraction.text import CountVectorizer, TfidfVectorizer"
      ],
      "execution_count": 0,
      "outputs": []
    },
    {
      "cell_type": "code",
      "metadata": {
        "id": "bmeGJwlG_XUz",
        "colab_type": "code",
        "colab": {}
      },
      "source": [
        "random.seed(13)\n",
        "np.random.seed(13)"
      ],
      "execution_count": 0,
      "outputs": []
    },
    {
      "cell_type": "markdown",
      "metadata": {
        "id": "vNPnydy6xyQV",
        "colab_type": "text"
      },
      "source": [
        "### Loading texts, split on train, val and test\n"
      ]
    },
    {
      "cell_type": "code",
      "metadata": {
        "id": "AaVg7E10vkDU",
        "colab_type": "code",
        "outputId": "8617776d-61e3-4205-ebf1-827881c48d13",
        "colab": {
          "base_uri": "https://localhost:8080/",
          "height": 765
        }
      },
      "source": [
        "!wget https://www.dropbox.com/s/n8nfxxh5azocrrm/train_LASER.csv?dl=0\n",
        "!wget https://www.dropbox.com/s/je9am5c77ytfcaf/test_LASER.csv?dl=0 "
      ],
      "execution_count": 3,
      "outputs": [
        {
          "output_type": "stream",
          "text": [
            "--2020-05-02 10:50:19--  https://www.dropbox.com/s/n8nfxxh5azocrrm/train_LASER.csv?dl=0\n",
            "Resolving www.dropbox.com (www.dropbox.com)... 162.125.9.1, 2620:100:601f:1::a27d:901\n",
            "Connecting to www.dropbox.com (www.dropbox.com)|162.125.9.1|:443... connected.\n",
            "HTTP request sent, awaiting response... 301 Moved Permanently\n",
            "Location: /s/raw/n8nfxxh5azocrrm/train_LASER.csv [following]\n",
            "--2020-05-02 10:50:19--  https://www.dropbox.com/s/raw/n8nfxxh5azocrrm/train_LASER.csv\n",
            "Reusing existing connection to www.dropbox.com:443.\n",
            "HTTP request sent, awaiting response... 302 Found\n",
            "Location: https://uc72de2fc62b14c0bd6494894e9f.dl.dropboxusercontent.com/cd/0/inline/A28fJRSnH4CeYIEHZ7ES0cO_0nfQL043Fgfvwkv0ZCq4UMsBRxcQ2Wc8hHs66gr5vViXNij82u1sZqiag5_CEkV_KS2vZ8DaNp8cNgS9kjvQs6wf9kmNaO9u9Ttbphujuyk/file# [following]\n",
            "--2020-05-02 10:50:19--  https://uc72de2fc62b14c0bd6494894e9f.dl.dropboxusercontent.com/cd/0/inline/A28fJRSnH4CeYIEHZ7ES0cO_0nfQL043Fgfvwkv0ZCq4UMsBRxcQ2Wc8hHs66gr5vViXNij82u1sZqiag5_CEkV_KS2vZ8DaNp8cNgS9kjvQs6wf9kmNaO9u9Ttbphujuyk/file\n",
            "Resolving uc72de2fc62b14c0bd6494894e9f.dl.dropboxusercontent.com (uc72de2fc62b14c0bd6494894e9f.dl.dropboxusercontent.com)... 162.125.9.6, 2620:100:601f:6::a27d:906\n",
            "Connecting to uc72de2fc62b14c0bd6494894e9f.dl.dropboxusercontent.com (uc72de2fc62b14c0bd6494894e9f.dl.dropboxusercontent.com)|162.125.9.6|:443... connected.\n",
            "HTTP request sent, awaiting response... 200 OK\n",
            "Length: 1138912664 (1.1G) [text/plain]\n",
            "Saving to: ‘train_LASER.csv?dl=0’\n",
            "\n",
            "train_LASER.csv?dl= 100%[===================>]   1.06G  75.1MB/s    in 14s     \n",
            "\n",
            "2020-05-02 10:50:34 (76.3 MB/s) - ‘train_LASER.csv?dl=0’ saved [1138912664/1138912664]\n",
            "\n",
            "--2020-05-02 10:50:36--  https://www.dropbox.com/s/je9am5c77ytfcaf/test_LASER.csv?dl=0\n",
            "Resolving www.dropbox.com (www.dropbox.com)... 162.125.9.1, 2620:100:601f:1::a27d:901\n",
            "Connecting to www.dropbox.com (www.dropbox.com)|162.125.9.1|:443... connected.\n",
            "HTTP request sent, awaiting response... 301 Moved Permanently\n",
            "Location: /s/raw/je9am5c77ytfcaf/test_LASER.csv [following]\n",
            "--2020-05-02 10:50:36--  https://www.dropbox.com/s/raw/je9am5c77ytfcaf/test_LASER.csv\n",
            "Reusing existing connection to www.dropbox.com:443.\n",
            "HTTP request sent, awaiting response... 302 Found\n",
            "Location: https://uc2877492a79c1a9e892eee038c2.dl.dropboxusercontent.com/cd/0/inline/A29U7wf815zZC5IqBHn_mpEXpmw2ueEGMIX6wD-ELd6G2E7hJMeaSvom2et9zu4BHhGzgFIh6WQI-NczrYeSvABTfbOQjKq6fyHaV9bD-SM41pyiiQ7mYJXOCoaA7sjldXQ/file# [following]\n",
            "--2020-05-02 10:50:36--  https://uc2877492a79c1a9e892eee038c2.dl.dropboxusercontent.com/cd/0/inline/A29U7wf815zZC5IqBHn_mpEXpmw2ueEGMIX6wD-ELd6G2E7hJMeaSvom2et9zu4BHhGzgFIh6WQI-NczrYeSvABTfbOQjKq6fyHaV9bD-SM41pyiiQ7mYJXOCoaA7sjldXQ/file\n",
            "Resolving uc2877492a79c1a9e892eee038c2.dl.dropboxusercontent.com (uc2877492a79c1a9e892eee038c2.dl.dropboxusercontent.com)... 162.125.9.6, 2620:100:601b:6::a27d:806\n",
            "Connecting to uc2877492a79c1a9e892eee038c2.dl.dropboxusercontent.com (uc2877492a79c1a9e892eee038c2.dl.dropboxusercontent.com)|162.125.9.6|:443... connected.\n",
            "HTTP request sent, awaiting response... 200 OK\n",
            "Length: 18325202 (17M) [text/plain]\n",
            "Saving to: ‘test_LASER.csv?dl=0’\n",
            "\n",
            "test_LASER.csv?dl=0 100%[===================>]  17.48M  69.0MB/s    in 0.3s    \n",
            "\n",
            "2020-05-02 10:50:37 (69.0 MB/s) - ‘test_LASER.csv?dl=0’ saved [18325202/18325202]\n",
            "\n"
          ],
          "name": "stdout"
        }
      ]
    },
    {
      "cell_type": "code",
      "metadata": {
        "id": "QC6EFOJkwzhP",
        "colab_type": "code",
        "outputId": "568a9eaa-7c6e-4c91-9241-8a369d1db018",
        "colab": {
          "base_uri": "https://localhost:8080/",
          "height": 35
        }
      },
      "source": [
        "df_train = pd.read_csv(\"train_LASER.csv?dl=0\").dropna()\n",
        "\n",
        "train_texts = list(df_train['abstracts'])\n",
        "train_labels = list(df_train['labels'])\n",
        "len(train_labels)\n"
      ],
      "execution_count": 4,
      "outputs": [
        {
          "output_type": "execute_result",
          "data": {
            "text/plain": [
              "80948"
            ]
          },
          "metadata": {
            "tags": []
          },
          "execution_count": 4
        }
      ]
    },
    {
      "cell_type": "code",
      "metadata": {
        "id": "T4OZLa5aTew2",
        "colab_type": "code",
        "outputId": "741ccefb-c8ba-496c-e99a-422ad1794e8a",
        "colab": {
          "base_uri": "https://localhost:8080/",
          "height": 35
        }
      },
      "source": [
        "df_test = pd.read_csv(\"test_LASER.csv?dl=0\").dropna()\n",
        "\n",
        "test_texts = list(df_test['lemm_abstracts'])\n",
        "test_labels = list(df_test['labels'])\n",
        "len(test_labels)"
      ],
      "execution_count": 5,
      "outputs": [
        {
          "output_type": "execute_result",
          "data": {
            "text/plain": [
              "10150"
            ]
          },
          "metadata": {
            "tags": []
          },
          "execution_count": 5
        }
      ]
    },
    {
      "cell_type": "code",
      "metadata": {
        "id": "lWEn8ELccT4v",
        "colab_type": "code",
        "outputId": "0256187d-4dec-4793-dd24-c29beae8e8e0",
        "colab": {
          "base_uri": "https://localhost:8080/",
          "height": 55
        }
      },
      "source": [
        "test_texts[1000]"
      ],
      "execution_count": 6,
      "outputs": [
        {
          "output_type": "execute_result",
          "data": {
            "text/plain": [
              "'использование биотехнология, медицинская микробиология и может быть использовано в производстве эубиотических препаратов и бифидосодержащих продуктов питания. сущность изобретения питательная среда в качестве основы содержит молочную сыворотку, осветленную последовательной обработкой обезжиренного молока кислотой и щелочью, и дрожжевой автолизат сухой или жидкий и дополнительно натрий фосфорнокислый однозамещенный двуводный, аммоний хлористый и магний сернокислый семиводный, при следующем соотношении компонентов мас. молочная сыворотка осветленная , , , лактоза , , , дрожжевой автолизат сухой или жидкий , , и , , , d,l цистеин , , , nah po • h o , , , nh cl , , , mgso • h o , , , агар агар , , , вода остальное, ph , , .'"
            ]
          },
          "metadata": {
            "tags": []
          },
          "execution_count": 6
        }
      ]
    },
    {
      "cell_type": "code",
      "metadata": {
        "id": "CbKBiX8GwI_T",
        "colab_type": "code",
        "colab": {}
      },
      "source": [
        "#разбиваем на train и val английские тексты\n",
        "from sklearn.model_selection import train_test_split\n",
        "\n",
        "train_texts, val_texts, train_labels, val_labels = train_test_split(train_texts, train_labels, \\\n",
        "                                                          test_size=0.15, shuffle = True, random_state=42, stratify=train_labels)"
      ],
      "execution_count": 0,
      "outputs": []
    },
    {
      "cell_type": "code",
      "metadata": {
        "id": "T7czM7Z-xM5a",
        "colab_type": "code",
        "outputId": "264c8530-b469-42cf-8b65-08fb524dec6b",
        "colab": {
          "base_uri": "https://localhost:8080/",
          "height": 54
        }
      },
      "source": [
        "print(len(train_labels))\n",
        "print(len(val_labels))"
      ],
      "execution_count": 8,
      "outputs": [
        {
          "output_type": "stream",
          "text": [
            "68805\n",
            "12143\n"
          ],
          "name": "stdout"
        }
      ]
    },
    {
      "cell_type": "code",
      "metadata": {
        "id": "4l2lCj3f8S1t",
        "colab_type": "code",
        "outputId": "4290b1f9-83a4-476e-f1bc-02088cce3df3",
        "colab": {
          "base_uri": "https://localhost:8080/",
          "height": 35
        }
      },
      "source": [
        "from sklearn.preprocessing import LabelEncoder\n",
        "label_encoder = LabelEncoder()\n",
        "y_train = label_encoder.fit_transform(train_labels)\n",
        "y_val = label_encoder.transform(val_labels)\n",
        "y_test = label_encoder.transform(test_labels)\n",
        "\n",
        "y_train[:10]"
      ],
      "execution_count": 9,
      "outputs": [
        {
          "output_type": "execute_result",
          "data": {
            "text/plain": [
              "array([ 58, 199, 218,   7, 196, 115,  69,   1,  13,  23])"
            ]
          },
          "metadata": {
            "tags": []
          },
          "execution_count": 9
        }
      ]
    },
    {
      "cell_type": "markdown",
      "metadata": {
        "id": "_1SNefANc4tQ",
        "colab_type": "text"
      },
      "source": [
        "### Cleaning"
      ]
    },
    {
      "cell_type": "code",
      "metadata": {
        "id": "wZQUD4Xhc7FC",
        "colab_type": "code",
        "colab": {}
      },
      "source": [
        "def cleaning(text):\n",
        "    clean_txt = []\n",
        "    for sentence in text.split('.'): \n",
        "        sentence = re.sub(r'[•⋅−,]', ' ', sentence)\n",
        "        sent = re.sub(r'( )+', ' ', sentence)\n",
        "     #   if len(sent.split()) > 2 and sent != 'ф лы, ил':\n",
        "        if len(sent.split()) > 2 and 'ф лы' not in sent:\n",
        "             clean_txt.append(sent.strip())\n",
        "    return ' '.join(clean_txt) "
      ],
      "execution_count": 0,
      "outputs": []
    },
    {
      "cell_type": "code",
      "metadata": {
        "id": "y00jxnOKdGqU",
        "colab_type": "code",
        "outputId": "1aae0669-2877-4efe-ae1a-cbb558ec86a2",
        "colab": {
          "base_uri": "https://localhost:8080/",
          "height": 351,
          "referenced_widgets": [
            "31d28b4ee2394a0888ce862d40bd8bbf",
            "1da0c0e4d9ee4f1fa2e42e360e047275",
            "46b01820723b4430bc7b4453e9bf45ee",
            "17db634e3cdf4db6a6ec27024c87985e",
            "183f81d7bbe3415c8e4710330024f3fe",
            "2ee264cb54d441a9ab32d5f7b70bf613",
            "6024020aaff441499ca22018fa5cf84e",
            "9d2226e64f664fe8ba94119c90a02048",
            "e5ec8f173ccd47f1ae2e030640c83ccc",
            "5af399efb3044bf8a0c186cf50d8e1eb",
            "0cf2e92414134507b72d2da6cc97b00a",
            "4f2f3dcb3a5e485e9c9de389a6445e36",
            "976f24d0bcf24ed5a9f5502040d3ca0f",
            "51fd8bee13094fd78db54dd75ffc4aa5",
            "5f1fa08d409748638bfc87aff48f2dba",
            "86189c440c464840a1883b623f954990",
            "28e5e7a6269548098454756180546b8a",
            "bc54bc678edd4ffda7c8b6f967a8ac63",
            "3600e2ef299f46d5bc7acf781801fedc",
            "90f00d5539e64b679779c878a1f28029",
            "24631e48b8a447298423c19b25579a53",
            "fcf64e48713543a8a24c3d613e249dda",
            "bc1740e736c246648c93f966da1968da",
            "0c5f56121b0f4b11985ca563c57cf84a"
          ]
        }
      },
      "source": [
        "test_texts = [cleaning(text) for text in tqdm(test_texts)]\n",
        "val_texts = [cleaning(text) for text in tqdm(val_texts)]\n",
        "train_texts = [cleaning(text) for text in tqdm(train_texts)]"
      ],
      "execution_count": 11,
      "outputs": [
        {
          "output_type": "stream",
          "text": [
            "/usr/local/lib/python3.6/dist-packages/ipykernel_launcher.py:1: TqdmDeprecationWarning: This function will be removed in tqdm==5.0.0\n",
            "Please use `tqdm.notebook.tqdm` instead of `tqdm.tqdm_notebook`\n",
            "  \"\"\"Entry point for launching an IPython kernel.\n"
          ],
          "name": "stderr"
        },
        {
          "output_type": "display_data",
          "data": {
            "application/vnd.jupyter.widget-view+json": {
              "model_id": "31d28b4ee2394a0888ce862d40bd8bbf",
              "version_minor": 0,
              "version_major": 2
            },
            "text/plain": [
              "HBox(children=(IntProgress(value=0, max=10150), HTML(value='')))"
            ]
          },
          "metadata": {
            "tags": []
          }
        },
        {
          "output_type": "stream",
          "text": [
            "\n"
          ],
          "name": "stdout"
        },
        {
          "output_type": "stream",
          "text": [
            "/usr/local/lib/python3.6/dist-packages/ipykernel_launcher.py:2: TqdmDeprecationWarning: This function will be removed in tqdm==5.0.0\n",
            "Please use `tqdm.notebook.tqdm` instead of `tqdm.tqdm_notebook`\n",
            "  \n"
          ],
          "name": "stderr"
        },
        {
          "output_type": "display_data",
          "data": {
            "application/vnd.jupyter.widget-view+json": {
              "model_id": "e5ec8f173ccd47f1ae2e030640c83ccc",
              "version_minor": 0,
              "version_major": 2
            },
            "text/plain": [
              "HBox(children=(IntProgress(value=0, max=12143), HTML(value='')))"
            ]
          },
          "metadata": {
            "tags": []
          }
        },
        {
          "output_type": "stream",
          "text": [
            "\n"
          ],
          "name": "stdout"
        },
        {
          "output_type": "stream",
          "text": [
            "/usr/local/lib/python3.6/dist-packages/ipykernel_launcher.py:3: TqdmDeprecationWarning: This function will be removed in tqdm==5.0.0\n",
            "Please use `tqdm.notebook.tqdm` instead of `tqdm.tqdm_notebook`\n",
            "  This is separate from the ipykernel package so we can avoid doing imports until\n"
          ],
          "name": "stderr"
        },
        {
          "output_type": "display_data",
          "data": {
            "application/vnd.jupyter.widget-view+json": {
              "model_id": "28e5e7a6269548098454756180546b8a",
              "version_minor": 0,
              "version_major": 2
            },
            "text/plain": [
              "HBox(children=(IntProgress(value=0, max=68805), HTML(value='')))"
            ]
          },
          "metadata": {
            "tags": []
          }
        },
        {
          "output_type": "stream",
          "text": [
            "\n"
          ],
          "name": "stdout"
        }
      ]
    },
    {
      "cell_type": "code",
      "metadata": {
        "id": "FgIkFRYLdZZE",
        "colab_type": "code",
        "outputId": "9d000007-0146-439a-cf7b-9b37ad6cbd51",
        "colab": {
          "base_uri": "https://localhost:8080/",
          "height": 219
        }
      },
      "source": [
        "test_texts[10:20]"
      ],
      "execution_count": 0,
      "outputs": [
        {
          "output_type": "execute_result",
          "data": {
            "text/plain": [
              "['замок относится к замкам предназначенным для ящиков чемоданов футляров обтекателей и других изделий и позволяет повысить его надежность он состоит из крючка и собственно замка имеющего основание и соединенный с ним осью рычаг серьгу связанную с рычагом и входящую в зацепление с крючком в замке предусмотрен несъемный фиксатор размещенный на рычаге имеющий подпружиненный штырь входящий в отверстие основания для исключения разъединения серьги и крючка в случае непроизвольного срыва фиксации рычага относительно основания и прихода тем самым рычага в положение открытия замка крючок снабжен упругой пластиной закрывающей его и предотвращающей выход серьги из крючка для обеспечения удобства вывода серьги из зацепления с крючком при открытии замка упругая пластина снабжена площадками выходящими из зоны крючка для отжатия пластины пальцами от носка крючка тем самым открытия крючка для вывода серьги',\n",
              " 'изобретение относится к вставной муфте для электрических шланговых кабелей в частности для применения в подземных горных разработках с содержащим токопроводящие жилы гибким защитным шлангом конец которого с обеспечением уплотнения и прочности на разрыв зажат между окружающей его опрессовочной втулкой и расположенной внутри опорной втулкой и с примыкающей к опрессовочной втулке соединительной гильзой в которую вводится вставка несущая контактные элементы электрически соединенные с токоведущими жилами согласно изобретению опрессовочная втулка объединена в одно целое с соединительной гильзой образуя единую соединительную обойму с которой вставка имеющая контактные элементы может соединяться посредством защелкивающегося стыка с обеспечением прочности на разрыв патентуемая муфта для шланговых кабелей обеспечивает простоту конструкции простоту монтажа и сравнительно малую себестоимость',\n",
              " 'привод предназначен для перестановки и следящего движения запорной и регулирующей арматуры газо нефтепродуктопроводов привод содержит электропневматическое управляющее устройство струйный двигатель редуктор поворотный механизм выходной вал устройство информации о положении выходного вала привода включающее магнитно герконовые конечные выключатели а также устройство ограничения максимальной величины передаваемого движущего момента при этом ограничитель максимальной величины передаваемого движущего момента выполнен в виде механизма возвратно поступательного перемещения стальной шторки которая расположена между неподвижно установленными герконами и неподвижно установленными постоянными магнитами технический результат повышение надежности срабатывания привода',\n",
              " 'изобретение относится к области полимеризации олефинов описан способ введения нескольких катализаторов в реакцию полимеризации олефинов проходящую в газофазном реакторе заключающийся во введении по меньшей мере двух катализаторов и по меньшей мере одного активатора где каждый катализатор активируют независимо и эти катализаторы и активаторы перед введением в реактор объединяют в жидком носителе технический результат способ позволяет получать олефины с особыми конфигурациями',\n",
              " 'изобретение может быть использовано для нанесения покрытия на внутреннюю поверхность колб электрических ламп обеспечивающего светорассеивающий эффект а в газоразрядной лампе преобразующего ультрафиолетовое излучение в излучение лежащее в области видимого света и позволяет повысить качество наносимого покрытия за счет обеспечения равномерной границы покрытия и экономное расходование порошковой смеси устройство содержит держатель колбы трубку подачи порошковой смеси ионизационный электрод заземляющее устройство откачную систему и внутреннюю и наружную трубы установленные с зазором одна в другую и расположенные вдоль внутренней стенки держателя на конце внутренней трубы с зазором между торцом наружной трубы выполнено кольцо с наружным диаметром равным или большим внутреннего диаметра наружной трубы а пространство между внутренней и наружной трубами соединено с системой поддува воздуха в производстве ртутных ламп высокого давления устройство позволяет эффективно наносить смеси люминофоров на колбы электростатическим методом исключить последующую технологическую операцию чистки горла колбы и улучшить внешний вид ламп',\n",
              " 'изобретение относится к области кино и фототехники и может быть использовано для контроля положения кино или фотопленки например при кино или фотосъемке копировании проецировании и монтаже контроль положения пленки осуществляют путем перемещения участка пленки через зазор между расположенными соосно волноводами и пропускания через перфорационные отверстия акустических колебаний волноводы расположенные с одной стороны пленки соединяют с по крайней мере одним источником акустических колебаний прошедшие через пленку акустические колебания регистрируют датчиками акустических колебаний причем из волноводов расположенных с другой стороны кино или фотопленки формируют по крайней мере две группы волноводы каждой из которых соединяют с одним датчиком волноводы каждой группы расположены с шагом кратным шагу перфорационных отверстий и смещены относительно волноводов любой другой группы на расстояние кратное шага перфорационных отверстий технический результат повышение надежности и точности определения положения пленки а также возможность определения наличия дефектов пленки и их расположение',\n",
              " 'изобретение относится к выдачному устройству для рулонов или стопок листового материала выдачное устройство выполнено с возможностью вертикальной выдачи листового материала выдачное устройство включает в себя корпус выполненный с возможностью поддержания внутри продукта из листового материала платформу с отверстием и выходную пластину выходная пластина выполнена с возможностью изменения положения когда пользователь осуществляет выдачу листового материала под углом отклонения относительно вертикальной оси выдачи выдачного устройства изобретение позволяет пользователю получить салфетку или полотенце адекватного размера без задержек и неудобных замятий',\n",
              " 'изобретение относится к сушилке для белья с усовершенствованным устройством обезвоживания воздуха сушилка для белья содержит камеру для подлежащих сушке вещей воздушный контур для циркуляции сушильного воздуха через камеру и обезвоживающее устройство для уменьшения содержания влаги во влажном потоке выходящего из камеры воздуха согласно изобретению обезвоживающее устройство содержит блок ионизации предназначенный для электрического заряда воды рассеянной в потоке воздуха и средство выпуска воды',\n",
              " 'изобретение предназначено для очистки отработавших газов двс в частности дизелей корпус каталитического нейтрализатора имеет стенки торцевые крышки входной и выходной патрубки внутри корпуса расположены соосные пористые металлокерамические каталитические блоки и пористый сажевый металлокерамический блок в полости образованной соосными концентричными пористыми металлокерамическими каталитическими блоками и пористым сажевым металлокерамическим блоком установлен конвективный теплообменник выполненный в виде змеевика с входным и выходным штуцерами внутренняя полость змеевика заполнена теплоаккумулирующим веществом а входной и выходной штуцеры заглушены пробками такое выполнение повышает эффективность очистки отработавших газов двигателя путем аккумуляции тепла теплоаккумулирующим веществом и стабилизации температуры отработавших газов',\n",
              " 'изобретение относится к прикладной вычислительной технике и может быть использовано в специализированных вычислительных устройствах и микропроцессорах для формирования и исследования свойств элементов конечных полей в системах связи с шумоподобными широкополосными сигналами в качестве устройств формирования дискретных сигналов цель изобретения повышение быстродействия устройства устройство для формирования первообразных элементов конечных полей содержит вычитатель схему сравнения два регистра два формирователя импульсов четыре элемента или сумматор два счетчика умножитель формирователь адреса два мультиплексора три элемента запрета дешифратор нуля два дешифратора единицы два элемента задержки элемент и и блок памяти соединенные между собой функционально']"
            ]
          },
          "metadata": {
            "tags": []
          },
          "execution_count": 14
        }
      ]
    },
    {
      "cell_type": "markdown",
      "metadata": {
        "id": "iMxAc7E6WO9Y",
        "colab_type": "text"
      },
      "source": [
        "### Lemmatization"
      ]
    },
    {
      "cell_type": "code",
      "metadata": {
        "id": "Y7gqi0bEXIET",
        "colab_type": "code",
        "colab": {}
      },
      "source": [
        "!wget http://download.cdn.yandex.net/mystem/mystem-3.0-linux3.1-64bit.tar.gz\n",
        "!tar -xvf mystem-3.0-linux3.1-64bit.tar.gz\n",
        "!cp mystem /bin"
      ],
      "execution_count": 0,
      "outputs": []
    },
    {
      "cell_type": "code",
      "metadata": {
        "id": "6--fMvCOWPlo",
        "colab_type": "code",
        "colab": {}
      },
      "source": [
        "from pymystem3 import Mystem\n",
        "m = Mystem()\n"
      ],
      "execution_count": 0,
      "outputs": []
    },
    {
      "cell_type": "code",
      "metadata": {
        "id": "6fvwmK5dX4C-",
        "colab_type": "code",
        "outputId": "ede83994-f292-402a-8c88-779efeebf417",
        "colab": {
          "base_uri": "https://localhost:8080/",
          "height": 122,
          "referenced_widgets": [
            "c4f18d3995784d6687abd85f35c8a824",
            "f0c89ed658a54d02a287c73cb8efe708",
            "5a24d336fc0641509c1b2189d02d69ca",
            "ab886d2e98c34ad5a2d367f7b36e82e4",
            "b66034b5d6fa466b9ffd06e456450811",
            "527112eca8ba4d00892e2b6bfaddae5b",
            "7813520481654ecb842759246b584157",
            "471e296d3ce24ec287ec8895c2f428ba"
          ]
        }
      },
      "source": [
        "test_lemm = [''.join(m.lemmatize(text)).strip() for text in tqdm(test_texts)]"
      ],
      "execution_count": 0,
      "outputs": [
        {
          "output_type": "stream",
          "text": [
            "/usr/local/lib/python3.6/dist-packages/ipykernel_launcher.py:1: TqdmDeprecationWarning: This function will be removed in tqdm==5.0.0\n",
            "Please use `tqdm.notebook.tqdm` instead of `tqdm.tqdm_notebook`\n",
            "  \"\"\"Entry point for launching an IPython kernel.\n"
          ],
          "name": "stderr"
        },
        {
          "output_type": "display_data",
          "data": {
            "application/vnd.jupyter.widget-view+json": {
              "model_id": "c4f18d3995784d6687abd85f35c8a824",
              "version_minor": 0,
              "version_major": 2
            },
            "text/plain": [
              "HBox(children=(IntProgress(value=0, max=10150), HTML(value='')))"
            ]
          },
          "metadata": {
            "tags": []
          }
        },
        {
          "output_type": "stream",
          "text": [
            "\n"
          ],
          "name": "stdout"
        }
      ]
    },
    {
      "cell_type": "code",
      "metadata": {
        "id": "FjB_bI9RfUg0",
        "colab_type": "code",
        "outputId": "00547e56-97f7-4577-a40b-7711ac057fd0",
        "colab": {
          "base_uri": "https://localhost:8080/",
          "height": 74
        }
      },
      "source": [
        "print('До лемматизации: ', test_texts[1])\n",
        "print('После лемматизации: ', test_lemm[1])"
      ],
      "execution_count": 0,
      "outputs": [
        {
          "output_type": "stream",
          "text": [
            "До лемматизации:  изобретение относится к области радиосвязи техническим результатом является повышение эффективности использования радиоресурсов нисходящей линии связи упомянутый технический результат достигается тем что сетевое устройство радиодоступа осуществляет связь с мобильной станцией с использованием выделенного канала восходящей линии связи общего канала данных нисходящей линии связи и сигнального канала управления нисходящей линии связи устранение необходимости в ненужной передаче восходящего гранта временного опережения в восходящей линии связи или c rnti cell specific radio network temporal identifier делает возможной реализацию мобильной станции сетевого устройства радиодоступа и системы мобильной связи в соответствии с настоящим изобретением\n",
            "После лемматизации:  изобретение относиться к область радиосвязь технический результат являться повышение эффективность использование радиоресурсы нисходящий линия связь упоминать технический результат достигаться то что сетевой устройство радиодоступ осуществлять связь с мобильный станция с использование выделять канал восходящий линия связь общий канал данные нисходящий линия связь и сигнальный канал управление нисходящий линия связь устранение необходимость в ненужный передача восходящий грант временный опережение в восходящий линия связь или c rnti cell specific radio network temporal identifier делать возможный реализация мобильный станция сетевой устройство радиодоступ и система мобильный связь в соответствие с настоящий изобретение\n"
          ],
          "name": "stdout"
        }
      ]
    },
    {
      "cell_type": "code",
      "metadata": {
        "id": "4B031bScvokv",
        "colab_type": "code",
        "outputId": "e380b76e-907a-4472-e6ec-290a1fe6cb5d",
        "colab": {
          "base_uri": "https://localhost:8080/",
          "height": 35
        }
      },
      "source": [
        "# https://webdevblog.ru/podhody-lemmatizacii-s-primerami-v-python/\n",
        "\n",
        "import spacy\n",
        "# Initialize spacy 'en' model, keeping only tagger component needed for lemmatization\n",
        "nlp = spacy.load('en', disable=['parser', 'ner'])\n",
        "sentence = \"The striped bats are hanging on their feet for best\"\n",
        "# Parse the sentence using the loaded 'en' model object `nlp`\n",
        "doc = nlp(sentence)\n",
        "# Extract the lemma for each token and join\n",
        "#\" \".join([token.lemma_ for token in doc])\n",
        "\" \".join([w.lemma_ if w.lemma_ !='-PRON-' else w.text for w in doc])\n",
        "#> 'the strip bat be hang on -PRON- foot for good'"
      ],
      "execution_count": 0,
      "outputs": [
        {
          "output_type": "execute_result",
          "data": {
            "text/plain": [
              "'the stripe bat be hang on their foot for good'"
            ]
          },
          "metadata": {
            "tags": []
          },
          "execution_count": 15
        }
      ]
    },
    {
      "cell_type": "code",
      "metadata": {
        "id": "G9YYwaQVCxxY",
        "colab_type": "code",
        "outputId": "974e6378-544a-4efa-d03c-4de76c6f78b9",
        "colab": {
          "base_uri": "https://localhost:8080/",
          "height": 122,
          "referenced_widgets": [
            "5fa763be95f44ce686e25d6b142b58a4",
            "8fd7620d292740c4889e209f20b87241",
            "187a34cb3f0c41e285025bb46b06604f",
            "8daee4acc52b4bf0bbe3008bdcbc2adf",
            "ce403f495b2548adbacd33945614dade",
            "4680a465e8e943b2b517711aa55656bd",
            "7b09966ea7d94136bbd9aa8aaf54c44c",
            "127243cc244e4d61aeddfe47aa88af05"
          ]
        }
      },
      "source": [
        "train_lemm = []\n",
        "for text in tqdm(train_texts):\n",
        "    train_lemm.append(\" \".join([w.lemma_ if w.lemma_ !='-PRON-' else w.text for w in nlp(text)]))"
      ],
      "execution_count": 0,
      "outputs": [
        {
          "output_type": "stream",
          "text": [
            "/usr/local/lib/python3.6/dist-packages/ipykernel_launcher.py:2: TqdmDeprecationWarning: This function will be removed in tqdm==5.0.0\n",
            "Please use `tqdm.notebook.tqdm` instead of `tqdm.tqdm_notebook`\n",
            "  \n"
          ],
          "name": "stderr"
        },
        {
          "output_type": "display_data",
          "data": {
            "application/vnd.jupyter.widget-view+json": {
              "model_id": "5fa763be95f44ce686e25d6b142b58a4",
              "version_minor": 0,
              "version_major": 2
            },
            "text/plain": [
              "HBox(children=(IntProgress(value=0, max=68805), HTML(value='')))"
            ]
          },
          "metadata": {
            "tags": []
          }
        },
        {
          "output_type": "stream",
          "text": [
            "\n"
          ],
          "name": "stdout"
        }
      ]
    },
    {
      "cell_type": "code",
      "metadata": {
        "id": "w_RF_BwaDWJn",
        "colab_type": "code",
        "outputId": "832aa60f-b7f9-4a97-b5af-078cdea1b77d",
        "colab": {
          "base_uri": "https://localhost:8080/",
          "height": 55
        }
      },
      "source": [
        "train_lemm[0]"
      ],
      "execution_count": 0,
      "outputs": [
        {
          "output_type": "execute_result",
          "data": {
            "text/plain": [
              "'a combine vehicle remote access tire monitoring and vehicle immobilization system and method include a tire monitor for monitor a tire parameter the monitor include a transmitter for transmit a radio frequency tire datum signal a vehicle access transmitter for transmit a radio frequency vehicle access signal and a vehicle activation transponder for receive an interrogation signal and transmit a vehicle activation signal for use in vehicle immobilization the system and method further include a control module have a receiver and a controller for receiving and process the tire data vehicle access and vehicle activation signal and generate a display signal to display the information represent by the tire datum signal a vehicle access control signal to perform the vehicle access function and a vehicle immobilization control signal to immobilize the vehicle if the controller fail to authenticate the vehicle activation signal'"
            ]
          },
          "metadata": {
            "tags": []
          },
          "execution_count": 17
        }
      ]
    },
    {
      "cell_type": "code",
      "metadata": {
        "id": "yDJjCdW7DMxr",
        "colab_type": "code",
        "outputId": "5f403d24-ccd1-434b-80c4-99885e95e76b",
        "colab": {
          "base_uri": "https://localhost:8080/",
          "height": 122,
          "referenced_widgets": [
            "e9c3d93673344cfcb847bbb10bae4772",
            "959373ddd1ae49aab42fa641a7a2216d",
            "66d5c7e0966846bba7100c5c7f001b30",
            "2ec1acaf9508433098e86ad362d3a737",
            "c68e022b7c05413e91c3dc3ab235cdd2",
            "cf02453460a04f93a82cbbe40512c19c",
            "9cbb7a4ea5974ccbb9a2f108bce9f66e",
            "c5704f71c2ce4e288b7677599234f3f0"
          ]
        }
      },
      "source": [
        "val_lemm = []\n",
        "for text in tqdm(val_texts):\n",
        "    val_lemm.append(\" \".join([w.lemma_ if w.lemma_ !='-PRON-' else w.text for w in nlp(text)]))"
      ],
      "execution_count": 0,
      "outputs": [
        {
          "output_type": "stream",
          "text": [
            "/usr/local/lib/python3.6/dist-packages/ipykernel_launcher.py:2: TqdmDeprecationWarning: This function will be removed in tqdm==5.0.0\n",
            "Please use `tqdm.notebook.tqdm` instead of `tqdm.tqdm_notebook`\n",
            "  \n"
          ],
          "name": "stderr"
        },
        {
          "output_type": "display_data",
          "data": {
            "application/vnd.jupyter.widget-view+json": {
              "model_id": "e9c3d93673344cfcb847bbb10bae4772",
              "version_minor": 0,
              "version_major": 2
            },
            "text/plain": [
              "HBox(children=(IntProgress(value=0, max=12143), HTML(value='')))"
            ]
          },
          "metadata": {
            "tags": []
          }
        },
        {
          "output_type": "stream",
          "text": [
            "\n"
          ],
          "name": "stdout"
        }
      ]
    },
    {
      "cell_type": "markdown",
      "metadata": {
        "id": "51l2epwp-r9E",
        "colab_type": "text"
      },
      "source": [
        "### Lengths"
      ]
    },
    {
      "cell_type": "code",
      "metadata": {
        "id": "O3fB784W-tkJ",
        "colab_type": "code",
        "outputId": "bae34c90-a644-44ec-e5f4-91e6b04858da",
        "colab": {
          "base_uri": "https://localhost:8080/",
          "height": 35
        }
      },
      "source": [
        "def compute_lens(texts):\n",
        "    lens = [len(text.split()) for text in texts]\n",
        "    return lens\n",
        "\n",
        "train_lens = compute_lens(train_texts)\n",
        "val_lens = compute_lens(val_texts)\n",
        "test_lens = compute_lens(test_texts)\n",
        "train_lens[:10]"
      ],
      "execution_count": 12,
      "outputs": [
        {
          "output_type": "execute_result",
          "data": {
            "text/plain": [
              "[142, 194, 152, 77, 98, 100, 149, 206, 96, 158]"
            ]
          },
          "metadata": {
            "tags": []
          },
          "execution_count": 12
        }
      ]
    },
    {
      "cell_type": "code",
      "metadata": {
        "id": "VqIAmIkA_LWk",
        "colab_type": "code",
        "outputId": "02433c32-f2f0-442a-ffe8-99b65c8a4f36",
        "colab": {
          "base_uri": "https://localhost:8080/",
          "height": 265
        }
      },
      "source": [
        "n_bins = 10\n",
        "\n",
        "colors = ['red', 'tan', 'lime']\n",
        "\n",
        "# Make a multiple-histogram of data-sets with different length.\n",
        "\n",
        "plt.hist([train_lens, val_lens, test_lens], n_bins, histtype='bar', color=colors, density=True, range=(0, 400))\n",
        "#ax3.set_title('different sample sizes')\n",
        "plt.legend(['train', 'val', 'test'])\n",
        "plt.savefig('Lengths distribution.png')\n",
        "plt.show()"
      ],
      "execution_count": 22,
      "outputs": [
        {
          "output_type": "display_data",
          "data": {
            "image/png": "[encoded data removed]",
            "text/plain": [
              "<Figure size 432x288 with 1 Axes>"
            ]
          },
          "metadata": {
            "tags": [],
            "needs_background": "light"
          }
        }
      ]
    },
    {
      "cell_type": "code",
      "metadata": {
        "id": "W2BYttH-C1w0",
        "colab_type": "code",
        "outputId": "3a31422b-e5c2-484e-a54b-1a783e7aefe2",
        "colab": {
          "base_uri": "https://localhost:8080/",
          "height": 364
        }
      },
      "source": [
        "# plot\n",
        "fig, axes = plt.subplots(1, 3, figsize=(10, 3), sharey=True, dpi=100)\n",
        "sns.distplot(train_lens , color=\"dodgerblue\", ax=axes[0], axlabel='Train')\n",
        "sns.distplot(val_lens , color=\"deeppink\", ax=axes[1], axlabel='Validation')\n",
        "sns.distplot(test_lens , color=\"gold\", ax=axes[2], axlabel='Test')\n",
        "#plt.suptitle('Probability Histogram of Datasets lengths', y=1.05, size=12)\n",
        "#plt.xlim(50,75);\n",
        "plt.savefig('Lengths distribution2.png')"
      ],
      "execution_count": 19,
      "outputs": [
        {
          "output_type": "stream",
          "text": [
            "/usr/local/lib/python3.6/dist-packages/statsmodels/tools/_testing.py:19: FutureWarning: pandas.util.testing is deprecated. Use the functions in the public API at pandas.testing instead.\n",
            "  import pandas.util.testing as tm\n"
          ],
          "name": "stderr"
        },
        {
          "output_type": "display_data",
          "data": {
            "image/png": "[encoded data removed]",
            "text/plain": [
              "<Figure size 1000x300 with 3 Axes>"
            ]
          },
          "metadata": {
            "tags": [],
            "needs_background": "light"
          }
        }
      ]
    },
    {
      "cell_type": "markdown",
      "metadata": {
        "id": "7SQb_WHSLUBG",
        "colab_type": "text"
      },
      "source": [
        "### Vocabulary sizes"
      ]
    },
    {
      "cell_type": "code",
      "metadata": {
        "id": "rNcXjPKuLekb",
        "colab_type": "code",
        "outputId": "3cd2b923-e37d-4adf-b85f-b340bd2c47b3",
        "colab": {
          "base_uri": "https://localhost:8080/",
          "height": 72
        }
      },
      "source": [
        "for lst, name in zip([train_lemm, val_lemm, test_lemm], ['train', 'val', 'test']):\n",
        "    vectorizer = CountVectorizer()\n",
        "    vectorizer.fit(lst)\n",
        "    print('Length of ' + str(name) + ' vocabulary: ', len(vectorizer.vocabulary_))"
      ],
      "execution_count": 0,
      "outputs": [
        {
          "output_type": "stream",
          "text": [
            "Length of train vocabulary:  41442\n",
            "Length of val vocabulary:  19018\n",
            "Length of test vocabulary:  28970\n"
          ],
          "name": "stdout"
        }
      ]
    },
    {
      "cell_type": "code",
      "metadata": {
        "id": "uwOPtWDsN3fq",
        "colab_type": "code",
        "outputId": "033f2b04-6aec-43f9-f6cf-aebe81b71912",
        "colab": {
          "base_uri": "https://localhost:8080/",
          "height": 122,
          "referenced_widgets": [
            "7221fbf33e5e40e5b964191eb3417cce",
            "bc86ea4df86d48988f90715ecd44146c",
            "fde5418e32f545c581eccfd1fe21cd68",
            "f65bac88fe574b488bebe05cd02e2413",
            "2c56ce1075394dbeb5d8404cb6c97868",
            "1dee8528e8604ed3b6de3a21056d09a9",
            "92f925aab68b4a1f97cfbcbc829ee227",
            "c48471a6197d443a8a828b1db3f9455c"
          ]
        }
      },
      "source": [
        "train_topics = [[] for i in range(225)]\n",
        "for i, text in tqdm(enumerate(train_lemm)):\n",
        "    train_topics[y_train[i]].append(len(set(text.split())))\n"
      ],
      "execution_count": 0,
      "outputs": [
        {
          "output_type": "stream",
          "text": [
            "/usr/local/lib/python3.6/dist-packages/ipykernel_launcher.py:2: TqdmDeprecationWarning: This function will be removed in tqdm==5.0.0\n",
            "Please use `tqdm.notebook.tqdm` instead of `tqdm.tqdm_notebook`\n",
            "  \n"
          ],
          "name": "stderr"
        },
        {
          "output_type": "display_data",
          "data": {
            "application/vnd.jupyter.widget-view+json": {
              "model_id": "7221fbf33e5e40e5b964191eb3417cce",
              "version_minor": 0,
              "version_major": 2
            },
            "text/plain": [
              "HBox(children=(IntProgress(value=1, bar_style='info', max=1), HTML(value='')))"
            ]
          },
          "metadata": {
            "tags": []
          }
        },
        {
          "output_type": "stream",
          "text": [
            "\n"
          ],
          "name": "stdout"
        }
      ]
    },
    {
      "cell_type": "code",
      "metadata": {
        "id": "LXLta1RkW5bI",
        "colab_type": "code",
        "colab": {}
      },
      "source": [
        "mean_vocab_topic_lens =  [np.median(num) for num in train_topics]  #медианы числа уникальных слов в подклассе"
      ],
      "execution_count": 0,
      "outputs": []
    },
    {
      "cell_type": "code",
      "metadata": {
        "id": "p_s_zYljZv4L",
        "colab_type": "code",
        "outputId": "44b8b37e-0e54-4ad9-bdcb-7d6af4d9acd9",
        "colab": {
          "base_uri": "https://localhost:8080/",
          "height": 345
        }
      },
      "source": [
        "np.argsort(mean_vocab_topic_lens)"
      ],
      "execution_count": 0,
      "outputs": [
        {
          "output_type": "execute_result",
          "data": {
            "text/plain": [
              "array([ 83,  85,  20,   1,   4,  92,  89,  96,  95,  84,  82, 209, 224,\n",
              "        94,  87, 210, 188, 169, 170, 196, 190, 218, 189, 195, 174,  53,\n",
              "       221,   6, 205,  90, 220, 158, 120,  86,  88,  54,  78, 107, 178,\n",
              "       104, 192, 175, 185,  32, 204, 212, 213,  21, 211,  19, 149, 207,\n",
              "        45, 222,  64, 186,  27,  77,  91, 141,  73, 216, 140, 125,  61,\n",
              "        44,  46, 123, 198, 197,  52, 202,  62, 215,  59, 176, 144, 172,\n",
              "       157, 173, 168, 171, 127, 122, 163, 136, 128, 147, 110, 177, 166,\n",
              "       108, 182, 159, 153,  47, 193,   7, 208,  57,  56,  14, 217,  26,\n",
              "       214,  10,  15,  55, 154, 167, 132, 203,  41, 165, 134, 160, 162,\n",
              "       161,  30, 142, 143,  28, 146,  18,  35,  42,   8,  72,  16, 184,\n",
              "       101, 179, 103, 187, 106,  79, 126,  68, 219,  66,  65, 116, 117,\n",
              "        60,  50, 199, 194, 164, 191, 206, 180, 181, 156, 200, 112, 105,\n",
              "        97,  24,  98,  99,  71, 109,  69, 223, 113,  22,  36, 118,  58,\n",
              "        63,  25, 129, 130,  12, 133, 135,  43,  11,  37, 139,   9, 150,\n",
              "       152,  74,  49,  38,  34,  75,  93, 100,  23, 201, 111,  17,  13,\n",
              "       121, 124, 137, 148,  29,  40,  31,   3, 155,  76, 119, 102, 114,\n",
              "       151,   5, 138, 131,  39,   0,  81,  80,  67, 115,  70,   2, 145,\n",
              "        51, 183,  48,  33])"
            ]
          },
          "metadata": {
            "tags": []
          },
          "execution_count": 106
        }
      ]
    },
    {
      "cell_type": "code",
      "metadata": {
        "id": "MOoee00RZ1QO",
        "colab_type": "code",
        "outputId": "57d2bd79-4535-420f-f281-d5736e15733a",
        "colab": {
          "base_uri": "https://localhost:8080/",
          "height": 35
        }
      },
      "source": [
        "label_encoder.inverse_transform([33])"
      ],
      "execution_count": 0,
      "outputs": [
        {
          "output_type": "execute_result",
          "data": {
            "text/plain": [
              "array(['B04B'], dtype='<U4')"
            ]
          },
          "metadata": {
            "tags": []
          },
          "execution_count": 109
        }
      ]
    },
    {
      "cell_type": "code",
      "metadata": {
        "id": "EaTStE1FaCO4",
        "colab_type": "code",
        "outputId": "1fb14d72-8621-4d0a-b361-974eb529c2cb",
        "colab": {
          "base_uri": "https://localhost:8080/",
          "height": 35
        }
      },
      "source": [
        "label_encoder.inverse_transform([83])"
      ],
      "execution_count": 0,
      "outputs": [
        {
          "output_type": "execute_result",
          "data": {
            "text/plain": [
              "array(['C07D'], dtype='<U4')"
            ]
          },
          "metadata": {
            "tags": []
          },
          "execution_count": 110
        }
      ]
    },
    {
      "cell_type": "code",
      "metadata": {
        "id": "du51I2MKXGQD",
        "colab_type": "code",
        "outputId": "aee30d7b-8544-4e75-8f60-8693681ea425",
        "colab": {
          "base_uri": "https://localhost:8080/",
          "height": 54
        }
      },
      "source": [
        "#ничего особо интересного тут выявить не удалось\n",
        "print(np.min(mean_vocab_topic_lens))     \n",
        "print(np.max(mean_vocab_topic_lens))"
      ],
      "execution_count": 0,
      "outputs": [
        {
          "output_type": "stream",
          "text": [
            "39.0\n",
            "58.5\n"
          ],
          "name": "stdout"
        }
      ]
    },
    {
      "cell_type": "markdown",
      "metadata": {
        "id": "0UY1odYtbbSN",
        "colab_type": "text"
      },
      "source": [
        "### Keywords topics"
      ]
    },
    {
      "cell_type": "code",
      "metadata": {
        "id": "xMFGMe_Mbghq",
        "colab_type": "code",
        "colab": {}
      },
      "source": [
        "def matrix_for_features(texts, labels):\n",
        "    '''\n",
        "    функция для поиска ключевых слов для каждого класса\n",
        "    подаются тексты и метки\n",
        "    возвращается матрица tfidf, фичи и веса (сейчас это idf для каждого слова)\n",
        "    '''\n",
        "    text_classes = ['' for i in range(len(set(labels)))]\n",
        "    for i, text in enumerate(texts):\n",
        "      #  text_classes[labels[i]] += (' '.join(list(set(text.split()))) + ' ')\n",
        "        text_classes[labels[i]] += (text + ' ')\n",
        "    vectorizer = TfidfVectorizer(min_df=2, max_df=0.8)\n",
        "    X = vectorizer.fit_transform(text_classes)\n",
        "    feature_names = np.array(vectorizer.get_feature_names())\n",
        "    return X, feature_names"
      ],
      "execution_count": 0,
      "outputs": []
    },
    {
      "cell_type": "code",
      "metadata": {
        "id": "KIFhiuLCofF8",
        "colab_type": "code",
        "colab": {}
      },
      "source": [
        "X_russian, features_russian = matrix_for_features(test_lemm, y_test)\n",
        "X_english, features_english = matrix_for_features(train_lemm, y_train)"
      ],
      "execution_count": 0,
      "outputs": []
    },
    {
      "cell_type": "code",
      "metadata": {
        "id": "O1V5SH5SostM",
        "colab_type": "code",
        "colab": {}
      },
      "source": [
        "with open('features_classes_plus_weights.txt', 'w', encoding='utf-8') as of:\n",
        "    for i in range(225):\n",
        "        tfidf_rus = X_russian[i].toarray()[0]\n",
        "        tfidf_eng = X_english[i].toarray()[0]\n",
        "        indices_ru = np.argsort(tfidf_rus)[::-1]\n",
        "        indices_eng = np.argsort(tfidf_eng)[::-1]\n",
        "        for idx in indices_ru[:10]:\n",
        "            of.write(features_russian[idx] + '|' + str(tfidf_rus[idx]) + ' ') #tfidf_rus\n",
        "        of.write('|')\n",
        "        for idx in indices_eng[:10]:\n",
        "            of.write(features_english[idx] + '|' + str(tfidf_eng[idx]) + ' ')  #tfidf_eng      \n",
        "        of.write('\\t' + label_encoder.classes_[i] + '\\n')\n",
        "        of.write(str(i) +'\\n')\n",
        "        of.write('===========================' + '\\n'*2)\n",
        "    of.close()"
      ],
      "execution_count": 0,
      "outputs": []
    },
    {
      "cell_type": "code",
      "metadata": {
        "id": "PWgfnnlwlflM",
        "colab_type": "code",
        "colab": {}
      },
      "source": [
        "with open('features_classes.txt', 'w', encoding='utf-8') as of:\n",
        "    for i in range(225):\n",
        "        tfidf_rus = X_russian[i].toarray()[0]\n",
        "        tfidf_eng = X_english[i].toarray()[0]\n",
        "        indices_ru = np.argsort(tfidf_rus)[::-1]\n",
        "        indices_eng = np.argsort(tfidf_eng)[::-1]\n",
        "        for idx in indices_ru[:10]:\n",
        "            of.write(features_russian[idx] + '|') #tfidf_rus\n",
        "        of.write('|')\n",
        "        for idx in indices_eng[:10]:\n",
        "            of.write(features_english[idx] + '|')  #tfidf_eng      \n",
        "        of.write('\\t' + label_encoder.classes_[i] + '\\n')\n",
        "        of.write(str(i) +'\\n')\n",
        "        of.write('===========================' + '\\n'*2)\n",
        "    of.close()"
      ],
      "execution_count": 0,
      "outputs": []
    }
  ]
}