{
  "nbformat": 4,
  "nbformat_minor": 0,
  "metadata": {
    "colab": {
      "name": "MUSE_keywords_classification.ipynb",
      "provenance": [],
      "collapsed_sections": [
        "qpJelM6wBS52",
        "NqRZtbbAyu92",
        "-kRaJkXOpQJW",
        "j8fa0-MR1u6H",
        "wx3sFIzmtMsa",
        "N2jD2tz_tWCH",
        "lk1zCBdKN4pA"
      ],
      "machine_shape": "hm"
    },
    "kernelspec": {
      "name": "python3",
      "display_name": "Python 3"
    },
    "widgets": {
      "application/vnd.jupyter.widget-state+json": {
        "f3d43b161a1c4e78b41ffb495ea40981": {
          "model_module": "@jupyter-widgets/controls",
          "model_name": "HBoxModel",
          "state": {
            "_view_name": "HBoxView",
            "_dom_classes": [],
            "_model_name": "HBoxModel",
            "_view_module": "@jupyter-widgets/controls",
            "_model_module_version": "1.5.0",
            "_view_count": null,
            "_view_module_version": "1.5.0",
            "box_style": "",
            "layout": "IPY_MODEL_3f83fc4d79bf4f0baffd6b4a2f737880",
            "_model_module": "@jupyter-widgets/controls",
            "children": [
              "IPY_MODEL_3d897ab691d6477396d96c1095270f15",
              "IPY_MODEL_9ad692620e1b4791a36007f074c64b27"
            ]
          }
        },
        "3f83fc4d79bf4f0baffd6b4a2f737880": {
          "model_module": "@jupyter-widgets/base",
          "model_name": "LayoutModel",
          "state": {
            "_view_name": "LayoutView",
            "grid_template_rows": null,
            "right": null,
            "justify_content": null,
            "_view_module": "@jupyter-widgets/base",
            "overflow": null,
            "_model_module_version": "1.2.0",
            "_view_count": null,
            "flex_flow": null,
            "width": null,
            "min_width": null,
            "border": null,
            "align_items": null,
            "bottom": null,
            "_model_module": "@jupyter-widgets/base",
            "top": null,
            "grid_column": null,
            "overflow_y": null,
            "overflow_x": null,
            "grid_auto_flow": null,
            "grid_area": null,
            "grid_template_columns": null,
            "flex": null,
            "_model_name": "LayoutModel",
            "justify_items": null,
            "grid_row": null,
            "max_height": null,
            "align_content": null,
            "visibility": null,
            "align_self": null,
            "height": null,
            "min_height": null,
            "padding": null,
            "grid_auto_rows": null,
            "grid_gap": null,
            "max_width": null,
            "order": null,
            "_view_module_version": "1.2.0",
            "grid_template_areas": null,
            "object_position": null,
            "object_fit": null,
            "grid_auto_columns": null,
            "margin": null,
            "display": null,
            "left": null
          }
        },
        "3d897ab691d6477396d96c1095270f15": {
          "model_module": "@jupyter-widgets/controls",
          "model_name": "IntProgressModel",
          "state": {
            "_view_name": "ProgressView",
            "style": "IPY_MODEL_28beb7f4474c4fc795b928ee0139cbfe",
            "_dom_classes": [],
            "description": "100%",
            "_model_name": "IntProgressModel",
            "bar_style": "success",
            "max": 10150,
            "_view_module": "@jupyter-widgets/controls",
            "_model_module_version": "1.5.0",
            "value": 10150,
            "_view_count": null,
            "_view_module_version": "1.5.0",
            "orientation": "horizontal",
            "min": 0,
            "description_tooltip": null,
            "_model_module": "@jupyter-widgets/controls",
            "layout": "IPY_MODEL_d6bc09d8ff764c2ea4b8a8974f8b493a"
          }
        },
        "9ad692620e1b4791a36007f074c64b27": {
          "model_module": "@jupyter-widgets/controls",
          "model_name": "HTMLModel",
          "state": {
            "_view_name": "HTMLView",
            "style": "IPY_MODEL_e6af22b4fbb74eb29f2f2b4b9323531e",
            "_dom_classes": [],
            "description": "",
            "_model_name": "HTMLModel",
            "placeholder": "​",
            "_view_module": "@jupyter-widgets/controls",
            "_model_module_version": "1.5.0",
            "value": " 10150/10150 [00:23&lt;00:00, 430.32it/s]",
            "_view_count": null,
            "_view_module_version": "1.5.0",
            "description_tooltip": null,
            "_model_module": "@jupyter-widgets/controls",
            "layout": "IPY_MODEL_5d7557708f204df98b6a09a4839ab8bc"
          }
        },
        "28beb7f4474c4fc795b928ee0139cbfe": {
          "model_module": "@jupyter-widgets/controls",
          "model_name": "ProgressStyleModel",
          "state": {
            "_view_name": "StyleView",
            "_model_name": "ProgressStyleModel",
            "description_width": "initial",
            "_view_module": "@jupyter-widgets/base",
            "_model_module_version": "1.5.0",
            "_view_count": null,
            "_view_module_version": "1.2.0",
            "bar_color": null,
            "_model_module": "@jupyter-widgets/controls"
          }
        },
        "d6bc09d8ff764c2ea4b8a8974f8b493a": {
          "model_module": "@jupyter-widgets/base",
          "model_name": "LayoutModel",
          "state": {
            "_view_name": "LayoutView",
            "grid_template_rows": null,
            "right": null,
            "justify_content": null,
            "_view_module": "@jupyter-widgets/base",
            "overflow": null,
            "_model_module_version": "1.2.0",
            "_view_count": null,
            "flex_flow": null,
            "width": null,
            "min_width": null,
            "border": null,
            "align_items": null,
            "bottom": null,
            "_model_module": "@jupyter-widgets/base",
            "top": null,
            "grid_column": null,
            "overflow_y": null,
            "overflow_x": null,
            "grid_auto_flow": null,
            "grid_area": null,
            "grid_template_columns": null,
            "flex": null,
            "_model_name": "LayoutModel",
            "justify_items": null,
            "grid_row": null,
            "max_height": null,
            "align_content": null,
            "visibility": null,
            "align_self": null,
            "height": null,
            "min_height": null,
            "padding": null,
            "grid_auto_rows": null,
            "grid_gap": null,
            "max_width": null,
            "order": null,
            "_view_module_version": "1.2.0",
            "grid_template_areas": null,
            "object_position": null,
            "object_fit": null,
            "grid_auto_columns": null,
            "margin": null,
            "display": null,
            "left": null
          }
        },
        "e6af22b4fbb74eb29f2f2b4b9323531e": {
          "model_module": "@jupyter-widgets/controls",
          "model_name": "DescriptionStyleModel",
          "state": {
            "_view_name": "StyleView",
            "_model_name": "DescriptionStyleModel",
            "description_width": "",
            "_view_module": "@jupyter-widgets/base",
            "_model_module_version": "1.5.0",
            "_view_count": null,
            "_view_module_version": "1.2.0",
            "_model_module": "@jupyter-widgets/controls"
          }
        },
        "5d7557708f204df98b6a09a4839ab8bc": {
          "model_module": "@jupyter-widgets/base",
          "model_name": "LayoutModel",
          "state": {
            "_view_name": "LayoutView",
            "grid_template_rows": null,
            "right": null,
            "justify_content": null,
            "_view_module": "@jupyter-widgets/base",
            "overflow": null,
            "_model_module_version": "1.2.0",
            "_view_count": null,
            "flex_flow": null,
            "width": null,
            "min_width": null,
            "border": null,
            "align_items": null,
            "bottom": null,
            "_model_module": "@jupyter-widgets/base",
            "top": null,
            "grid_column": null,
            "overflow_y": null,
            "overflow_x": null,
            "grid_auto_flow": null,
            "grid_area": null,
            "grid_template_columns": null,
            "flex": null,
            "_model_name": "LayoutModel",
            "justify_items": null,
            "grid_row": null,
            "max_height": null,
            "align_content": null,
            "visibility": null,
            "align_self": null,
            "height": null,
            "min_height": null,
            "padding": null,
            "grid_auto_rows": null,
            "grid_gap": null,
            "max_width": null,
            "order": null,
            "_view_module_version": "1.2.0",
            "grid_template_areas": null,
            "object_position": null,
            "object_fit": null,
            "grid_auto_columns": null,
            "margin": null,
            "display": null,
            "left": null
          }
        },
        "403b2e28dabd4091af669eb6c8b1276a": {
          "model_module": "@jupyter-widgets/controls",
          "model_name": "HBoxModel",
          "state": {
            "_view_name": "HBoxView",
            "_dom_classes": [],
            "_model_name": "HBoxModel",
            "_view_module": "@jupyter-widgets/controls",
            "_model_module_version": "1.5.0",
            "_view_count": null,
            "_view_module_version": "1.5.0",
            "box_style": "",
            "layout": "IPY_MODEL_14d72008215f40449947960ecc5dad60",
            "_model_module": "@jupyter-widgets/controls",
            "children": [
              "IPY_MODEL_232b0eb13f5744d2a2953c0996c592d9",
              "IPY_MODEL_728a8d3826e3470489ef7ff0c7a0ba32"
            ]
          }
        },
        "14d72008215f40449947960ecc5dad60": {
          "model_module": "@jupyter-widgets/base",
          "model_name": "LayoutModel",
          "state": {
            "_view_name": "LayoutView",
            "grid_template_rows": null,
            "right": null,
            "justify_content": null,
            "_view_module": "@jupyter-widgets/base",
            "overflow": null,
            "_model_module_version": "1.2.0",
            "_view_count": null,
            "flex_flow": null,
            "width": null,
            "min_width": null,
            "border": null,
            "align_items": null,
            "bottom": null,
            "_model_module": "@jupyter-widgets/base",
            "top": null,
            "grid_column": null,
            "overflow_y": null,
            "overflow_x": null,
            "grid_auto_flow": null,
            "grid_area": null,
            "grid_template_columns": null,
            "flex": null,
            "_model_name": "LayoutModel",
            "justify_items": null,
            "grid_row": null,
            "max_height": null,
            "align_content": null,
            "visibility": null,
            "align_self": null,
            "height": null,
            "min_height": null,
            "padding": null,
            "grid_auto_rows": null,
            "grid_gap": null,
            "max_width": null,
            "order": null,
            "_view_module_version": "1.2.0",
            "grid_template_areas": null,
            "object_position": null,
            "object_fit": null,
            "grid_auto_columns": null,
            "margin": null,
            "display": null,
            "left": null
          }
        },
        "232b0eb13f5744d2a2953c0996c592d9": {
          "model_module": "@jupyter-widgets/controls",
          "model_name": "IntProgressModel",
          "state": {
            "_view_name": "ProgressView",
            "style": "IPY_MODEL_f93293510e3d4062a9e5d4f2dad21b37",
            "_dom_classes": [],
            "description": "100%",
            "_model_name": "IntProgressModel",
            "bar_style": "success",
            "max": 12143,
            "_view_module": "@jupyter-widgets/controls",
            "_model_module_version": "1.5.0",
            "value": 12143,
            "_view_count": null,
            "_view_module_version": "1.5.0",
            "orientation": "horizontal",
            "min": 0,
            "description_tooltip": null,
            "_model_module": "@jupyter-widgets/controls",
            "layout": "IPY_MODEL_994623321491433185d0100bd022bff5"
          }
        },
        "728a8d3826e3470489ef7ff0c7a0ba32": {
          "model_module": "@jupyter-widgets/controls",
          "model_name": "HTMLModel",
          "state": {
            "_view_name": "HTMLView",
            "style": "IPY_MODEL_495281d56e97458a951d1e9201be1fd1",
            "_dom_classes": [],
            "description": "",
            "_model_name": "HTMLModel",
            "placeholder": "​",
            "_view_module": "@jupyter-widgets/controls",
            "_model_module_version": "1.5.0",
            "value": " 12143/12143 [00:21&lt;00:00, 570.16it/s]",
            "_view_count": null,
            "_view_module_version": "1.5.0",
            "description_tooltip": null,
            "_model_module": "@jupyter-widgets/controls",
            "layout": "IPY_MODEL_6f1e33326c2242f3978e2150cccff6a6"
          }
        },
        "f93293510e3d4062a9e5d4f2dad21b37": {
          "model_module": "@jupyter-widgets/controls",
          "model_name": "ProgressStyleModel",
          "state": {
            "_view_name": "StyleView",
            "_model_name": "ProgressStyleModel",
            "description_width": "initial",
            "_view_module": "@jupyter-widgets/base",
            "_model_module_version": "1.5.0",
            "_view_count": null,
            "_view_module_version": "1.2.0",
            "bar_color": null,
            "_model_module": "@jupyter-widgets/controls"
          }
        },
        "994623321491433185d0100bd022bff5": {
          "model_module": "@jupyter-widgets/base",
          "model_name": "LayoutModel",
          "state": {
            "_view_name": "LayoutView",
            "grid_template_rows": null,
            "right": null,
            "justify_content": null,
            "_view_module": "@jupyter-widgets/base",
            "overflow": null,
            "_model_module_version": "1.2.0",
            "_view_count": null,
            "flex_flow": null,
            "width": null,
            "min_width": null,
            "border": null,
            "align_items": null,
            "bottom": null,
            "_model_module": "@jupyter-widgets/base",
            "top": null,
            "grid_column": null,
            "overflow_y": null,
            "overflow_x": null,
            "grid_auto_flow": null,
            "grid_area": null,
            "grid_template_columns": null,
            "flex": null,
            "_model_name": "LayoutModel",
            "justify_items": null,
            "grid_row": null,
            "max_height": null,
            "align_content": null,
            "visibility": null,
            "align_self": null,
            "height": null,
            "min_height": null,
            "padding": null,
            "grid_auto_rows": null,
            "grid_gap": null,
            "max_width": null,
            "order": null,
            "_view_module_version": "1.2.0",
            "grid_template_areas": null,
            "object_position": null,
            "object_fit": null,
            "grid_auto_columns": null,
            "margin": null,
            "display": null,
            "left": null
          }
        },
        "495281d56e97458a951d1e9201be1fd1": {
          "model_module": "@jupyter-widgets/controls",
          "model_name": "DescriptionStyleModel",
          "state": {
            "_view_name": "StyleView",
            "_model_name": "DescriptionStyleModel",
            "description_width": "",
            "_view_module": "@jupyter-widgets/base",
            "_model_module_version": "1.5.0",
            "_view_count": null,
            "_view_module_version": "1.2.0",
            "_model_module": "@jupyter-widgets/controls"
          }
        },
        "6f1e33326c2242f3978e2150cccff6a6": {
          "model_module": "@jupyter-widgets/base",
          "model_name": "LayoutModel",
          "state": {
            "_view_name": "LayoutView",
            "grid_template_rows": null,
            "right": null,
            "justify_content": null,
            "_view_module": "@jupyter-widgets/base",
            "overflow": null,
            "_model_module_version": "1.2.0",
            "_view_count": null,
            "flex_flow": null,
            "width": null,
            "min_width": null,
            "border": null,
            "align_items": null,
            "bottom": null,
            "_model_module": "@jupyter-widgets/base",
            "top": null,
            "grid_column": null,
            "overflow_y": null,
            "overflow_x": null,
            "grid_auto_flow": null,
            "grid_area": null,
            "grid_template_columns": null,
            "flex": null,
            "_model_name": "LayoutModel",
            "justify_items": null,
            "grid_row": null,
            "max_height": null,
            "align_content": null,
            "visibility": null,
            "align_self": null,
            "height": null,
            "min_height": null,
            "padding": null,
            "grid_auto_rows": null,
            "grid_gap": null,
            "max_width": null,
            "order": null,
            "_view_module_version": "1.2.0",
            "grid_template_areas": null,
            "object_position": null,
            "object_fit": null,
            "grid_auto_columns": null,
            "margin": null,
            "display": null,
            "left": null
          }
        },
        "7cec7e38a5024f65ac4398f7cd502234": {
          "model_module": "@jupyter-widgets/controls",
          "model_name": "HBoxModel",
          "state": {
            "_view_name": "HBoxView",
            "_dom_classes": [],
            "_model_name": "HBoxModel",
            "_view_module": "@jupyter-widgets/controls",
            "_model_module_version": "1.5.0",
            "_view_count": null,
            "_view_module_version": "1.5.0",
            "box_style": "",
            "layout": "IPY_MODEL_ab62c8c5f3e74f74bf7f63528a59b3e7",
            "_model_module": "@jupyter-widgets/controls",
            "children": [
              "IPY_MODEL_19906f06d14a46c1afa11e705d262658",
              "IPY_MODEL_f44a475a0b9b45239f2a9bf3021ed1d4"
            ]
          }
        },
        "ab62c8c5f3e74f74bf7f63528a59b3e7": {
          "model_module": "@jupyter-widgets/base",
          "model_name": "LayoutModel",
          "state": {
            "_view_name": "LayoutView",
            "grid_template_rows": null,
            "right": null,
            "justify_content": null,
            "_view_module": "@jupyter-widgets/base",
            "overflow": null,
            "_model_module_version": "1.2.0",
            "_view_count": null,
            "flex_flow": null,
            "width": null,
            "min_width": null,
            "border": null,
            "align_items": null,
            "bottom": null,
            "_model_module": "@jupyter-widgets/base",
            "top": null,
            "grid_column": null,
            "overflow_y": null,
            "overflow_x": null,
            "grid_auto_flow": null,
            "grid_area": null,
            "grid_template_columns": null,
            "flex": null,
            "_model_name": "LayoutModel",
            "justify_items": null,
            "grid_row": null,
            "max_height": null,
            "align_content": null,
            "visibility": null,
            "align_self": null,
            "height": null,
            "min_height": null,
            "padding": null,
            "grid_auto_rows": null,
            "grid_gap": null,
            "max_width": null,
            "order": null,
            "_view_module_version": "1.2.0",
            "grid_template_areas": null,
            "object_position": null,
            "object_fit": null,
            "grid_auto_columns": null,
            "margin": null,
            "display": null,
            "left": null
          }
        },
        "19906f06d14a46c1afa11e705d262658": {
          "model_module": "@jupyter-widgets/controls",
          "model_name": "IntProgressModel",
          "state": {
            "_view_name": "ProgressView",
            "style": "IPY_MODEL_c9bb6ac9707545fb8746dee011fca02b",
            "_dom_classes": [],
            "description": "100%",
            "_model_name": "IntProgressModel",
            "bar_style": "success",
            "max": 68805,
            "_view_module": "@jupyter-widgets/controls",
            "_model_module_version": "1.5.0",
            "value": 68805,
            "_view_count": null,
            "_view_module_version": "1.5.0",
            "orientation": "horizontal",
            "min": 0,
            "description_tooltip": null,
            "_model_module": "@jupyter-widgets/controls",
            "layout": "IPY_MODEL_7f677ac511004baba24319ae14c63e3e"
          }
        },
        "f44a475a0b9b45239f2a9bf3021ed1d4": {
          "model_module": "@jupyter-widgets/controls",
          "model_name": "HTMLModel",
          "state": {
            "_view_name": "HTMLView",
            "style": "IPY_MODEL_9f1c7bac4e7f49b0b0d14d775489716d",
            "_dom_classes": [],
            "description": "",
            "_model_name": "HTMLModel",
            "placeholder": "​",
            "_view_module": "@jupyter-widgets/controls",
            "_model_module_version": "1.5.0",
            "value": " 68805/68805 [00:20&lt;00:00, 3393.93it/s]",
            "_view_count": null,
            "_view_module_version": "1.5.0",
            "description_tooltip": null,
            "_model_module": "@jupyter-widgets/controls",
            "layout": "IPY_MODEL_a5c1a8dbd8774b2088cf9da6e3092f1a"
          }
        },
        "c9bb6ac9707545fb8746dee011fca02b": {
          "model_module": "@jupyter-widgets/controls",
          "model_name": "ProgressStyleModel",
          "state": {
            "_view_name": "StyleView",
            "_model_name": "ProgressStyleModel",
            "description_width": "initial",
            "_view_module": "@jupyter-widgets/base",
            "_model_module_version": "1.5.0",
            "_view_count": null,
            "_view_module_version": "1.2.0",
            "bar_color": null,
            "_model_module": "@jupyter-widgets/controls"
          }
        },
        "7f677ac511004baba24319ae14c63e3e": {
          "model_module": "@jupyter-widgets/base",
          "model_name": "LayoutModel",
          "state": {
            "_view_name": "LayoutView",
            "grid_template_rows": null,
            "right": null,
            "justify_content": null,
            "_view_module": "@jupyter-widgets/base",
            "overflow": null,
            "_model_module_version": "1.2.0",
            "_view_count": null,
            "flex_flow": null,
            "width": null,
            "min_width": null,
            "border": null,
            "align_items": null,
            "bottom": null,
            "_model_module": "@jupyter-widgets/base",
            "top": null,
            "grid_column": null,
            "overflow_y": null,
            "overflow_x": null,
            "grid_auto_flow": null,
            "grid_area": null,
            "grid_template_columns": null,
            "flex": null,
            "_model_name": "LayoutModel",
            "justify_items": null,
            "grid_row": null,
            "max_height": null,
            "align_content": null,
            "visibility": null,
            "align_self": null,
            "height": null,
            "min_height": null,
            "padding": null,
            "grid_auto_rows": null,
            "grid_gap": null,
            "max_width": null,
            "order": null,
            "_view_module_version": "1.2.0",
            "grid_template_areas": null,
            "object_position": null,
            "object_fit": null,
            "grid_auto_columns": null,
            "margin": null,
            "display": null,
            "left": null
          }
        },
        "9f1c7bac4e7f49b0b0d14d775489716d": {
          "model_module": "@jupyter-widgets/controls",
          "model_name": "DescriptionStyleModel",
          "state": {
            "_view_name": "StyleView",
            "_model_name": "DescriptionStyleModel",
            "description_width": "",
            "_view_module": "@jupyter-widgets/base",
            "_model_module_version": "1.5.0",
            "_view_count": null,
            "_view_module_version": "1.2.0",
            "_model_module": "@jupyter-widgets/controls"
          }
        },
        "a5c1a8dbd8774b2088cf9da6e3092f1a": {
          "model_module": "@jupyter-widgets/base",
          "model_name": "LayoutModel",
          "state": {
            "_view_name": "LayoutView",
            "grid_template_rows": null,
            "right": null,
            "justify_content": null,
            "_view_module": "@jupyter-widgets/base",
            "overflow": null,
            "_model_module_version": "1.2.0",
            "_view_count": null,
            "flex_flow": null,
            "width": null,
            "min_width": null,
            "border": null,
            "align_items": null,
            "bottom": null,
            "_model_module": "@jupyter-widgets/base",
            "top": null,
            "grid_column": null,
            "overflow_y": null,
            "overflow_x": null,
            "grid_auto_flow": null,
            "grid_area": null,
            "grid_template_columns": null,
            "flex": null,
            "_model_name": "LayoutModel",
            "justify_items": null,
            "grid_row": null,
            "max_height": null,
            "align_content": null,
            "visibility": null,
            "align_self": null,
            "height": null,
            "min_height": null,
            "padding": null,
            "grid_auto_rows": null,
            "grid_gap": null,
            "max_width": null,
            "order": null,
            "_view_module_version": "1.2.0",
            "grid_template_areas": null,
            "object_position": null,
            "object_fit": null,
            "grid_auto_columns": null,
            "margin": null,
            "display": null,
            "left": null
          }
        },
        "c46eae4731ae40028b9c9b6cad70372d": {
          "model_module": "@jupyter-widgets/controls",
          "model_name": "HBoxModel",
          "state": {
            "_view_name": "HBoxView",
            "_dom_classes": [],
            "_model_name": "HBoxModel",
            "_view_module": "@jupyter-widgets/controls",
            "_model_module_version": "1.5.0",
            "_view_count": null,
            "_view_module_version": "1.5.0",
            "box_style": "",
            "layout": "IPY_MODEL_91af27316faf4b3ba3d6cb7d7aadd7a7",
            "_model_module": "@jupyter-widgets/controls",
            "children": [
              "IPY_MODEL_a57aa2a94c7c41e7a516396facbd24a2",
              "IPY_MODEL_cf23af750058489caea0616f3cebb8a0"
            ]
          }
        },
        "91af27316faf4b3ba3d6cb7d7aadd7a7": {
          "model_module": "@jupyter-widgets/base",
          "model_name": "LayoutModel",
          "state": {
            "_view_name": "LayoutView",
            "grid_template_rows": null,
            "right": null,
            "justify_content": null,
            "_view_module": "@jupyter-widgets/base",
            "overflow": null,
            "_model_module_version": "1.2.0",
            "_view_count": null,
            "flex_flow": null,
            "width": null,
            "min_width": null,
            "border": null,
            "align_items": null,
            "bottom": null,
            "_model_module": "@jupyter-widgets/base",
            "top": null,
            "grid_column": null,
            "overflow_y": null,
            "overflow_x": null,
            "grid_auto_flow": null,
            "grid_area": null,
            "grid_template_columns": null,
            "flex": null,
            "_model_name": "LayoutModel",
            "justify_items": null,
            "grid_row": null,
            "max_height": null,
            "align_content": null,
            "visibility": null,
            "align_self": null,
            "height": null,
            "min_height": null,
            "padding": null,
            "grid_auto_rows": null,
            "grid_gap": null,
            "max_width": null,
            "order": null,
            "_view_module_version": "1.2.0",
            "grid_template_areas": null,
            "object_position": null,
            "object_fit": null,
            "grid_auto_columns": null,
            "margin": null,
            "display": null,
            "left": null
          }
        },
        "a57aa2a94c7c41e7a516396facbd24a2": {
          "model_module": "@jupyter-widgets/controls",
          "model_name": "IntProgressModel",
          "state": {
            "_view_name": "ProgressView",
            "style": "IPY_MODEL_96756b26d0d246ef9a885c72a6f91948",
            "_dom_classes": [],
            "description": "100%",
            "_model_name": "IntProgressModel",
            "bar_style": "success",
            "max": 10150,
            "_view_module": "@jupyter-widgets/controls",
            "_model_module_version": "1.5.0",
            "value": 10150,
            "_view_count": null,
            "_view_module_version": "1.5.0",
            "orientation": "horizontal",
            "min": 0,
            "description_tooltip": null,
            "_model_module": "@jupyter-widgets/controls",
            "layout": "IPY_MODEL_ca2e1c1df6724d60a42f26de612d4cff"
          }
        },
        "cf23af750058489caea0616f3cebb8a0": {
          "model_module": "@jupyter-widgets/controls",
          "model_name": "HTMLModel",
          "state": {
            "_view_name": "HTMLView",
            "style": "IPY_MODEL_a446d335e82b485d8a475cd178402e79",
            "_dom_classes": [],
            "description": "",
            "_model_name": "HTMLModel",
            "placeholder": "​",
            "_view_module": "@jupyter-widgets/controls",
            "_model_module_version": "1.5.0",
            "value": " 10150/10150 [00:45&lt;00:00, 221.69it/s]",
            "_view_count": null,
            "_view_module_version": "1.5.0",
            "description_tooltip": null,
            "_model_module": "@jupyter-widgets/controls",
            "layout": "IPY_MODEL_e903193c0e4946a797a8c3fad0e40c83"
          }
        },
        "96756b26d0d246ef9a885c72a6f91948": {
          "model_module": "@jupyter-widgets/controls",
          "model_name": "ProgressStyleModel",
          "state": {
            "_view_name": "StyleView",
            "_model_name": "ProgressStyleModel",
            "description_width": "initial",
            "_view_module": "@jupyter-widgets/base",
            "_model_module_version": "1.5.0",
            "_view_count": null,
            "_view_module_version": "1.2.0",
            "bar_color": null,
            "_model_module": "@jupyter-widgets/controls"
          }
        },
        "ca2e1c1df6724d60a42f26de612d4cff": {
          "model_module": "@jupyter-widgets/base",
          "model_name": "LayoutModel",
          "state": {
            "_view_name": "LayoutView",
            "grid_template_rows": null,
            "right": null,
            "justify_content": null,
            "_view_module": "@jupyter-widgets/base",
            "overflow": null,
            "_model_module_version": "1.2.0",
            "_view_count": null,
            "flex_flow": null,
            "width": null,
            "min_width": null,
            "border": null,
            "align_items": null,
            "bottom": null,
            "_model_module": "@jupyter-widgets/base",
            "top": null,
            "grid_column": null,
            "overflow_y": null,
            "overflow_x": null,
            "grid_auto_flow": null,
            "grid_area": null,
            "grid_template_columns": null,
            "flex": null,
            "_model_name": "LayoutModel",
            "justify_items": null,
            "grid_row": null,
            "max_height": null,
            "align_content": null,
            "visibility": null,
            "align_self": null,
            "height": null,
            "min_height": null,
            "padding": null,
            "grid_auto_rows": null,
            "grid_gap": null,
            "max_width": null,
            "order": null,
            "_view_module_version": "1.2.0",
            "grid_template_areas": null,
            "object_position": null,
            "object_fit": null,
            "grid_auto_columns": null,
            "margin": null,
            "display": null,
            "left": null
          }
        },
        "a446d335e82b485d8a475cd178402e79": {
          "model_module": "@jupyter-widgets/controls",
          "model_name": "DescriptionStyleModel",
          "state": {
            "_view_name": "StyleView",
            "_model_name": "DescriptionStyleModel",
            "description_width": "",
            "_view_module": "@jupyter-widgets/base",
            "_model_module_version": "1.5.0",
            "_view_count": null,
            "_view_module_version": "1.2.0",
            "_model_module": "@jupyter-widgets/controls"
          }
        },
        "e903193c0e4946a797a8c3fad0e40c83": {
          "model_module": "@jupyter-widgets/base",
          "model_name": "LayoutModel",
          "state": {
            "_view_name": "LayoutView",
            "grid_template_rows": null,
            "right": null,
            "justify_content": null,
            "_view_module": "@jupyter-widgets/base",
            "overflow": null,
            "_model_module_version": "1.2.0",
            "_view_count": null,
            "flex_flow": null,
            "width": null,
            "min_width": null,
            "border": null,
            "align_items": null,
            "bottom": null,
            "_model_module": "@jupyter-widgets/base",
            "top": null,
            "grid_column": null,
            "overflow_y": null,
            "overflow_x": null,
            "grid_auto_flow": null,
            "grid_area": null,
            "grid_template_columns": null,
            "flex": null,
            "_model_name": "LayoutModel",
            "justify_items": null,
            "grid_row": null,
            "max_height": null,
            "align_content": null,
            "visibility": null,
            "align_self": null,
            "height": null,
            "min_height": null,
            "padding": null,
            "grid_auto_rows": null,
            "grid_gap": null,
            "max_width": null,
            "order": null,
            "_view_module_version": "1.2.0",
            "grid_template_areas": null,
            "object_position": null,
            "object_fit": null,
            "grid_auto_columns": null,
            "margin": null,
            "display": null,
            "left": null
          }
        },
        "11e9ecb47cdc4c9595fdb736f7970fef": {
          "model_module": "@jupyter-widgets/controls",
          "model_name": "HBoxModel",
          "state": {
            "_view_name": "HBoxView",
            "_dom_classes": [],
            "_model_name": "HBoxModel",
            "_view_module": "@jupyter-widgets/controls",
            "_model_module_version": "1.5.0",
            "_view_count": null,
            "_view_module_version": "1.5.0",
            "box_style": "",
            "layout": "IPY_MODEL_03127d7a4971497b94bb8b0cf9da361a",
            "_model_module": "@jupyter-widgets/controls",
            "children": [
              "IPY_MODEL_168431e2532e4d9cab923b04218f3c6d",
              "IPY_MODEL_c1e2cfd46eb74f848b5dfaedc4dc5957"
            ]
          }
        },
        "03127d7a4971497b94bb8b0cf9da361a": {
          "model_module": "@jupyter-widgets/base",
          "model_name": "LayoutModel",
          "state": {
            "_view_name": "LayoutView",
            "grid_template_rows": null,
            "right": null,
            "justify_content": null,
            "_view_module": "@jupyter-widgets/base",
            "overflow": null,
            "_model_module_version": "1.2.0",
            "_view_count": null,
            "flex_flow": null,
            "width": null,
            "min_width": null,
            "border": null,
            "align_items": null,
            "bottom": null,
            "_model_module": "@jupyter-widgets/base",
            "top": null,
            "grid_column": null,
            "overflow_y": null,
            "overflow_x": null,
            "grid_auto_flow": null,
            "grid_area": null,
            "grid_template_columns": null,
            "flex": null,
            "_model_name": "LayoutModel",
            "justify_items": null,
            "grid_row": null,
            "max_height": null,
            "align_content": null,
            "visibility": null,
            "align_self": null,
            "height": null,
            "min_height": null,
            "padding": null,
            "grid_auto_rows": null,
            "grid_gap": null,
            "max_width": null,
            "order": null,
            "_view_module_version": "1.2.0",
            "grid_template_areas": null,
            "object_position": null,
            "object_fit": null,
            "grid_auto_columns": null,
            "margin": null,
            "display": null,
            "left": null
          }
        },
        "168431e2532e4d9cab923b04218f3c6d": {
          "model_module": "@jupyter-widgets/controls",
          "model_name": "IntProgressModel",
          "state": {
            "_view_name": "ProgressView",
            "style": "IPY_MODEL_92cfa30557ff4122a278721a7ab147f8",
            "_dom_classes": [],
            "description": "100%",
            "_model_name": "IntProgressModel",
            "bar_style": "success",
            "max": 68805,
            "_view_module": "@jupyter-widgets/controls",
            "_model_module_version": "1.5.0",
            "value": 68805,
            "_view_count": null,
            "_view_module_version": "1.5.0",
            "orientation": "horizontal",
            "min": 0,
            "description_tooltip": null,
            "_model_module": "@jupyter-widgets/controls",
            "layout": "IPY_MODEL_873f547a03814fa1a8a0bb1497a0435b"
          }
        },
        "c1e2cfd46eb74f848b5dfaedc4dc5957": {
          "model_module": "@jupyter-widgets/controls",
          "model_name": "HTMLModel",
          "state": {
            "_view_name": "HTMLView",
            "style": "IPY_MODEL_c66ab55e0883492591dd3de3cc3f4ab3",
            "_dom_classes": [],
            "description": "",
            "_model_name": "HTMLModel",
            "placeholder": "​",
            "_view_module": "@jupyter-widgets/controls",
            "_model_module_version": "1.5.0",
            "value": " 68805/68805 [11:19&lt;00:00, 101.19it/s]",
            "_view_count": null,
            "_view_module_version": "1.5.0",
            "description_tooltip": null,
            "_model_module": "@jupyter-widgets/controls",
            "layout": "IPY_MODEL_334c50ce33ce4806b098060830b1ed20"
          }
        },
        "92cfa30557ff4122a278721a7ab147f8": {
          "model_module": "@jupyter-widgets/controls",
          "model_name": "ProgressStyleModel",
          "state": {
            "_view_name": "StyleView",
            "_model_name": "ProgressStyleModel",
            "description_width": "initial",
            "_view_module": "@jupyter-widgets/base",
            "_model_module_version": "1.5.0",
            "_view_count": null,
            "_view_module_version": "1.2.0",
            "bar_color": null,
            "_model_module": "@jupyter-widgets/controls"
          }
        },
        "873f547a03814fa1a8a0bb1497a0435b": {
          "model_module": "@jupyter-widgets/base",
          "model_name": "LayoutModel",
          "state": {
            "_view_name": "LayoutView",
            "grid_template_rows": null,
            "right": null,
            "justify_content": null,
            "_view_module": "@jupyter-widgets/base",
            "overflow": null,
            "_model_module_version": "1.2.0",
            "_view_count": null,
            "flex_flow": null,
            "width": null,
            "min_width": null,
            "border": null,
            "align_items": null,
            "bottom": null,
            "_model_module": "@jupyter-widgets/base",
            "top": null,
            "grid_column": null,
            "overflow_y": null,
            "overflow_x": null,
            "grid_auto_flow": null,
            "grid_area": null,
            "grid_template_columns": null,
            "flex": null,
            "_model_name": "LayoutModel",
            "justify_items": null,
            "grid_row": null,
            "max_height": null,
            "align_content": null,
            "visibility": null,
            "align_self": null,
            "height": null,
            "min_height": null,
            "padding": null,
            "grid_auto_rows": null,
            "grid_gap": null,
            "max_width": null,
            "order": null,
            "_view_module_version": "1.2.0",
            "grid_template_areas": null,
            "object_position": null,
            "object_fit": null,
            "grid_auto_columns": null,
            "margin": null,
            "display": null,
            "left": null
          }
        },
        "c66ab55e0883492591dd3de3cc3f4ab3": {
          "model_module": "@jupyter-widgets/controls",
          "model_name": "DescriptionStyleModel",
          "state": {
            "_view_name": "StyleView",
            "_model_name": "DescriptionStyleModel",
            "description_width": "",
            "_view_module": "@jupyter-widgets/base",
            "_model_module_version": "1.5.0",
            "_view_count": null,
            "_view_module_version": "1.2.0",
            "_model_module": "@jupyter-widgets/controls"
          }
        },
        "334c50ce33ce4806b098060830b1ed20": {
          "model_module": "@jupyter-widgets/base",
          "model_name": "LayoutModel",
          "state": {
            "_view_name": "LayoutView",
            "grid_template_rows": null,
            "right": null,
            "justify_content": null,
            "_view_module": "@jupyter-widgets/base",
            "overflow": null,
            "_model_module_version": "1.2.0",
            "_view_count": null,
            "flex_flow": null,
            "width": null,
            "min_width": null,
            "border": null,
            "align_items": null,
            "bottom": null,
            "_model_module": "@jupyter-widgets/base",
            "top": null,
            "grid_column": null,
            "overflow_y": null,
            "overflow_x": null,
            "grid_auto_flow": null,
            "grid_area": null,
            "grid_template_columns": null,
            "flex": null,
            "_model_name": "LayoutModel",
            "justify_items": null,
            "grid_row": null,
            "max_height": null,
            "align_content": null,
            "visibility": null,
            "align_self": null,
            "height": null,
            "min_height": null,
            "padding": null,
            "grid_auto_rows": null,
            "grid_gap": null,
            "max_width": null,
            "order": null,
            "_view_module_version": "1.2.0",
            "grid_template_areas": null,
            "object_position": null,
            "object_fit": null,
            "grid_auto_columns": null,
            "margin": null,
            "display": null,
            "left": null
          }
        },
        "6a35bc3aa0574c58a90006f9cb8a3215": {
          "model_module": "@jupyter-widgets/controls",
          "model_name": "HBoxModel",
          "state": {
            "_view_name": "HBoxView",
            "_dom_classes": [],
            "_model_name": "HBoxModel",
            "_view_module": "@jupyter-widgets/controls",
            "_model_module_version": "1.5.0",
            "_view_count": null,
            "_view_module_version": "1.5.0",
            "box_style": "",
            "layout": "IPY_MODEL_dc09e1c2a93845b5911870336031bf48",
            "_model_module": "@jupyter-widgets/controls",
            "children": [
              "IPY_MODEL_cab238c3a2bd4346aaa940fce15b6145",
              "IPY_MODEL_ff89667fc9a14278a6d0360c97dfec94"
            ]
          }
        },
        "dc09e1c2a93845b5911870336031bf48": {
          "model_module": "@jupyter-widgets/base",
          "model_name": "LayoutModel",
          "state": {
            "_view_name": "LayoutView",
            "grid_template_rows": null,
            "right": null,
            "justify_content": null,
            "_view_module": "@jupyter-widgets/base",
            "overflow": null,
            "_model_module_version": "1.2.0",
            "_view_count": null,
            "flex_flow": null,
            "width": null,
            "min_width": null,
            "border": null,
            "align_items": null,
            "bottom": null,
            "_model_module": "@jupyter-widgets/base",
            "top": null,
            "grid_column": null,
            "overflow_y": null,
            "overflow_x": null,
            "grid_auto_flow": null,
            "grid_area": null,
            "grid_template_columns": null,
            "flex": null,
            "_model_name": "LayoutModel",
            "justify_items": null,
            "grid_row": null,
            "max_height": null,
            "align_content": null,
            "visibility": null,
            "align_self": null,
            "height": null,
            "min_height": null,
            "padding": null,
            "grid_auto_rows": null,
            "grid_gap": null,
            "max_width": null,
            "order": null,
            "_view_module_version": "1.2.0",
            "grid_template_areas": null,
            "object_position": null,
            "object_fit": null,
            "grid_auto_columns": null,
            "margin": null,
            "display": null,
            "left": null
          }
        },
        "cab238c3a2bd4346aaa940fce15b6145": {
          "model_module": "@jupyter-widgets/controls",
          "model_name": "IntProgressModel",
          "state": {
            "_view_name": "ProgressView",
            "style": "IPY_MODEL_9787a2cacecb4754b0dc031fbf75fb48",
            "_dom_classes": [],
            "description": "100%",
            "_model_name": "IntProgressModel",
            "bar_style": "success",
            "max": 12143,
            "_view_module": "@jupyter-widgets/controls",
            "_model_module_version": "1.5.0",
            "value": 12143,
            "_view_count": null,
            "_view_module_version": "1.5.0",
            "orientation": "horizontal",
            "min": 0,
            "description_tooltip": null,
            "_model_module": "@jupyter-widgets/controls",
            "layout": "IPY_MODEL_bc912fad76714a4da2c7e4576749824f"
          }
        },
        "ff89667fc9a14278a6d0360c97dfec94": {
          "model_module": "@jupyter-widgets/controls",
          "model_name": "HTMLModel",
          "state": {
            "_view_name": "HTMLView",
            "style": "IPY_MODEL_5ae92d3c478146db814eb7c651081917",
            "_dom_classes": [],
            "description": "",
            "_model_name": "HTMLModel",
            "placeholder": "​",
            "_view_module": "@jupyter-widgets/controls",
            "_model_module_version": "1.5.0",
            "value": " 12143/12143 [01:16&lt;00:00, 157.84it/s]",
            "_view_count": null,
            "_view_module_version": "1.5.0",
            "description_tooltip": null,
            "_model_module": "@jupyter-widgets/controls",
            "layout": "IPY_MODEL_aae2926df3a84e67b632e216849757a7"
          }
        },
        "9787a2cacecb4754b0dc031fbf75fb48": {
          "model_module": "@jupyter-widgets/controls",
          "model_name": "ProgressStyleModel",
          "state": {
            "_view_name": "StyleView",
            "_model_name": "ProgressStyleModel",
            "description_width": "initial",
            "_view_module": "@jupyter-widgets/base",
            "_model_module_version": "1.5.0",
            "_view_count": null,
            "_view_module_version": "1.2.0",
            "bar_color": null,
            "_model_module": "@jupyter-widgets/controls"
          }
        },
        "bc912fad76714a4da2c7e4576749824f": {
          "model_module": "@jupyter-widgets/base",
          "model_name": "LayoutModel",
          "state": {
            "_view_name": "LayoutView",
            "grid_template_rows": null,
            "right": null,
            "justify_content": null,
            "_view_module": "@jupyter-widgets/base",
            "overflow": null,
            "_model_module_version": "1.2.0",
            "_view_count": null,
            "flex_flow": null,
            "width": null,
            "min_width": null,
            "border": null,
            "align_items": null,
            "bottom": null,
            "_model_module": "@jupyter-widgets/base",
            "top": null,
            "grid_column": null,
            "overflow_y": null,
            "overflow_x": null,
            "grid_auto_flow": null,
            "grid_area": null,
            "grid_template_columns": null,
            "flex": null,
            "_model_name": "LayoutModel",
            "justify_items": null,
            "grid_row": null,
            "max_height": null,
            "align_content": null,
            "visibility": null,
            "align_self": null,
            "height": null,
            "min_height": null,
            "padding": null,
            "grid_auto_rows": null,
            "grid_gap": null,
            "max_width": null,
            "order": null,
            "_view_module_version": "1.2.0",
            "grid_template_areas": null,
            "object_position": null,
            "object_fit": null,
            "grid_auto_columns": null,
            "margin": null,
            "display": null,
            "left": null
          }
        },
        "5ae92d3c478146db814eb7c651081917": {
          "model_module": "@jupyter-widgets/controls",
          "model_name": "DescriptionStyleModel",
          "state": {
            "_view_name": "StyleView",
            "_model_name": "DescriptionStyleModel",
            "description_width": "",
            "_view_module": "@jupyter-widgets/base",
            "_model_module_version": "1.5.0",
            "_view_count": null,
            "_view_module_version": "1.2.0",
            "_model_module": "@jupyter-widgets/controls"
          }
        },
        "aae2926df3a84e67b632e216849757a7": {
          "model_module": "@jupyter-widgets/base",
          "model_name": "LayoutModel",
          "state": {
            "_view_name": "LayoutView",
            "grid_template_rows": null,
            "right": null,
            "justify_content": null,
            "_view_module": "@jupyter-widgets/base",
            "overflow": null,
            "_model_module_version": "1.2.0",
            "_view_count": null,
            "flex_flow": null,
            "width": null,
            "min_width": null,
            "border": null,
            "align_items": null,
            "bottom": null,
            "_model_module": "@jupyter-widgets/base",
            "top": null,
            "grid_column": null,
            "overflow_y": null,
            "overflow_x": null,
            "grid_auto_flow": null,
            "grid_area": null,
            "grid_template_columns": null,
            "flex": null,
            "_model_name": "LayoutModel",
            "justify_items": null,
            "grid_row": null,
            "max_height": null,
            "align_content": null,
            "visibility": null,
            "align_self": null,
            "height": null,
            "min_height": null,
            "padding": null,
            "grid_auto_rows": null,
            "grid_gap": null,
            "max_width": null,
            "order": null,
            "_view_module_version": "1.2.0",
            "grid_template_areas": null,
            "object_position": null,
            "object_fit": null,
            "grid_auto_columns": null,
            "margin": null,
            "display": null,
            "left": null
          }
        },
        "8e615697095c4aeb9aec6b28a29be4f1": {
          "model_module": "@jupyter-widgets/controls",
          "model_name": "HBoxModel",
          "state": {
            "_view_name": "HBoxView",
            "_dom_classes": [],
            "_model_name": "HBoxModel",
            "_view_module": "@jupyter-widgets/controls",
            "_model_module_version": "1.5.0",
            "_view_count": null,
            "_view_module_version": "1.5.0",
            "box_style": "",
            "layout": "IPY_MODEL_95ecf5080ee84443a1aee31d2c66507b",
            "_model_module": "@jupyter-widgets/controls",
            "children": [
              "IPY_MODEL_9ea6aa3895b1490fa7c4c5fa53aa15c4",
              "IPY_MODEL_0875961d3cc14aeba4314b4eb9e69998"
            ]
          }
        },
        "95ecf5080ee84443a1aee31d2c66507b": {
          "model_module": "@jupyter-widgets/base",
          "model_name": "LayoutModel",
          "state": {
            "_view_name": "LayoutView",
            "grid_template_rows": null,
            "right": null,
            "justify_content": null,
            "_view_module": "@jupyter-widgets/base",
            "overflow": null,
            "_model_module_version": "1.2.0",
            "_view_count": null,
            "flex_flow": null,
            "width": null,
            "min_width": null,
            "border": null,
            "align_items": null,
            "bottom": null,
            "_model_module": "@jupyter-widgets/base",
            "top": null,
            "grid_column": null,
            "overflow_y": null,
            "overflow_x": null,
            "grid_auto_flow": null,
            "grid_area": null,
            "grid_template_columns": null,
            "flex": null,
            "_model_name": "LayoutModel",
            "justify_items": null,
            "grid_row": null,
            "max_height": null,
            "align_content": null,
            "visibility": null,
            "align_self": null,
            "height": null,
            "min_height": null,
            "padding": null,
            "grid_auto_rows": null,
            "grid_gap": null,
            "max_width": null,
            "order": null,
            "_view_module_version": "1.2.0",
            "grid_template_areas": null,
            "object_position": null,
            "object_fit": null,
            "grid_auto_columns": null,
            "margin": null,
            "display": null,
            "left": null
          }
        },
        "9ea6aa3895b1490fa7c4c5fa53aa15c4": {
          "model_module": "@jupyter-widgets/controls",
          "model_name": "IntProgressModel",
          "state": {
            "_view_name": "ProgressView",
            "style": "IPY_MODEL_670a83b719434be394ecb83302ad659b",
            "_dom_classes": [],
            "description": "100%",
            "_model_name": "IntProgressModel",
            "bar_style": "success",
            "max": 68805,
            "_view_module": "@jupyter-widgets/controls",
            "_model_module_version": "1.5.0",
            "value": 68805,
            "_view_count": null,
            "_view_module_version": "1.5.0",
            "orientation": "horizontal",
            "min": 0,
            "description_tooltip": null,
            "_model_module": "@jupyter-widgets/controls",
            "layout": "IPY_MODEL_929f37b17c3c47a39ed9616299fe7157"
          }
        },
        "0875961d3cc14aeba4314b4eb9e69998": {
          "model_module": "@jupyter-widgets/controls",
          "model_name": "HTMLModel",
          "state": {
            "_view_name": "HTMLView",
            "style": "IPY_MODEL_7b6e36fed0134439ad9b089ee90caa32",
            "_dom_classes": [],
            "description": "",
            "_model_name": "HTMLModel",
            "placeholder": "​",
            "_view_module": "@jupyter-widgets/controls",
            "_model_module_version": "1.5.0",
            "value": " 68805/68805 [05:44&lt;00:00, 199.61it/s]",
            "_view_count": null,
            "_view_module_version": "1.5.0",
            "description_tooltip": null,
            "_model_module": "@jupyter-widgets/controls",
            "layout": "IPY_MODEL_03306569e8b24b59ba0b9db39560350f"
          }
        },
        "670a83b719434be394ecb83302ad659b": {
          "model_module": "@jupyter-widgets/controls",
          "model_name": "ProgressStyleModel",
          "state": {
            "_view_name": "StyleView",
            "_model_name": "ProgressStyleModel",
            "description_width": "initial",
            "_view_module": "@jupyter-widgets/base",
            "_model_module_version": "1.5.0",
            "_view_count": null,
            "_view_module_version": "1.2.0",
            "bar_color": null,
            "_model_module": "@jupyter-widgets/controls"
          }
        },
        "929f37b17c3c47a39ed9616299fe7157": {
          "model_module": "@jupyter-widgets/base",
          "model_name": "LayoutModel",
          "state": {
            "_view_name": "LayoutView",
            "grid_template_rows": null,
            "right": null,
            "justify_content": null,
            "_view_module": "@jupyter-widgets/base",
            "overflow": null,
            "_model_module_version": "1.2.0",
            "_view_count": null,
            "flex_flow": null,
            "width": null,
            "min_width": null,
            "border": null,
            "align_items": null,
            "bottom": null,
            "_model_module": "@jupyter-widgets/base",
            "top": null,
            "grid_column": null,
            "overflow_y": null,
            "overflow_x": null,
            "grid_auto_flow": null,
            "grid_area": null,
            "grid_template_columns": null,
            "flex": null,
            "_model_name": "LayoutModel",
            "justify_items": null,
            "grid_row": null,
            "max_height": null,
            "align_content": null,
            "visibility": null,
            "align_self": null,
            "height": null,
            "min_height": null,
            "padding": null,
            "grid_auto_rows": null,
            "grid_gap": null,
            "max_width": null,
            "order": null,
            "_view_module_version": "1.2.0",
            "grid_template_areas": null,
            "object_position": null,
            "object_fit": null,
            "grid_auto_columns": null,
            "margin": null,
            "display": null,
            "left": null
          }
        },
        "7b6e36fed0134439ad9b089ee90caa32": {
          "model_module": "@jupyter-widgets/controls",
          "model_name": "DescriptionStyleModel",
          "state": {
            "_view_name": "StyleView",
            "_model_name": "DescriptionStyleModel",
            "description_width": "",
            "_view_module": "@jupyter-widgets/base",
            "_model_module_version": "1.5.0",
            "_view_count": null,
            "_view_module_version": "1.2.0",
            "_model_module": "@jupyter-widgets/controls"
          }
        },
        "03306569e8b24b59ba0b9db39560350f": {
          "model_module": "@jupyter-widgets/base",
          "model_name": "LayoutModel",
          "state": {
            "_view_name": "LayoutView",
            "grid_template_rows": null,
            "right": null,
            "justify_content": null,
            "_view_module": "@jupyter-widgets/base",
            "overflow": null,
            "_model_module_version": "1.2.0",
            "_view_count": null,
            "flex_flow": null,
            "width": null,
            "min_width": null,
            "border": null,
            "align_items": null,
            "bottom": null,
            "_model_module": "@jupyter-widgets/base",
            "top": null,
            "grid_column": null,
            "overflow_y": null,
            "overflow_x": null,
            "grid_auto_flow": null,
            "grid_area": null,
            "grid_template_columns": null,
            "flex": null,
            "_model_name": "LayoutModel",
            "justify_items": null,
            "grid_row": null,
            "max_height": null,
            "align_content": null,
            "visibility": null,
            "align_self": null,
            "height": null,
            "min_height": null,
            "padding": null,
            "grid_auto_rows": null,
            "grid_gap": null,
            "max_width": null,
            "order": null,
            "_view_module_version": "1.2.0",
            "grid_template_areas": null,
            "object_position": null,
            "object_fit": null,
            "grid_auto_columns": null,
            "margin": null,
            "display": null,
            "left": null
          }
        },
        "f46cdaee84fe4590b1e5912a95bde42c": {
          "model_module": "@jupyter-widgets/controls",
          "model_name": "HBoxModel",
          "state": {
            "_view_name": "HBoxView",
            "_dom_classes": [],
            "_model_name": "HBoxModel",
            "_view_module": "@jupyter-widgets/controls",
            "_model_module_version": "1.5.0",
            "_view_count": null,
            "_view_module_version": "1.5.0",
            "box_style": "",
            "layout": "IPY_MODEL_5cec564b8624488e8b0a51bd1086887c",
            "_model_module": "@jupyter-widgets/controls",
            "children": [
              "IPY_MODEL_7de572a4bea541cfb1b63a515b1b8ba6",
              "IPY_MODEL_251b3af87f1346a687792c0fda1aa0c6"
            ]
          }
        },
        "5cec564b8624488e8b0a51bd1086887c": {
          "model_module": "@jupyter-widgets/base",
          "model_name": "LayoutModel",
          "state": {
            "_view_name": "LayoutView",
            "grid_template_rows": null,
            "right": null,
            "justify_content": null,
            "_view_module": "@jupyter-widgets/base",
            "overflow": null,
            "_model_module_version": "1.2.0",
            "_view_count": null,
            "flex_flow": null,
            "width": null,
            "min_width": null,
            "border": null,
            "align_items": null,
            "bottom": null,
            "_model_module": "@jupyter-widgets/base",
            "top": null,
            "grid_column": null,
            "overflow_y": null,
            "overflow_x": null,
            "grid_auto_flow": null,
            "grid_area": null,
            "grid_template_columns": null,
            "flex": null,
            "_model_name": "LayoutModel",
            "justify_items": null,
            "grid_row": null,
            "max_height": null,
            "align_content": null,
            "visibility": null,
            "align_self": null,
            "height": null,
            "min_height": null,
            "padding": null,
            "grid_auto_rows": null,
            "grid_gap": null,
            "max_width": null,
            "order": null,
            "_view_module_version": "1.2.0",
            "grid_template_areas": null,
            "object_position": null,
            "object_fit": null,
            "grid_auto_columns": null,
            "margin": null,
            "display": null,
            "left": null
          }
        },
        "7de572a4bea541cfb1b63a515b1b8ba6": {
          "model_module": "@jupyter-widgets/controls",
          "model_name": "IntProgressModel",
          "state": {
            "_view_name": "ProgressView",
            "style": "IPY_MODEL_9d01133577e246668007723f445af279",
            "_dom_classes": [],
            "description": "100%",
            "_model_name": "IntProgressModel",
            "bar_style": "success",
            "max": 12143,
            "_view_module": "@jupyter-widgets/controls",
            "_model_module_version": "1.5.0",
            "value": 12143,
            "_view_count": null,
            "_view_module_version": "1.5.0",
            "orientation": "horizontal",
            "min": 0,
            "description_tooltip": null,
            "_model_module": "@jupyter-widgets/controls",
            "layout": "IPY_MODEL_082edf744f8e453ba5235ffea8e25864"
          }
        },
        "251b3af87f1346a687792c0fda1aa0c6": {
          "model_module": "@jupyter-widgets/controls",
          "model_name": "HTMLModel",
          "state": {
            "_view_name": "HTMLView",
            "style": "IPY_MODEL_76c0589a512b48ff8fd87e96d43ee278",
            "_dom_classes": [],
            "description": "",
            "_model_name": "HTMLModel",
            "placeholder": "​",
            "_view_module": "@jupyter-widgets/controls",
            "_model_module_version": "1.5.0",
            "value": " 12143/12143 [2:03:30&lt;00:00,  1.64it/s]",
            "_view_count": null,
            "_view_module_version": "1.5.0",
            "description_tooltip": null,
            "_model_module": "@jupyter-widgets/controls",
            "layout": "IPY_MODEL_412bb449019d40279e77f8df72bdf5e4"
          }
        },
        "9d01133577e246668007723f445af279": {
          "model_module": "@jupyter-widgets/controls",
          "model_name": "ProgressStyleModel",
          "state": {
            "_view_name": "StyleView",
            "_model_name": "ProgressStyleModel",
            "description_width": "initial",
            "_view_module": "@jupyter-widgets/base",
            "_model_module_version": "1.5.0",
            "_view_count": null,
            "_view_module_version": "1.2.0",
            "bar_color": null,
            "_model_module": "@jupyter-widgets/controls"
          }
        },
        "082edf744f8e453ba5235ffea8e25864": {
          "model_module": "@jupyter-widgets/base",
          "model_name": "LayoutModel",
          "state": {
            "_view_name": "LayoutView",
            "grid_template_rows": null,
            "right": null,
            "justify_content": null,
            "_view_module": "@jupyter-widgets/base",
            "overflow": null,
            "_model_module_version": "1.2.0",
            "_view_count": null,
            "flex_flow": null,
            "width": null,
            "min_width": null,
            "border": null,
            "align_items": null,
            "bottom": null,
            "_model_module": "@jupyter-widgets/base",
            "top": null,
            "grid_column": null,
            "overflow_y": null,
            "overflow_x": null,
            "grid_auto_flow": null,
            "grid_area": null,
            "grid_template_columns": null,
            "flex": null,
            "_model_name": "LayoutModel",
            "justify_items": null,
            "grid_row": null,
            "max_height": null,
            "align_content": null,
            "visibility": null,
            "align_self": null,
            "height": null,
            "min_height": null,
            "padding": null,
            "grid_auto_rows": null,
            "grid_gap": null,
            "max_width": null,
            "order": null,
            "_view_module_version": "1.2.0",
            "grid_template_areas": null,
            "object_position": null,
            "object_fit": null,
            "grid_auto_columns": null,
            "margin": null,
            "display": null,
            "left": null
          }
        },
        "76c0589a512b48ff8fd87e96d43ee278": {
          "model_module": "@jupyter-widgets/controls",
          "model_name": "DescriptionStyleModel",
          "state": {
            "_view_name": "StyleView",
            "_model_name": "DescriptionStyleModel",
            "description_width": "",
            "_view_module": "@jupyter-widgets/base",
            "_model_module_version": "1.5.0",
            "_view_count": null,
            "_view_module_version": "1.2.0",
            "_model_module": "@jupyter-widgets/controls"
          }
        },
        "412bb449019d40279e77f8df72bdf5e4": {
          "model_module": "@jupyter-widgets/base",
          "model_name": "LayoutModel",
          "state": {
            "_view_name": "LayoutView",
            "grid_template_rows": null,
            "right": null,
            "justify_content": null,
            "_view_module": "@jupyter-widgets/base",
            "overflow": null,
            "_model_module_version": "1.2.0",
            "_view_count": null,
            "flex_flow": null,
            "width": null,
            "min_width": null,
            "border": null,
            "align_items": null,
            "bottom": null,
            "_model_module": "@jupyter-widgets/base",
            "top": null,
            "grid_column": null,
            "overflow_y": null,
            "overflow_x": null,
            "grid_auto_flow": null,
            "grid_area": null,
            "grid_template_columns": null,
            "flex": null,
            "_model_name": "LayoutModel",
            "justify_items": null,
            "grid_row": null,
            "max_height": null,
            "align_content": null,
            "visibility": null,
            "align_self": null,
            "height": null,
            "min_height": null,
            "padding": null,
            "grid_auto_rows": null,
            "grid_gap": null,
            "max_width": null,
            "order": null,
            "_view_module_version": "1.2.0",
            "grid_template_areas": null,
            "object_position": null,
            "object_fit": null,
            "grid_auto_columns": null,
            "margin": null,
            "display": null,
            "left": null
          }
        },
        "8169ec7e0d084c8f8e9976e261c28ea7": {
          "model_module": "@jupyter-widgets/controls",
          "model_name": "HBoxModel",
          "state": {
            "_view_name": "HBoxView",
            "_dom_classes": [],
            "_model_name": "HBoxModel",
            "_view_module": "@jupyter-widgets/controls",
            "_model_module_version": "1.5.0",
            "_view_count": null,
            "_view_module_version": "1.5.0",
            "box_style": "",
            "layout": "IPY_MODEL_44614f493ae54341b7d25fe7081b3110",
            "_model_module": "@jupyter-widgets/controls",
            "children": [
              "IPY_MODEL_70a8dde1686246c9b678e51f7b1b8696",
              "IPY_MODEL_01d07972580444e29c0f0a9d1336496a"
            ]
          }
        },
        "44614f493ae54341b7d25fe7081b3110": {
          "model_module": "@jupyter-widgets/base",
          "model_name": "LayoutModel",
          "state": {
            "_view_name": "LayoutView",
            "grid_template_rows": null,
            "right": null,
            "justify_content": null,
            "_view_module": "@jupyter-widgets/base",
            "overflow": null,
            "_model_module_version": "1.2.0",
            "_view_count": null,
            "flex_flow": null,
            "width": null,
            "min_width": null,
            "border": null,
            "align_items": null,
            "bottom": null,
            "_model_module": "@jupyter-widgets/base",
            "top": null,
            "grid_column": null,
            "overflow_y": null,
            "overflow_x": null,
            "grid_auto_flow": null,
            "grid_area": null,
            "grid_template_columns": null,
            "flex": null,
            "_model_name": "LayoutModel",
            "justify_items": null,
            "grid_row": null,
            "max_height": null,
            "align_content": null,
            "visibility": null,
            "align_self": null,
            "height": null,
            "min_height": null,
            "padding": null,
            "grid_auto_rows": null,
            "grid_gap": null,
            "max_width": null,
            "order": null,
            "_view_module_version": "1.2.0",
            "grid_template_areas": null,
            "object_position": null,
            "object_fit": null,
            "grid_auto_columns": null,
            "margin": null,
            "display": null,
            "left": null
          }
        },
        "70a8dde1686246c9b678e51f7b1b8696": {
          "model_module": "@jupyter-widgets/controls",
          "model_name": "IntProgressModel",
          "state": {
            "_view_name": "ProgressView",
            "style": "IPY_MODEL_9f3e3a88cb0e4715bf6eb0aeb9c1da5a",
            "_dom_classes": [],
            "description": "100%",
            "_model_name": "IntProgressModel",
            "bar_style": "success",
            "max": 10150,
            "_view_module": "@jupyter-widgets/controls",
            "_model_module_version": "1.5.0",
            "value": 10150,
            "_view_count": null,
            "_view_module_version": "1.5.0",
            "orientation": "horizontal",
            "min": 0,
            "description_tooltip": null,
            "_model_module": "@jupyter-widgets/controls",
            "layout": "IPY_MODEL_e72946bfbc7b4b6e9f1b35f5c245680a"
          }
        },
        "01d07972580444e29c0f0a9d1336496a": {
          "model_module": "@jupyter-widgets/controls",
          "model_name": "HTMLModel",
          "state": {
            "_view_name": "HTMLView",
            "style": "IPY_MODEL_2ee6970c9a6b402caa4cf6ac31ab0322",
            "_dom_classes": [],
            "description": "",
            "_model_name": "HTMLModel",
            "placeholder": "​",
            "_view_module": "@jupyter-widgets/controls",
            "_model_module_version": "1.5.0",
            "value": " 10150/10150 [2:02:39&lt;00:00,  1.38it/s]",
            "_view_count": null,
            "_view_module_version": "1.5.0",
            "description_tooltip": null,
            "_model_module": "@jupyter-widgets/controls",
            "layout": "IPY_MODEL_8b638b81295b4800a0fe7d4aafafc309"
          }
        },
        "9f3e3a88cb0e4715bf6eb0aeb9c1da5a": {
          "model_module": "@jupyter-widgets/controls",
          "model_name": "ProgressStyleModel",
          "state": {
            "_view_name": "StyleView",
            "_model_name": "ProgressStyleModel",
            "description_width": "initial",
            "_view_module": "@jupyter-widgets/base",
            "_model_module_version": "1.5.0",
            "_view_count": null,
            "_view_module_version": "1.2.0",
            "bar_color": null,
            "_model_module": "@jupyter-widgets/controls"
          }
        },
        "e72946bfbc7b4b6e9f1b35f5c245680a": {
          "model_module": "@jupyter-widgets/base",
          "model_name": "LayoutModel",
          "state": {
            "_view_name": "LayoutView",
            "grid_template_rows": null,
            "right": null,
            "justify_content": null,
            "_view_module": "@jupyter-widgets/base",
            "overflow": null,
            "_model_module_version": "1.2.0",
            "_view_count": null,
            "flex_flow": null,
            "width": null,
            "min_width": null,
            "border": null,
            "align_items": null,
            "bottom": null,
            "_model_module": "@jupyter-widgets/base",
            "top": null,
            "grid_column": null,
            "overflow_y": null,
            "overflow_x": null,
            "grid_auto_flow": null,
            "grid_area": null,
            "grid_template_columns": null,
            "flex": null,
            "_model_name": "LayoutModel",
            "justify_items": null,
            "grid_row": null,
            "max_height": null,
            "align_content": null,
            "visibility": null,
            "align_self": null,
            "height": null,
            "min_height": null,
            "padding": null,
            "grid_auto_rows": null,
            "grid_gap": null,
            "max_width": null,
            "order": null,
            "_view_module_version": "1.2.0",
            "grid_template_areas": null,
            "object_position": null,
            "object_fit": null,
            "grid_auto_columns": null,
            "margin": null,
            "display": null,
            "left": null
          }
        },
        "2ee6970c9a6b402caa4cf6ac31ab0322": {
          "model_module": "@jupyter-widgets/controls",
          "model_name": "DescriptionStyleModel",
          "state": {
            "_view_name": "StyleView",
            "_model_name": "DescriptionStyleModel",
            "description_width": "",
            "_view_module": "@jupyter-widgets/base",
            "_model_module_version": "1.5.0",
            "_view_count": null,
            "_view_module_version": "1.2.0",
            "_model_module": "@jupyter-widgets/controls"
          }
        },
        "8b638b81295b4800a0fe7d4aafafc309": {
          "model_module": "@jupyter-widgets/base",
          "model_name": "LayoutModel",
          "state": {
            "_view_name": "LayoutView",
            "grid_template_rows": null,
            "right": null,
            "justify_content": null,
            "_view_module": "@jupyter-widgets/base",
            "overflow": null,
            "_model_module_version": "1.2.0",
            "_view_count": null,
            "flex_flow": null,
            "width": null,
            "min_width": null,
            "border": null,
            "align_items": null,
            "bottom": null,
            "_model_module": "@jupyter-widgets/base",
            "top": null,
            "grid_column": null,
            "overflow_y": null,
            "overflow_x": null,
            "grid_auto_flow": null,
            "grid_area": null,
            "grid_template_columns": null,
            "flex": null,
            "_model_name": "LayoutModel",
            "justify_items": null,
            "grid_row": null,
            "max_height": null,
            "align_content": null,
            "visibility": null,
            "align_self": null,
            "height": null,
            "min_height": null,
            "padding": null,
            "grid_auto_rows": null,
            "grid_gap": null,
            "max_width": null,
            "order": null,
            "_view_module_version": "1.2.0",
            "grid_template_areas": null,
            "object_position": null,
            "object_fit": null,
            "grid_auto_columns": null,
            "margin": null,
            "display": null,
            "left": null
          }
        },
        "1cd9155b6a384994a6716aada9e103d5": {
          "model_module": "@jupyter-widgets/controls",
          "model_name": "HBoxModel",
          "state": {
            "_view_name": "HBoxView",
            "_dom_classes": [],
            "_model_name": "HBoxModel",
            "_view_module": "@jupyter-widgets/controls",
            "_model_module_version": "1.5.0",
            "_view_count": null,
            "_view_module_version": "1.5.0",
            "box_style": "",
            "layout": "IPY_MODEL_c428b795e9bd4ccdbb507d586fb2e228",
            "_model_module": "@jupyter-widgets/controls",
            "children": [
              "IPY_MODEL_23c4de61786c431ca9e375c09e8938c9",
              "IPY_MODEL_fe791bb1484140ed8ac9ffb658d0161d"
            ]
          }
        },
        "c428b795e9bd4ccdbb507d586fb2e228": {
          "model_module": "@jupyter-widgets/base",
          "model_name": "LayoutModel",
          "state": {
            "_view_name": "LayoutView",
            "grid_template_rows": null,
            "right": null,
            "justify_content": null,
            "_view_module": "@jupyter-widgets/base",
            "overflow": null,
            "_model_module_version": "1.2.0",
            "_view_count": null,
            "flex_flow": null,
            "width": null,
            "min_width": null,
            "border": null,
            "align_items": null,
            "bottom": null,
            "_model_module": "@jupyter-widgets/base",
            "top": null,
            "grid_column": null,
            "overflow_y": null,
            "overflow_x": null,
            "grid_auto_flow": null,
            "grid_area": null,
            "grid_template_columns": null,
            "flex": null,
            "_model_name": "LayoutModel",
            "justify_items": null,
            "grid_row": null,
            "max_height": null,
            "align_content": null,
            "visibility": null,
            "align_self": null,
            "height": null,
            "min_height": null,
            "padding": null,
            "grid_auto_rows": null,
            "grid_gap": null,
            "max_width": null,
            "order": null,
            "_view_module_version": "1.2.0",
            "grid_template_areas": null,
            "object_position": null,
            "object_fit": null,
            "grid_auto_columns": null,
            "margin": null,
            "display": null,
            "left": null
          }
        },
        "23c4de61786c431ca9e375c09e8938c9": {
          "model_module": "@jupyter-widgets/controls",
          "model_name": "IntProgressModel",
          "state": {
            "_view_name": "ProgressView",
            "style": "IPY_MODEL_b7e14a9d151245948742529641aad911",
            "_dom_classes": [],
            "description": "100%",
            "_model_name": "IntProgressModel",
            "bar_style": "success",
            "max": 10150,
            "_view_module": "@jupyter-widgets/controls",
            "_model_module_version": "1.5.0",
            "value": 10150,
            "_view_count": null,
            "_view_module_version": "1.5.0",
            "orientation": "horizontal",
            "min": 0,
            "description_tooltip": null,
            "_model_module": "@jupyter-widgets/controls",
            "layout": "IPY_MODEL_6a08e192782349e7a2ec52a76738e44e"
          }
        },
        "fe791bb1484140ed8ac9ffb658d0161d": {
          "model_module": "@jupyter-widgets/controls",
          "model_name": "HTMLModel",
          "state": {
            "_view_name": "HTMLView",
            "style": "IPY_MODEL_e77e8778c8a74b05a7b304114496d290",
            "_dom_classes": [],
            "description": "",
            "_model_name": "HTMLModel",
            "placeholder": "​",
            "_view_module": "@jupyter-widgets/controls",
            "_model_module_version": "1.5.0",
            "value": " 10150/10150 [2:02:47&lt;00:00,  1.38it/s]",
            "_view_count": null,
            "_view_module_version": "1.5.0",
            "description_tooltip": null,
            "_model_module": "@jupyter-widgets/controls",
            "layout": "IPY_MODEL_fbf7b850ba1a42d3a4936e8fb5068be5"
          }
        },
        "b7e14a9d151245948742529641aad911": {
          "model_module": "@jupyter-widgets/controls",
          "model_name": "ProgressStyleModel",
          "state": {
            "_view_name": "StyleView",
            "_model_name": "ProgressStyleModel",
            "description_width": "initial",
            "_view_module": "@jupyter-widgets/base",
            "_model_module_version": "1.5.0",
            "_view_count": null,
            "_view_module_version": "1.2.0",
            "bar_color": null,
            "_model_module": "@jupyter-widgets/controls"
          }
        },
        "6a08e192782349e7a2ec52a76738e44e": {
          "model_module": "@jupyter-widgets/base",
          "model_name": "LayoutModel",
          "state": {
            "_view_name": "LayoutView",
            "grid_template_rows": null,
            "right": null,
            "justify_content": null,
            "_view_module": "@jupyter-widgets/base",
            "overflow": null,
            "_model_module_version": "1.2.0",
            "_view_count": null,
            "flex_flow": null,
            "width": null,
            "min_width": null,
            "border": null,
            "align_items": null,
            "bottom": null,
            "_model_module": "@jupyter-widgets/base",
            "top": null,
            "grid_column": null,
            "overflow_y": null,
            "overflow_x": null,
            "grid_auto_flow": null,
            "grid_area": null,
            "grid_template_columns": null,
            "flex": null,
            "_model_name": "LayoutModel",
            "justify_items": null,
            "grid_row": null,
            "max_height": null,
            "align_content": null,
            "visibility": null,
            "align_self": null,
            "height": null,
            "min_height": null,
            "padding": null,
            "grid_auto_rows": null,
            "grid_gap": null,
            "max_width": null,
            "order": null,
            "_view_module_version": "1.2.0",
            "grid_template_areas": null,
            "object_position": null,
            "object_fit": null,
            "grid_auto_columns": null,
            "margin": null,
            "display": null,
            "left": null
          }
        },
        "e77e8778c8a74b05a7b304114496d290": {
          "model_module": "@jupyter-widgets/controls",
          "model_name": "DescriptionStyleModel",
          "state": {
            "_view_name": "StyleView",
            "_model_name": "DescriptionStyleModel",
            "description_width": "",
            "_view_module": "@jupyter-widgets/base",
            "_model_module_version": "1.5.0",
            "_view_count": null,
            "_view_module_version": "1.2.0",
            "_model_module": "@jupyter-widgets/controls"
          }
        },
        "fbf7b850ba1a42d3a4936e8fb5068be5": {
          "model_module": "@jupyter-widgets/base",
          "model_name": "LayoutModel",
          "state": {
            "_view_name": "LayoutView",
            "grid_template_rows": null,
            "right": null,
            "justify_content": null,
            "_view_module": "@jupyter-widgets/base",
            "overflow": null,
            "_model_module_version": "1.2.0",
            "_view_count": null,
            "flex_flow": null,
            "width": null,
            "min_width": null,
            "border": null,
            "align_items": null,
            "bottom": null,
            "_model_module": "@jupyter-widgets/base",
            "top": null,
            "grid_column": null,
            "overflow_y": null,
            "overflow_x": null,
            "grid_auto_flow": null,
            "grid_area": null,
            "grid_template_columns": null,
            "flex": null,
            "_model_name": "LayoutModel",
            "justify_items": null,
            "grid_row": null,
            "max_height": null,
            "align_content": null,
            "visibility": null,
            "align_self": null,
            "height": null,
            "min_height": null,
            "padding": null,
            "grid_auto_rows": null,
            "grid_gap": null,
            "max_width": null,
            "order": null,
            "_view_module_version": "1.2.0",
            "grid_template_areas": null,
            "object_position": null,
            "object_fit": null,
            "grid_auto_columns": null,
            "margin": null,
            "display": null,
            "left": null
          }
        },
        "5c8d8ed2cbf1416193c719c734ec7b0d": {
          "model_module": "@jupyter-widgets/controls",
          "model_name": "HBoxModel",
          "state": {
            "_view_name": "HBoxView",
            "_dom_classes": [],
            "_model_name": "HBoxModel",
            "_view_module": "@jupyter-widgets/controls",
            "_model_module_version": "1.5.0",
            "_view_count": null,
            "_view_module_version": "1.5.0",
            "box_style": "",
            "layout": "IPY_MODEL_c79304a43d494618acd5ed01e650083b",
            "_model_module": "@jupyter-widgets/controls",
            "children": [
              "IPY_MODEL_3eeef65bdc694ed39e90d94569908ee0",
              "IPY_MODEL_f99b44152af2446faf0ecb5ca99b1c04"
            ]
          }
        },
        "c79304a43d494618acd5ed01e650083b": {
          "model_module": "@jupyter-widgets/base",
          "model_name": "LayoutModel",
          "state": {
            "_view_name": "LayoutView",
            "grid_template_rows": null,
            "right": null,
            "justify_content": null,
            "_view_module": "@jupyter-widgets/base",
            "overflow": null,
            "_model_module_version": "1.2.0",
            "_view_count": null,
            "flex_flow": null,
            "width": null,
            "min_width": null,
            "border": null,
            "align_items": null,
            "bottom": null,
            "_model_module": "@jupyter-widgets/base",
            "top": null,
            "grid_column": null,
            "overflow_y": null,
            "overflow_x": null,
            "grid_auto_flow": null,
            "grid_area": null,
            "grid_template_columns": null,
            "flex": null,
            "_model_name": "LayoutModel",
            "justify_items": null,
            "grid_row": null,
            "max_height": null,
            "align_content": null,
            "visibility": null,
            "align_self": null,
            "height": null,
            "min_height": null,
            "padding": null,
            "grid_auto_rows": null,
            "grid_gap": null,
            "max_width": null,
            "order": null,
            "_view_module_version": "1.2.0",
            "grid_template_areas": null,
            "object_position": null,
            "object_fit": null,
            "grid_auto_columns": null,
            "margin": null,
            "display": null,
            "left": null
          }
        },
        "3eeef65bdc694ed39e90d94569908ee0": {
          "model_module": "@jupyter-widgets/controls",
          "model_name": "IntProgressModel",
          "state": {
            "_view_name": "ProgressView",
            "style": "IPY_MODEL_df336d90eb1449aeb3827b7500a7d0c0",
            "_dom_classes": [],
            "description": " 12%",
            "_model_name": "IntProgressModel",
            "bar_style": "danger",
            "max": 601,
            "_view_module": "@jupyter-widgets/controls",
            "_model_module_version": "1.5.0",
            "value": 71,
            "_view_count": null,
            "_view_module_version": "1.5.0",
            "orientation": "horizontal",
            "min": 0,
            "description_tooltip": null,
            "_model_module": "@jupyter-widgets/controls",
            "layout": "IPY_MODEL_5454d3ded7f94c3b9ac00d53a96738af"
          }
        },
        "f99b44152af2446faf0ecb5ca99b1c04": {
          "model_module": "@jupyter-widgets/controls",
          "model_name": "HTMLModel",
          "state": {
            "_view_name": "HTMLView",
            "style": "IPY_MODEL_3bc4b6fa8ef64e4ba705f7593364a841",
            "_dom_classes": [],
            "description": "",
            "_model_name": "HTMLModel",
            "placeholder": "​",
            "_view_module": "@jupyter-widgets/controls",
            "_model_module_version": "1.5.0",
            "value": " 71/601 [00:49&lt;06:03,  1.46it/s]",
            "_view_count": null,
            "_view_module_version": "1.5.0",
            "description_tooltip": null,
            "_model_module": "@jupyter-widgets/controls",
            "layout": "IPY_MODEL_583f503653544420bb066853f7a047d1"
          }
        },
        "df336d90eb1449aeb3827b7500a7d0c0": {
          "model_module": "@jupyter-widgets/controls",
          "model_name": "ProgressStyleModel",
          "state": {
            "_view_name": "StyleView",
            "_model_name": "ProgressStyleModel",
            "description_width": "initial",
            "_view_module": "@jupyter-widgets/base",
            "_model_module_version": "1.5.0",
            "_view_count": null,
            "_view_module_version": "1.2.0",
            "bar_color": null,
            "_model_module": "@jupyter-widgets/controls"
          }
        },
        "5454d3ded7f94c3b9ac00d53a96738af": {
          "model_module": "@jupyter-widgets/base",
          "model_name": "LayoutModel",
          "state": {
            "_view_name": "LayoutView",
            "grid_template_rows": null,
            "right": null,
            "justify_content": null,
            "_view_module": "@jupyter-widgets/base",
            "overflow": null,
            "_model_module_version": "1.2.0",
            "_view_count": null,
            "flex_flow": null,
            "width": null,
            "min_width": null,
            "border": null,
            "align_items": null,
            "bottom": null,
            "_model_module": "@jupyter-widgets/base",
            "top": null,
            "grid_column": null,
            "overflow_y": null,
            "overflow_x": null,
            "grid_auto_flow": null,
            "grid_area": null,
            "grid_template_columns": null,
            "flex": null,
            "_model_name": "LayoutModel",
            "justify_items": null,
            "grid_row": null,
            "max_height": null,
            "align_content": null,
            "visibility": null,
            "align_self": null,
            "height": null,
            "min_height": null,
            "padding": null,
            "grid_auto_rows": null,
            "grid_gap": null,
            "max_width": null,
            "order": null,
            "_view_module_version": "1.2.0",
            "grid_template_areas": null,
            "object_position": null,
            "object_fit": null,
            "grid_auto_columns": null,
            "margin": null,
            "display": null,
            "left": null
          }
        },
        "3bc4b6fa8ef64e4ba705f7593364a841": {
          "model_module": "@jupyter-widgets/controls",
          "model_name": "DescriptionStyleModel",
          "state": {
            "_view_name": "StyleView",
            "_model_name": "DescriptionStyleModel",
            "description_width": "",
            "_view_module": "@jupyter-widgets/base",
            "_model_module_version": "1.5.0",
            "_view_count": null,
            "_view_module_version": "1.2.0",
            "_model_module": "@jupyter-widgets/controls"
          }
        },
        "583f503653544420bb066853f7a047d1": {
          "model_module": "@jupyter-widgets/base",
          "model_name": "LayoutModel",
          "state": {
            "_view_name": "LayoutView",
            "grid_template_rows": null,
            "right": null,
            "justify_content": null,
            "_view_module": "@jupyter-widgets/base",
            "overflow": null,
            "_model_module_version": "1.2.0",
            "_view_count": null,
            "flex_flow": null,
            "width": null,
            "min_width": null,
            "border": null,
            "align_items": null,
            "bottom": null,
            "_model_module": "@jupyter-widgets/base",
            "top": null,
            "grid_column": null,
            "overflow_y": null,
            "overflow_x": null,
            "grid_auto_flow": null,
            "grid_area": null,
            "grid_template_columns": null,
            "flex": null,
            "_model_name": "LayoutModel",
            "justify_items": null,
            "grid_row": null,
            "max_height": null,
            "align_content": null,
            "visibility": null,
            "align_self": null,
            "height": null,
            "min_height": null,
            "padding": null,
            "grid_auto_rows": null,
            "grid_gap": null,
            "max_width": null,
            "order": null,
            "_view_module_version": "1.2.0",
            "grid_template_areas": null,
            "object_position": null,
            "object_fit": null,
            "grid_auto_columns": null,
            "margin": null,
            "display": null,
            "left": null
          }
        }
      }
    },
    "accelerator": "GPU"
  },
  "cells": [
    {
      "cell_type": "code",
      "metadata": {
        "id": "5izbrngVuQuJ",
        "colab_type": "code",
        "outputId": "72411f36-0b1c-4823-cc93-f4ea409a6369",
        "colab": {
          "base_uri": "https://localhost:8080/",
          "height": 74
        }
      },
      "source": [
        "import pandas as pd\n",
        "import random\n",
        "import io\n",
        "import ast\n",
        "import numpy as np\n",
        "import os\n",
        "import re\n",
        "import string\n",
        "import pickle\n",
        "import copy\n",
        "import seaborn as sns\n",
        "import torch.nn.functional as functional\n",
        "%matplotlib inline\n",
        "import matplotlib\n",
        "import matplotlib.pyplot as plt\n",
        "from tqdm import tnrange\n",
        "from tqdm import tqdm_notebook as tqdm\n",
        "from collections import Counter\n",
        "from bs4 import BeautifulSoup\n",
        "from sklearn.metrics import f1_score\n",
        "from sklearn.neighbors import KNeighborsClassifier\n",
        "from sklearn.feature_extraction.text import TfidfVectorizer\n",
        "from sklearn.metrics import classification_report\n",
        "\n",
        "import torch, torch.nn as nn\n",
        "import torch.nn.functional as F\n",
        "from torch.autograd import Variable\n",
        "import nltk\n",
        "from nltk.stem import WordNetLemmatizer\n",
        "from torch.nn.utils.rnn import pack_padded_sequence, pad_packed_sequence\n",
        "from sklearn import linear_model\n",
        "from sklearn.naive_bayes import MultinomialNB\n",
        "from sklearn.metrics import pairwise_distances\n",
        "\n",
        "from time import time\n",
        "from tqdm import tnrange"
      ],
      "execution_count": 0,
      "outputs": [
        {
          "output_type": "stream",
          "text": [
            "/usr/local/lib/python3.6/dist-packages/statsmodels/tools/_testing.py:19: FutureWarning: pandas.util.testing is deprecated. Use the functions in the public API at pandas.testing instead.\n",
            "  import pandas.util.testing as tm\n"
          ],
          "name": "stderr"
        }
      ]
    },
    {
      "cell_type": "markdown",
      "metadata": {
        "id": "vNPnydy6xyQV",
        "colab_type": "text"
      },
      "source": [
        "### Loading texts, split on train, val and test\n"
      ]
    },
    {
      "cell_type": "code",
      "metadata": {
        "id": "AaVg7E10vkDU",
        "colab_type": "code",
        "colab": {}
      },
      "source": [
        "!wget https://www.dropbox.com/s/n8nfxxh5azocrrm/train_LASER.csv?dl=0\n",
        "!wget https://www.dropbox.com/s/je9am5c77ytfcaf/test_LASER.csv?dl=0 "
      ],
      "execution_count": 0,
      "outputs": []
    },
    {
      "cell_type": "code",
      "metadata": {
        "id": "HuR1LgGZufBF",
        "colab_type": "code",
        "outputId": "60d4a6d7-585b-44e1-9056-9e78f8b3c84e",
        "colab": {
          "base_uri": "https://localhost:8080/",
          "height": 35
        }
      },
      "source": [
        "#открываем файл с train dataset\n",
        "\n",
        "df_train = pd.read_csv(\"train_LASER.csv?dl=0\").dropna()\n",
        "\n",
        "train_texts = list(df_train['abstracts'])\n",
        "train_labels = list(df_train['labels'])\n",
        "len(train_labels)\n"
      ],
      "execution_count": 0,
      "outputs": [
        {
          "output_type": "execute_result",
          "data": {
            "text/plain": [
              "80948"
            ]
          },
          "metadata": {
            "tags": []
          },
          "execution_count": 5
        }
      ]
    },
    {
      "cell_type": "code",
      "metadata": {
        "id": "xoIn7HBivCxN",
        "colab_type": "code",
        "outputId": "c020b5ad-ac47-4c1d-fdfb-3d712e3940db",
        "colab": {
          "base_uri": "https://localhost:8080/",
          "height": 35
        }
      },
      "source": [
        "#открываем файл с test_dataset\n",
        "\n",
        "df_test = pd.read_csv(\"test_LASER.csv?dl=0\").dropna()\n",
        "\n",
        "test_texts = list(df_test['lemm_abstracts'])\n",
        "test_labels = list(df_test['labels'])\n",
        "len(test_labels)"
      ],
      "execution_count": 0,
      "outputs": [
        {
          "output_type": "execute_result",
          "data": {
            "text/plain": [
              "10150"
            ]
          },
          "metadata": {
            "tags": []
          },
          "execution_count": 6
        }
      ]
    },
    {
      "cell_type": "code",
      "metadata": {
        "id": "CbKBiX8GwI_T",
        "colab_type": "code",
        "colab": {}
      },
      "source": [
        "#разбиваем на train и val английские тексты\n",
        "from sklearn.model_selection import train_test_split\n",
        "\n",
        "train_texts, val_texts, train_labels, val_labels = train_test_split(train_texts, train_labels, \\\n",
        "                                                          test_size=0.15, shuffle = True, random_state=42, stratify=train_labels)"
      ],
      "execution_count": 0,
      "outputs": []
    },
    {
      "cell_type": "code",
      "metadata": {
        "id": "T7czM7Z-xM5a",
        "colab_type": "code",
        "outputId": "5f24bb05-3a6c-435d-8388-3bc3c346c269",
        "colab": {
          "base_uri": "https://localhost:8080/",
          "height": 54
        }
      },
      "source": [
        "print(len(train_labels))\n",
        "print(len(val_labels))"
      ],
      "execution_count": 0,
      "outputs": [
        {
          "output_type": "stream",
          "text": [
            "68805\n",
            "12143\n"
          ],
          "name": "stdout"
        }
      ]
    },
    {
      "cell_type": "code",
      "metadata": {
        "id": "LIW5wk8kRDq6",
        "colab_type": "code",
        "outputId": "e080a272-4e47-46d6-de1b-1a21f90205ae",
        "colab": {
          "base_uri": "https://localhost:8080/",
          "height": 55
        }
      },
      "source": [
        "test_texts[1000]"
      ],
      "execution_count": 0,
      "outputs": [
        {
          "output_type": "execute_result",
          "data": {
            "text/plain": [
              "'использование биотехнология, медицинская микробиология и может быть использовано в производстве эубиотических препаратов и бифидосодержащих продуктов питания. сущность изобретения питательная среда в качестве основы содержит молочную сыворотку, осветленную последовательной обработкой обезжиренного молока кислотой и щелочью, и дрожжевой автолизат сухой или жидкий и дополнительно натрий фосфорнокислый однозамещенный двуводный, аммоний хлористый и магний сернокислый семиводный, при следующем соотношении компонентов мас. молочная сыворотка осветленная , , , лактоза , , , дрожжевой автолизат сухой или жидкий , , и , , , d,l цистеин , , , nah po • h o , , , nh cl , , , mgso • h o , , , агар агар , , , вода остальное, ph , , .'"
            ]
          },
          "metadata": {
            "tags": []
          },
          "execution_count": 7
        }
      ]
    },
    {
      "cell_type": "code",
      "metadata": {
        "id": "MYELfK3g51Z5",
        "colab_type": "code",
        "outputId": "fc81932a-ca92-4ff2-fd70-52414889af66",
        "colab": {
          "base_uri": "https://localhost:8080/",
          "height": 35
        }
      },
      "source": [
        "from sklearn.preprocessing import LabelEncoder\n",
        "label_encoder = LabelEncoder()\n",
        "y_train = label_encoder.fit_transform(train_labels)\n",
        "#add_labels = label_encoder.fit_transform(df_add['us_code'])\n",
        "y_train[:10]"
      ],
      "execution_count": 0,
      "outputs": [
        {
          "output_type": "execute_result",
          "data": {
            "text/plain": [
              "array([ 58, 199, 218,   7, 196, 115,  69,   1,  13,  23])"
            ]
          },
          "metadata": {
            "tags": []
          },
          "execution_count": 9
        }
      ]
    },
    {
      "cell_type": "code",
      "metadata": {
        "id": "DzXvQYs757K_",
        "colab_type": "code",
        "outputId": "96ce6eb8-703b-4ce5-c0bc-80bc0ee1b4cb",
        "colab": {
          "base_uri": "https://localhost:8080/",
          "height": 35
        }
      },
      "source": [
        "y_val = label_encoder.transform(val_labels)\n",
        "y_val[:10]"
      ],
      "execution_count": 0,
      "outputs": [
        {
          "output_type": "execute_result",
          "data": {
            "text/plain": [
              "array([ 23,  82,  57, 164,  99, 146,  24, 161, 194,  16])"
            ]
          },
          "metadata": {
            "tags": []
          },
          "execution_count": 10
        }
      ]
    },
    {
      "cell_type": "code",
      "metadata": {
        "id": "MI612Lvk15E0",
        "colab_type": "code",
        "colab": {}
      },
      "source": [
        "y_test = label_encoder.transform(test_labels)"
      ],
      "execution_count": 0,
      "outputs": []
    },
    {
      "cell_type": "code",
      "metadata": {
        "id": "14IGlzloHFZH",
        "colab_type": "code",
        "outputId": "d9ba2b53-8dbe-4015-e120-fdadd3607ff1",
        "colab": {
          "base_uri": "https://localhost:8080/",
          "height": 35
        }
      },
      "source": [
        "if torch.cuda.is_available():\n",
        "    DEVICE = torch.device('cuda')\n",
        "else:\n",
        "    DEVICE = torch.device('cpu')\n",
        "print(f'Using device: {DEVICE}')"
      ],
      "execution_count": 0,
      "outputs": [
        {
          "output_type": "stream",
          "text": [
            "Using device: cuda\n"
          ],
          "name": "stdout"
        }
      ]
    },
    {
      "cell_type": "markdown",
      "metadata": {
        "id": "75VO82yPA8nE",
        "colab_type": "text"
      },
      "source": [
        "### Cleaning"
      ]
    },
    {
      "cell_type": "code",
      "metadata": {
        "id": "Z4rsw7S1A_tM",
        "colab_type": "code",
        "colab": {}
      },
      "source": [
        "def cleaning(text):\n",
        "    clean_txt = []\n",
        "    for sentence in text.split('.'): \n",
        "        sentence = re.sub(r'[•⋅−,]', ' ', sentence)\n",
        "        sent = re.sub(r'( )+', ' ', sentence)\n",
        "     #   if len(sent.split()) > 2 and sent != 'ф лы, ил':\n",
        "        if len(sent.split()) > 2 and 'ф лы' not in sent:\n",
        "             clean_txt.append(sent.strip())\n",
        "    return ' '.join(clean_txt) "
      ],
      "execution_count": 0,
      "outputs": []
    },
    {
      "cell_type": "code",
      "metadata": {
        "id": "efssD7bVBA4B",
        "colab_type": "code",
        "outputId": "5d78e85a-ba45-4d69-cc9c-af01f3d167bd",
        "colab": {
          "base_uri": "https://localhost:8080/",
          "height": 351,
          "referenced_widgets": [
            "f3d43b161a1c4e78b41ffb495ea40981",
            "3f83fc4d79bf4f0baffd6b4a2f737880",
            "3d897ab691d6477396d96c1095270f15",
            "9ad692620e1b4791a36007f074c64b27",
            "28beb7f4474c4fc795b928ee0139cbfe",
            "d6bc09d8ff764c2ea4b8a8974f8b493a",
            "e6af22b4fbb74eb29f2f2b4b9323531e",
            "5d7557708f204df98b6a09a4839ab8bc",
            "403b2e28dabd4091af669eb6c8b1276a",
            "14d72008215f40449947960ecc5dad60",
            "232b0eb13f5744d2a2953c0996c592d9",
            "728a8d3826e3470489ef7ff0c7a0ba32",
            "f93293510e3d4062a9e5d4f2dad21b37",
            "994623321491433185d0100bd022bff5",
            "495281d56e97458a951d1e9201be1fd1",
            "6f1e33326c2242f3978e2150cccff6a6",
            "7cec7e38a5024f65ac4398f7cd502234",
            "ab62c8c5f3e74f74bf7f63528a59b3e7",
            "19906f06d14a46c1afa11e705d262658",
            "f44a475a0b9b45239f2a9bf3021ed1d4",
            "c9bb6ac9707545fb8746dee011fca02b",
            "7f677ac511004baba24319ae14c63e3e",
            "9f1c7bac4e7f49b0b0d14d775489716d",
            "a5c1a8dbd8774b2088cf9da6e3092f1a"
          ]
        }
      },
      "source": [
        "test_texts = [cleaning(text) for text in tqdm(test_texts)]\n",
        "val_texts = [cleaning(text) for text in tqdm(val_texts)]\n",
        "train_texts = [cleaning(text) for text in tqdm(train_texts)]"
      ],
      "execution_count": 0,
      "outputs": [
        {
          "output_type": "stream",
          "text": [
            "/usr/local/lib/python3.6/dist-packages/ipykernel_launcher.py:1: TqdmDeprecationWarning: This function will be removed in tqdm==5.0.0\n",
            "Please use `tqdm.notebook.tqdm` instead of `tqdm.tqdm_notebook`\n",
            "  \"\"\"Entry point for launching an IPython kernel.\n"
          ],
          "name": "stderr"
        },
        {
          "output_type": "display_data",
          "data": {
            "application/vnd.jupyter.widget-view+json": {
              "model_id": "f3d43b161a1c4e78b41ffb495ea40981",
              "version_minor": 0,
              "version_major": 2
            },
            "text/plain": [
              "HBox(children=(IntProgress(value=0, max=10150), HTML(value='')))"
            ]
          },
          "metadata": {
            "tags": []
          }
        },
        {
          "output_type": "stream",
          "text": [
            "\n"
          ],
          "name": "stdout"
        },
        {
          "output_type": "stream",
          "text": [
            "/usr/local/lib/python3.6/dist-packages/ipykernel_launcher.py:2: TqdmDeprecationWarning: This function will be removed in tqdm==5.0.0\n",
            "Please use `tqdm.notebook.tqdm` instead of `tqdm.tqdm_notebook`\n",
            "  \n"
          ],
          "name": "stderr"
        },
        {
          "output_type": "display_data",
          "data": {
            "application/vnd.jupyter.widget-view+json": {
              "model_id": "403b2e28dabd4091af669eb6c8b1276a",
              "version_minor": 0,
              "version_major": 2
            },
            "text/plain": [
              "HBox(children=(IntProgress(value=0, max=12143), HTML(value='')))"
            ]
          },
          "metadata": {
            "tags": []
          }
        },
        {
          "output_type": "stream",
          "text": [
            "\n"
          ],
          "name": "stdout"
        },
        {
          "output_type": "stream",
          "text": [
            "/usr/local/lib/python3.6/dist-packages/ipykernel_launcher.py:3: TqdmDeprecationWarning: This function will be removed in tqdm==5.0.0\n",
            "Please use `tqdm.notebook.tqdm` instead of `tqdm.tqdm_notebook`\n",
            "  This is separate from the ipykernel package so we can avoid doing imports until\n"
          ],
          "name": "stderr"
        },
        {
          "output_type": "display_data",
          "data": {
            "application/vnd.jupyter.widget-view+json": {
              "model_id": "7cec7e38a5024f65ac4398f7cd502234",
              "version_minor": 0,
              "version_major": 2
            },
            "text/plain": [
              "HBox(children=(IntProgress(value=0, max=68805), HTML(value='')))"
            ]
          },
          "metadata": {
            "tags": []
          }
        },
        {
          "output_type": "stream",
          "text": [
            "\n"
          ],
          "name": "stdout"
        }
      ]
    },
    {
      "cell_type": "code",
      "metadata": {
        "id": "5DzurBkbBDhv",
        "colab_type": "code",
        "outputId": "e168b1f4-5db9-434e-e7ab-93a68d93acf6",
        "colab": {
          "base_uri": "https://localhost:8080/",
          "height": 55
        }
      },
      "source": [
        "test_texts[1000]"
      ],
      "execution_count": 0,
      "outputs": [
        {
          "output_type": "execute_result",
          "data": {
            "text/plain": [
              "'использование биотехнология медицинская микробиология и может быть использовано в производстве эубиотических препаратов и бифидосодержащих продуктов питания сущность изобретения питательная среда в качестве основы содержит молочную сыворотку осветленную последовательной обработкой обезжиренного молока кислотой и щелочью и дрожжевой автолизат сухой или жидкий и дополнительно натрий фосфорнокислый однозамещенный двуводный аммоний хлористый и магний сернокислый семиводный при следующем соотношении компонентов мас молочная сыворотка осветленная лактоза дрожжевой автолизат сухой или жидкий и d l цистеин nah po h o nh cl mgso h o агар агар вода остальное ph'"
            ]
          },
          "metadata": {
            "tags": []
          },
          "execution_count": 14
        }
      ]
    },
    {
      "cell_type": "code",
      "metadata": {
        "id": "A7Nav2GNHk3T",
        "colab_type": "code",
        "outputId": "c8fdfd5f-73d2-4e85-d91c-385b9357d9f3",
        "colab": {
          "base_uri": "https://localhost:8080/",
          "height": 35
        }
      },
      "source": [
        "def compute_lens(texts):\n",
        "    lens = [len(text.split()) for text in texts]\n",
        "    return lens\n",
        "\n",
        "train_lens = compute_lens(train_texts)\n",
        "val_lens = compute_lens(val_texts)\n",
        "test_lens = compute_lens(test_texts)\n",
        "train_lens[:10]"
      ],
      "execution_count": 0,
      "outputs": [
        {
          "output_type": "execute_result",
          "data": {
            "text/plain": [
              "[142, 194, 152, 77, 98, 100, 149, 206, 96, 158]"
            ]
          },
          "metadata": {
            "tags": []
          },
          "execution_count": 13
        }
      ]
    },
    {
      "cell_type": "markdown",
      "metadata": {
        "id": "qpJelM6wBS52",
        "colab_type": "text"
      },
      "source": [
        "### Lemmatization"
      ]
    },
    {
      "cell_type": "code",
      "metadata": {
        "id": "SNdqQogSBZ7K",
        "colab_type": "code",
        "outputId": "3f2eb691-948e-470b-ca70-f2f085663683",
        "colab": {
          "base_uri": "https://localhost:8080/",
          "height": 326
        }
      },
      "source": [
        "!wget http://download.cdn.yandex.net/mystem/mystem-3.0-linux3.1-64bit.tar.gz\n",
        "!tar -xvf mystem-3.0-linux3.1-64bit.tar.gz\n",
        "!cp mystem /bin"
      ],
      "execution_count": 0,
      "outputs": [
        {
          "output_type": "stream",
          "text": [
            "--2020-04-28 11:35:38--  http://download.cdn.yandex.net/mystem/mystem-3.0-linux3.1-64bit.tar.gz\n",
            "Resolving download.cdn.yandex.net (download.cdn.yandex.net)... 5.45.205.243, 5.45.205.245, 5.45.205.244, ...\n",
            "Connecting to download.cdn.yandex.net (download.cdn.yandex.net)|5.45.205.243|:80... connected.\n",
            "HTTP request sent, awaiting response... 302 Found\n",
            "Location: http://cache-mskm910.cdn.yandex.net/download.cdn.yandex.net/mystem/mystem-3.0-linux3.1-64bit.tar.gz [following]\n",
            "--2020-04-28 11:35:38--  http://cache-mskm910.cdn.yandex.net/download.cdn.yandex.net/mystem/mystem-3.0-linux3.1-64bit.tar.gz\n",
            "Resolving cache-mskm910.cdn.yandex.net (cache-mskm910.cdn.yandex.net)... 5.45.220.20, 2a02:6b8:0:2002::1b\n",
            "Connecting to cache-mskm910.cdn.yandex.net (cache-mskm910.cdn.yandex.net)|5.45.220.20|:80... connected.\n",
            "HTTP request sent, awaiting response... 200 OK\n",
            "Length: 16457938 (16M) [application/octet-stream]\n",
            "Saving to: ‘mystem-3.0-linux3.1-64bit.tar.gz’\n",
            "\n",
            "\r          mystem-3.   0%[                    ]       0  --.-KB/s               \r         mystem-3.0   1%[                    ] 289.03K  1.41MB/s               \r        mystem-3.0-  40%[=======>            ]   6.42M  16.0MB/s               \rmystem-3.0-linux3.1 100%[===================>]  15.70M  29.0MB/s    in 0.5s    \n",
            "\n",
            "2020-04-28 11:35:39 (29.0 MB/s) - ‘mystem-3.0-linux3.1-64bit.tar.gz’ saved [16457938/16457938]\n",
            "\n",
            "mystem\n"
          ],
          "name": "stdout"
        }
      ]
    },
    {
      "cell_type": "code",
      "metadata": {
        "id": "tbp9ysT2BaoI",
        "colab_type": "code",
        "colab": {}
      },
      "source": [
        "from pymystem3 import Mystem\n",
        "m = Mystem()"
      ],
      "execution_count": 0,
      "outputs": []
    },
    {
      "cell_type": "code",
      "metadata": {
        "id": "1ZmfoTjHBdsE",
        "colab_type": "code",
        "outputId": "a3ca1285-f134-4ccc-acab-cf1642938c9e",
        "colab": {
          "base_uri": "https://localhost:8080/",
          "height": 142,
          "referenced_widgets": [
            "c46eae4731ae40028b9c9b6cad70372d",
            "91af27316faf4b3ba3d6cb7d7aadd7a7",
            "a57aa2a94c7c41e7a516396facbd24a2",
            "cf23af750058489caea0616f3cebb8a0",
            "96756b26d0d246ef9a885c72a6f91948",
            "ca2e1c1df6724d60a42f26de612d4cff",
            "a446d335e82b485d8a475cd178402e79",
            "e903193c0e4946a797a8c3fad0e40c83"
          ]
        }
      },
      "source": [
        "test_lemm = [''.join(m.lemmatize(text)).strip() for text in tqdm(test_texts)]"
      ],
      "execution_count": 0,
      "outputs": [
        {
          "output_type": "stream",
          "text": [
            "/usr/local/lib/python3.6/dist-packages/ipykernel_launcher.py:1: TqdmDeprecationWarning: This function will be removed in tqdm==5.0.0\n",
            "Please use `tqdm.notebook.tqdm` instead of `tqdm.tqdm_notebook`\n",
            "  \"\"\"Entry point for launching an IPython kernel.\n"
          ],
          "name": "stderr"
        },
        {
          "output_type": "display_data",
          "data": {
            "application/vnd.jupyter.widget-view+json": {
              "model_id": "c46eae4731ae40028b9c9b6cad70372d",
              "version_minor": 0,
              "version_major": 2
            },
            "text/plain": [
              "HBox(children=(IntProgress(value=0, max=10150), HTML(value='')))"
            ]
          },
          "metadata": {
            "tags": []
          }
        },
        {
          "output_type": "stream",
          "text": [
            "\n"
          ],
          "name": "stdout"
        }
      ]
    },
    {
      "cell_type": "code",
      "metadata": {
        "id": "nwBWNgH2BkId",
        "colab_type": "code",
        "outputId": "cdc737b9-4c4d-4a38-92e2-8957bccddedb",
        "colab": {
          "base_uri": "https://localhost:8080/",
          "height": 142,
          "referenced_widgets": [
            "11e9ecb47cdc4c9595fdb736f7970fef",
            "03127d7a4971497b94bb8b0cf9da361a",
            "168431e2532e4d9cab923b04218f3c6d",
            "c1e2cfd46eb74f848b5dfaedc4dc5957",
            "92cfa30557ff4122a278721a7ab147f8",
            "873f547a03814fa1a8a0bb1497a0435b",
            "c66ab55e0883492591dd3de3cc3f4ab3",
            "334c50ce33ce4806b098060830b1ed20"
          ]
        }
      },
      "source": [
        "import spacy\n",
        "# Initialize spacy 'en' model, keeping only tagger component needed for lemmatization\n",
        "nlp = spacy.load('en', disable=['parser', 'ner'])\n",
        "\n",
        "train_lemm = []\n",
        "for text in tqdm(train_texts):\n",
        "    train_lemm.append(\" \".join([w.lemma_ if w.lemma_ !='-PRON-' else w.text for w in nlp(text)]))"
      ],
      "execution_count": 0,
      "outputs": [
        {
          "output_type": "stream",
          "text": [
            "/usr/local/lib/python3.6/dist-packages/ipykernel_launcher.py:6: TqdmDeprecationWarning: This function will be removed in tqdm==5.0.0\n",
            "Please use `tqdm.notebook.tqdm` instead of `tqdm.tqdm_notebook`\n",
            "  \n"
          ],
          "name": "stderr"
        },
        {
          "output_type": "display_data",
          "data": {
            "application/vnd.jupyter.widget-view+json": {
              "model_id": "11e9ecb47cdc4c9595fdb736f7970fef",
              "version_minor": 0,
              "version_major": 2
            },
            "text/plain": [
              "HBox(children=(IntProgress(value=0, max=68805), HTML(value='')))"
            ]
          },
          "metadata": {
            "tags": []
          }
        },
        {
          "output_type": "stream",
          "text": [
            "\n"
          ],
          "name": "stdout"
        }
      ]
    },
    {
      "cell_type": "code",
      "metadata": {
        "id": "YnBJErFRBqtj",
        "colab_type": "code",
        "outputId": "827f6a93-7d21-4c56-887c-25040bb85a31",
        "colab": {
          "base_uri": "https://localhost:8080/",
          "height": 142,
          "referenced_widgets": [
            "6a35bc3aa0574c58a90006f9cb8a3215",
            "dc09e1c2a93845b5911870336031bf48",
            "cab238c3a2bd4346aaa940fce15b6145",
            "ff89667fc9a14278a6d0360c97dfec94",
            "9787a2cacecb4754b0dc031fbf75fb48",
            "bc912fad76714a4da2c7e4576749824f",
            "5ae92d3c478146db814eb7c651081917",
            "aae2926df3a84e67b632e216849757a7"
          ]
        }
      },
      "source": [
        "val_lemm = []\n",
        "for text in tqdm(val_texts):\n",
        "    val_lemm.append(\" \".join([w.lemma_ if w.lemma_ !='-PRON-' else w.text for w in nlp(text)]))"
      ],
      "execution_count": 0,
      "outputs": [
        {
          "output_type": "stream",
          "text": [
            "/usr/local/lib/python3.6/dist-packages/ipykernel_launcher.py:2: TqdmDeprecationWarning: This function will be removed in tqdm==5.0.0\n",
            "Please use `tqdm.notebook.tqdm` instead of `tqdm.tqdm_notebook`\n",
            "  \n"
          ],
          "name": "stderr"
        },
        {
          "output_type": "display_data",
          "data": {
            "application/vnd.jupyter.widget-view+json": {
              "model_id": "6a35bc3aa0574c58a90006f9cb8a3215",
              "version_minor": 0,
              "version_major": 2
            },
            "text/plain": [
              "HBox(children=(IntProgress(value=0, max=12143), HTML(value='')))"
            ]
          },
          "metadata": {
            "tags": []
          }
        },
        {
          "output_type": "stream",
          "text": [
            "\n"
          ],
          "name": "stdout"
        }
      ]
    },
    {
      "cell_type": "markdown",
      "metadata": {
        "id": "uNAd_lOKx5jB",
        "colab_type": "text"
      },
      "source": [
        "### Loading MUSE embeddings"
      ]
    },
    {
      "cell_type": "code",
      "metadata": {
        "id": "CAuAmU1Zx_RA",
        "colab_type": "code",
        "colab": {}
      },
      "source": [
        "def load_vec(emb_path, nmax=200000):   #200000 - это максимальное число слов, которое есть в MUSE embeddings\n",
        "    vectors = []\n",
        "    word2id = {}\n",
        "    with io.open(emb_path, 'r', encoding='utf-8', newline='\\n', errors='ignore') as f:\n",
        "        next(f)\n",
        "        for i, line in enumerate(f):\n",
        "            word, vect = line.rstrip().split(' ', 1)\n",
        "            vect = np.fromstring(vect, sep=' ')\n",
        "            assert word not in word2id, 'word found twice'\n",
        "            vectors.append(vect)\n",
        "            word2id[word] = len(word2id)\n",
        "            if len(word2id) == nmax:\n",
        "                break\n",
        "    id2word = {v: k for k, v in word2id.items()}\n",
        "    embeddings = np.vstack(vectors)\n",
        "    return embeddings, id2word, word2id"
      ],
      "execution_count": 0,
      "outputs": []
    },
    {
      "cell_type": "code",
      "metadata": {
        "id": "Mim_nD1MyN-w",
        "colab_type": "code",
        "outputId": "1ec2d750-62ee-4f09-9981-c9d01429695a",
        "colab": {
          "base_uri": "https://localhost:8080/",
          "height": 417
        }
      },
      "source": [
        "#download MUSE russian embeddings\n",
        "!wget https://dl.fbaipublicfiles.com/arrival/vectors/wiki.multi.ru.vec\n",
        "\n",
        "#download MUSE english embeddings\n",
        "!wget https://dl.fbaipublicfiles.com/arrival/vectors/wiki.multi.en.vec"
      ],
      "execution_count": 0,
      "outputs": [
        {
          "output_type": "stream",
          "text": [
            "--2020-04-28 11:45:31--  https://dl.fbaipublicfiles.com/arrival/vectors/wiki.multi.ru.vec\n",
            "Resolving dl.fbaipublicfiles.com (dl.fbaipublicfiles.com)... 104.22.74.142, 104.22.75.142, 2606:4700:10::6816:4a8e, ...\n",
            "Connecting to dl.fbaipublicfiles.com (dl.fbaipublicfiles.com)|104.22.74.142|:443... connected.\n",
            "HTTP request sent, awaiting response... 200 OK\n",
            "Length: 630591038 (601M) [text/plain]\n",
            "Saving to: ‘wiki.multi.ru.vec’\n",
            "\n",
            "wiki.multi.ru.vec   100%[===================>] 601.38M  11.6MB/s    in 53s     \n",
            "\n",
            "2020-04-28 11:46:25 (11.3 MB/s) - ‘wiki.multi.ru.vec’ saved [630591038/630591038]\n",
            "\n",
            "--2020-04-28 11:46:26--  https://dl.fbaipublicfiles.com/arrival/vectors/wiki.multi.en.vec\n",
            "Resolving dl.fbaipublicfiles.com (dl.fbaipublicfiles.com)... 104.22.74.142, 104.22.75.142, 2606:4700:10::6816:4a8e, ...\n",
            "Connecting to dl.fbaipublicfiles.com (dl.fbaipublicfiles.com)|104.22.74.142|:443... connected.\n",
            "HTTP request sent, awaiting response... 200 OK\n",
            "Length: 628614720 (599M) [text/plain]\n",
            "Saving to: ‘wiki.multi.en.vec’\n",
            "\n",
            "wiki.multi.en.vec   100%[===================>] 599.49M  11.6MB/s    in 54s     \n",
            "\n",
            "2020-04-28 11:47:21 (11.1 MB/s) - ‘wiki.multi.en.vec’ saved [628614720/628614720]\n",
            "\n"
          ],
          "name": "stdout"
        }
      ]
    },
    {
      "cell_type": "code",
      "metadata": {
        "id": "Mv_lfPeryYGg",
        "colab_type": "code",
        "colab": {}
      },
      "source": [
        "src_embeddings, src_id2word, src_word2id = load_vec('wiki.multi.en.vec')\n",
        "tgt_embeddings, tgt_id2word, tgt_word2id = load_vec('wiki.multi.ru.vec')"
      ],
      "execution_count": 0,
      "outputs": []
    },
    {
      "cell_type": "markdown",
      "metadata": {
        "id": "lk1zCBdKN4pA",
        "colab_type": "text"
      },
      "source": [
        "### Classification by keywords"
      ]
    },
    {
      "cell_type": "code",
      "metadata": {
        "id": "yi2fw4sdN_dG",
        "colab_type": "code",
        "colab": {}
      },
      "source": [
        "def matrix_for_features(texts, labels):\n",
        "    '''\n",
        "    функция для поиска ключевых слов для каждого класса\n",
        "    подаются тексты и метки\n",
        "    возвращается матрица tfidf и фичи\n",
        "    '''\n",
        "    if len(labels) > 0:\n",
        "        text_classes = ['' for i in range(len(set(labels)))]\n",
        "        for i, text in enumerate(texts):\n",
        "        #  text_classes[labels[i]] += (' '.join(list(set(text.split()))) + ' ')\n",
        "            text_classes[labels[i]] += (text + ' ')\n",
        "        vectorizer = TfidfVectorizer(min_df=2, max_df=0.8)\n",
        "        X = vectorizer.fit_transform(text_classes)\n",
        "    else:\n",
        "        vectorizer = TfidfVectorizer(min_df=2, max_df=0.8)\n",
        "        X = vectorizer.fit_transform(texts)\n",
        "    feature_names = np.array(vectorizer.get_feature_names())\n",
        "    return X, feature_names"
      ],
      "execution_count": 0,
      "outputs": []
    },
    {
      "cell_type": "code",
      "metadata": {
        "id": "SaTZq1HEh7fY",
        "colab_type": "code",
        "colab": {}
      },
      "source": [
        "src_emb_norm = src_embeddings / np.linalg.norm(src_embeddings, 2, 1)[:, None]\n",
        "def get_similar(words, src_emb_norm, tgt_emb, tgt_id2word, K=1):\n",
        "    '''\n",
        "    подаётся слово на русском\n",
        "    выдаются индексы K ближайших векторов на английском\n",
        "    '''\n",
        "    words_emb = np.array([tgt_emb[tgt_word2id[word]] for word in words])\n",
        "    words_emb_norm = words_emb/np.linalg.norm(words_emb, 2, 1)[:, None]\n",
        " #   scores = (src_emb / np.linalg.norm(src_emb, 2, 1)[:, None]).dot(word_emb / np.linalg.norm(word_emb))\n",
        "    scores = pairwise_distances(words_emb_norm, src_emb_norm, metric='cosine')\n",
        " #   print(scores.argsort().shape)\n",
        "    K_best = scores.argsort()[:,:K]\n",
        "  #  for i, idx in enumerate(one_best):\n",
        "    return K_best"
      ],
      "execution_count": 0,
      "outputs": []
    },
    {
      "cell_type": "code",
      "metadata": {
        "id": "CbDDRExEmg7R",
        "colab_type": "code",
        "outputId": "0756043e-e489-4a0a-802c-90ad7d100c74",
        "colab": {
          "base_uri": "https://localhost:8080/",
          "height": 35
        }
      },
      "source": [
        "idx = get_similar(['электричество', 'университет'], src_emb_norm, tgt_embeddings, tgt_id2word, K=1)\n",
        "idx"
      ],
      "execution_count": 0,
      "outputs": [
        {
          "output_type": "execute_result",
          "data": {
            "text/plain": [
              "array([4424,   98])"
            ]
          },
          "metadata": {
            "tags": []
          },
          "execution_count": 142
        }
      ]
    },
    {
      "cell_type": "code",
      "metadata": {
        "colab_type": "code",
        "outputId": "460b2c95-e3cf-4830-f91f-02e28ca0f659",
        "id": "SbgS7637EHvV",
        "colab": {
          "base_uri": "https://localhost:8080/",
          "height": 35
        }
      },
      "source": [
        "np.mean(src_embeddings[idx], axis = 1).shape"
      ],
      "execution_count": 0,
      "outputs": [
        {
          "output_type": "execute_result",
          "data": {
            "text/plain": [
              "(2, 300)"
            ]
          },
          "metadata": {
            "tags": []
          },
          "execution_count": 139
        }
      ]
    },
    {
      "cell_type": "code",
      "metadata": {
        "id": "x_aKF6arOl2A",
        "colab_type": "code",
        "colab": {}
      },
      "source": [
        "X_russian, features_russian = matrix_for_features(test_lemm, labels=y_test)\n",
        "X_english, features_english = matrix_for_features(train_lemm, labels=y_train)"
      ],
      "execution_count": 0,
      "outputs": []
    },
    {
      "cell_type": "code",
      "metadata": {
        "id": "idA4e8UMor0X",
        "colab_type": "code",
        "colab": {}
      },
      "source": [
        "def top_keywords_classes(tfidf_matrix, features, K=15):\n",
        "  for i in range(225):\n",
        "    tfidf = tfidf_matrix.toarray()[0]\n",
        "    indices = np.argsort(tfidf)[::-1]\n",
        "    top_words = []\n",
        "    for idx in indices[:K]:\n",
        "        top_words.append(features[idx])\n",
        "    return top_words"
      ],
      "execution_count": 0,
      "outputs": []
    },
    {
      "cell_type": "code",
      "metadata": {
        "id": "wmjQagkGpTwI",
        "colab_type": "code",
        "outputId": "b00606de-a71d-4f09-9ae2-3a0ed953336e",
        "colab": {
          "base_uri": "https://localhost:8080/",
          "height": 108
        }
      },
      "source": [
        "top_english = top_keywords_classes(X_english, features_english, K=15)\n",
        "print(np.array(top_english[:15]))\n",
        "top_russian = top_keywords_classes(X_russian, features_russian, K=15)\n",
        "print(np.array(top_russian[:15]))"
      ],
      "execution_count": 0,
      "outputs": [
        {
          "output_type": "stream",
          "text": [
            "['mower' 'crop' 'grass' 'rake' 'harvesting' 'harvester' 'deck' 'bale'\n",
            " 'blade' 'trimmer' 'cutter' 'lawn' 'reel' 'stalk' 'arm']\n",
            "['уборка' 'комбайн' 'транспортер' 'сельскохозяйственный' 'стебель'\n",
            " 'барабан' 'убирать' 'рама' 'режущий' 'уборочный' 'элеватор' 'культура'\n",
            " 'корень' 'пруток' 'машина']\n"
          ],
          "name": "stdout"
        }
      ]
    },
    {
      "cell_type": "code",
      "metadata": {
        "id": "7a-jndkISwKx",
        "colab_type": "code",
        "colab": {}
      },
      "source": [
        "muse_eng_words = list(src_word2id.keys())\n",
        "muse_ru_words = list(tgt_word2id.keys())"
      ],
      "execution_count": 0,
      "outputs": []
    },
    {
      "cell_type": "code",
      "metadata": {
        "id": "DAQnnw1qSxWg",
        "colab_type": "code",
        "outputId": "ce726ee0-6209-4785-ae72-e9404f372a94",
        "colab": {
          "base_uri": "https://localhost:8080/",
          "height": 35
        }
      },
      "source": [
        "#Сколько ключевых слов есть среди muse embeddings?\n",
        "# с леммами - русских 80%, английских 100%\n",
        "\n",
        "cnt = 0\n",
        "found_eng = []\n",
        "for word in set(top_english):\n",
        "    if word in muse_eng_words:\n",
        "        cnt+=1\n",
        "        found_eng.append(word)\n",
        "\n",
        "print(cnt/len(set(top_english))*100)       "
      ],
      "execution_count": 0,
      "outputs": [
        {
          "output_type": "stream",
          "text": [
            "100.0\n"
          ],
          "name": "stdout"
        }
      ]
    },
    {
      "cell_type": "code",
      "metadata": {
        "id": "qZLPaPzEqUft",
        "colab_type": "code",
        "outputId": "b193065f-f4e0-4df9-f58c-6163f9ec08e0",
        "colab": {
          "base_uri": "https://localhost:8080/",
          "height": 35
        }
      },
      "source": [
        "cnt = 0\n",
        "found_ru = []\n",
        "for word in set(top_russian):\n",
        "    if word in muse_ru_words:\n",
        "        cnt+=1\n",
        "        found_ru.append(word)\n",
        "\n",
        "print(cnt/len(set(top_russian))*100)"
      ],
      "execution_count": 0,
      "outputs": [
        {
          "output_type": "stream",
          "text": [
            "80.0\n"
          ],
          "name": "stdout"
        }
      ]
    },
    {
      "cell_type": "code",
      "metadata": {
        "id": "FhUEiFOBJxoT",
        "colab_type": "code",
        "colab": {}
      },
      "source": [
        "def mean_top_vector(words, weights, lang, num_similar=1):\n",
        "    '''\n",
        "    words - топ ключевых слов текста\n",
        "    weights - вес tfidf для каждого слова из списка\n",
        "    lang - 'eng', 'ru' или 'ru_similar'\n",
        "    num_similar - сколько похожих для каждого слова на русском искать\n",
        "    для списка слова возвращает один вектор - взвешенная по tfidf сумма эмбеддингов каждого слова\n",
        "    для русского два варианта: взвешивать muse embeddings для русского или сначала находить ближайшие на английском и \n",
        "    взвешивать их\n",
        "    '''\n",
        "    if lang == 'eng':  \n",
        "        indices = [idx for idx, token in enumerate(words) if token in muse_eng_words]\n",
        "        words = np.array(words)[indices]\n",
        "        weights = np.array(weights)[indices].reshape(1,-1)\n",
        "        cnt = len(words)\n",
        "        muse = np.array([src_embeddings[src_word2id[token]] for token in words])\n",
        "        vector = weights @ muse\n",
        "    elif lang == 'ru':  \n",
        "        indices = [idx for idx, token in enumerate(words) if token in muse_ru_words]\n",
        "        words = np.array(words)[indices]\n",
        "        weights = np.array(weights)[indices].reshape(1,-1)\n",
        "        cnt = len(words)\n",
        "        muse = np.array([tgt_embeddings[tgt_word2id[token]] for token in words])\n",
        "        vector = weights @ muse\n",
        "    else:\n",
        "        indices = [idx for idx, token in enumerate(words) if token in muse_ru_words]\n",
        "        words = np.array(words)[indices] \n",
        "        weights = np.array(weights)[indices].reshape(1,-1)\n",
        "        cnt = len(words)\n",
        "        if num_similar == 1:\n",
        "            ind_best = get_similar(words, src_emb_norm, tgt_embeddings, tgt_id2word, K=num_similar).flatten()\n",
        "            muse = src_embeddings[ind_best, :]\n",
        "        else:\n",
        "            ind_best = get_similar(words, src_emb_norm, tgt_embeddings, tgt_id2word, K=num_similar)\n",
        "            muse = np.mean(src_embeddings[ind_best], axis = 1)\n",
        "        vector = weights @ muse\n",
        "\n",
        "    return vector/cnt"
      ],
      "execution_count": 0,
      "outputs": []
    },
    {
      "cell_type": "code",
      "metadata": {
        "id": "DOWBkRO7oCSy",
        "colab_type": "code",
        "colab": {}
      },
      "source": [
        "X_train, feat_train = matrix_for_features(train_lemm, labels=[])\n",
        "X_val, feat_val = matrix_for_features(val_lemm, labels=[])\n",
        "X_test, feat_test = matrix_for_features(test_lemm, labels=[])"
      ],
      "execution_count": 0,
      "outputs": []
    },
    {
      "cell_type": "code",
      "metadata": {
        "id": "bPrN7mX91WEP",
        "colab_type": "code",
        "outputId": "8e44aa6b-7cac-4f08-dfbd-7f7c9347a41f",
        "colab": {
          "base_uri": "https://localhost:8080/",
          "height": 35
        }
      },
      "source": [
        "X_train.shape[0]"
      ],
      "execution_count": 0,
      "outputs": [
        {
          "output_type": "execute_result",
          "data": {
            "text/plain": [
              "68805"
            ]
          },
          "metadata": {
            "tags": []
          },
          "execution_count": 71
        }
      ]
    },
    {
      "cell_type": "code",
      "metadata": {
        "id": "rVb23OHozufV",
        "colab_type": "code",
        "colab": {}
      },
      "source": [
        "def matrix_for_classification(tfidf_matrix, feature_names, lang, num_similar=1):\n",
        "    vectors = []\n",
        "    for i in tqdm(range(tfidf_matrix.shape[0])):\n",
        "        tfidf = tfidf_matrix[i].toarray()[0]\n",
        "        indices_best = np.argsort(tfidf)[::-1][:15]\n",
        "        vector = mean_top_vector(feature_names[indices_best], tfidf[indices_best], lang, num_similar=num_similar)    #tfidf[indices_best]\n",
        "        vectors.append(vector)\n",
        "    return np.array(vectors).squeeze(1)\n"
      ],
      "execution_count": 0,
      "outputs": []
    },
    {
      "cell_type": "code",
      "metadata": {
        "id": "HsMknlaJ1Jyy",
        "colab_type": "code",
        "outputId": "8c1cdef1-82e7-4df9-d0b3-5fe6c528a2e1",
        "colab": {
          "base_uri": "https://localhost:8080/",
          "height": 142,
          "referenced_widgets": [
            "8e615697095c4aeb9aec6b28a29be4f1",
            "95ecf5080ee84443a1aee31d2c66507b",
            "9ea6aa3895b1490fa7c4c5fa53aa15c4",
            "0875961d3cc14aeba4314b4eb9e69998",
            "670a83b719434be394ecb83302ad659b",
            "929f37b17c3c47a39ed9616299fe7157",
            "7b6e36fed0134439ad9b089ee90caa32",
            "03306569e8b24b59ba0b9db39560350f"
          ]
        }
      },
      "source": [
        "train_matrix = matrix_for_classification(X_train, feat_train, 'eng')"
      ],
      "execution_count": 0,
      "outputs": [
        {
          "output_type": "stream",
          "text": [
            "/usr/local/lib/python3.6/dist-packages/ipykernel_launcher.py:3: TqdmDeprecationWarning: This function will be removed in tqdm==5.0.0\n",
            "Please use `tqdm.notebook.tqdm` instead of `tqdm.tqdm_notebook`\n",
            "  This is separate from the ipykernel package so we can avoid doing imports until\n"
          ],
          "name": "stderr"
        },
        {
          "output_type": "display_data",
          "data": {
            "application/vnd.jupyter.widget-view+json": {
              "model_id": "8e615697095c4aeb9aec6b28a29be4f1",
              "version_minor": 0,
              "version_major": 2
            },
            "text/plain": [
              "HBox(children=(IntProgress(value=0, max=68805), HTML(value='')))"
            ]
          },
          "metadata": {
            "tags": []
          }
        },
        {
          "output_type": "stream",
          "text": [
            "\n"
          ],
          "name": "stdout"
        }
      ]
    },
    {
      "cell_type": "code",
      "metadata": {
        "id": "dgxqRAH42hJi",
        "colab_type": "code",
        "outputId": "b81faf7d-bd5c-4251-da23-c037c67d86e8",
        "colab": {
          "base_uri": "https://localhost:8080/",
          "height": 35
        }
      },
      "source": [
        "train_matrix.squeeze(1).shape"
      ],
      "execution_count": 0,
      "outputs": [
        {
          "output_type": "execute_result",
          "data": {
            "text/plain": [
              "(68805, 300)"
            ]
          },
          "metadata": {
            "tags": []
          },
          "execution_count": 83
        }
      ]
    },
    {
      "cell_type": "code",
      "metadata": {
        "id": "v3QLN1bu2eRn",
        "colab_type": "code",
        "outputId": "8e55f6f9-0f95-4197-c514-c4feaf34f7b5",
        "colab": {
          "base_uri": "https://localhost:8080/",
          "height": 192,
          "referenced_widgets": [
            "f46cdaee84fe4590b1e5912a95bde42c",
            "5cec564b8624488e8b0a51bd1086887c",
            "7de572a4bea541cfb1b63a515b1b8ba6",
            "251b3af87f1346a687792c0fda1aa0c6",
            "9d01133577e246668007723f445af279",
            "082edf744f8e453ba5235ffea8e25864",
            "76c0589a512b48ff8fd87e96d43ee278",
            "412bb449019d40279e77f8df72bdf5e4",
            "8169ec7e0d084c8f8e9976e261c28ea7",
            "44614f493ae54341b7d25fe7081b3110",
            "70a8dde1686246c9b678e51f7b1b8696",
            "01d07972580444e29c0f0a9d1336496a",
            "9f3e3a88cb0e4715bf6eb0aeb9c1da5a",
            "e72946bfbc7b4b6e9f1b35f5c245680a",
            "2ee6970c9a6b402caa4cf6ac31ab0322",
            "8b638b81295b4800a0fe7d4aafafc309"
          ]
        }
      },
      "source": [
        "val_matrix = matrix_for_classification(X_val, feat_val, 'eng')\n",
        "test_matrix = matrix_for_classification(X_test, feat_test, 'ru')\n"
      ],
      "execution_count": 0,
      "outputs": [
        {
          "output_type": "stream",
          "text": [
            "/usr/local/lib/python3.6/dist-packages/ipykernel_launcher.py:3: TqdmDeprecationWarning: This function will be removed in tqdm==5.0.0\n",
            "Please use `tqdm.notebook.tqdm` instead of `tqdm.tqdm_notebook`\n",
            "  This is separate from the ipykernel package so we can avoid doing imports until\n"
          ],
          "name": "stderr"
        },
        {
          "output_type": "display_data",
          "data": {
            "application/vnd.jupyter.widget-view+json": {
              "model_id": "f46cdaee84fe4590b1e5912a95bde42c",
              "version_minor": 0,
              "version_major": 2
            },
            "text/plain": [
              "HBox(children=(IntProgress(value=0, max=12143), HTML(value='')))"
            ]
          },
          "metadata": {
            "tags": []
          }
        },
        {
          "output_type": "stream",
          "text": [
            "\n"
          ],
          "name": "stdout"
        },
        {
          "output_type": "display_data",
          "data": {
            "application/vnd.jupyter.widget-view+json": {
              "model_id": "8169ec7e0d084c8f8e9976e261c28ea7",
              "version_minor": 0,
              "version_major": 2
            },
            "text/plain": [
              "HBox(children=(IntProgress(value=0, max=10150), HTML(value='')))"
            ]
          },
          "metadata": {
            "tags": []
          }
        },
        {
          "output_type": "stream",
          "text": [
            "\n"
          ],
          "name": "stdout"
        }
      ]
    },
    {
      "cell_type": "code",
      "metadata": {
        "id": "4YnCEg6z-I0T",
        "colab_type": "code",
        "outputId": "256e6152-3a88-4cd8-cbbb-ae5baec833ec",
        "colab": {
          "base_uri": "https://localhost:8080/",
          "height": 142,
          "referenced_widgets": [
            "1cd9155b6a384994a6716aada9e103d5",
            "c428b795e9bd4ccdbb507d586fb2e228",
            "23c4de61786c431ca9e375c09e8938c9",
            "fe791bb1484140ed8ac9ffb658d0161d",
            "b7e14a9d151245948742529641aad911",
            "6a08e192782349e7a2ec52a76738e44e",
            "e77e8778c8a74b05a7b304114496d290",
            "fbf7b850ba1a42d3a4936e8fb5068be5"
          ]
        }
      },
      "source": [
        "test_matrix_similar = matrix_for_classification(X_test, feat_test, 'ru_similar', num_similar=5)"
      ],
      "execution_count": 0,
      "outputs": [
        {
          "output_type": "stream",
          "text": [
            "/usr/local/lib/python3.6/dist-packages/ipykernel_launcher.py:3: TqdmDeprecationWarning: This function will be removed in tqdm==5.0.0\n",
            "Please use `tqdm.notebook.tqdm` instead of `tqdm.tqdm_notebook`\n",
            "  This is separate from the ipykernel package so we can avoid doing imports until\n"
          ],
          "name": "stderr"
        },
        {
          "output_type": "display_data",
          "data": {
            "application/vnd.jupyter.widget-view+json": {
              "model_id": "1cd9155b6a384994a6716aada9e103d5",
              "version_minor": 0,
              "version_major": 2
            },
            "text/plain": [
              "HBox(children=(IntProgress(value=0, max=10150), HTML(value='')))"
            ]
          },
          "metadata": {
            "tags": []
          }
        },
        {
          "output_type": "stream",
          "text": [
            "\n"
          ],
          "name": "stdout"
        }
      ]
    },
    {
      "cell_type": "code",
      "metadata": {
        "id": "yZ0Z87Tc1lBv",
        "colab_type": "code",
        "outputId": "e0c250bb-7943-47ad-9d84-3f1f60828297",
        "colab": {
          "base_uri": "https://localhost:8080/",
          "height": 128
        }
      },
      "source": [
        "from google.colab import drive\n",
        "drive.mount('/content/gdrive', force_remount=True)"
      ],
      "execution_count": 0,
      "outputs": [
        {
          "output_type": "stream",
          "text": [
            "Go to this URL in a browser: https://accounts.google.com/o/oauth2/auth?client_id=947318989803-6bn6qk8qdgf4n4g3pfee6491hc0brc4i.apps.googleusercontent.com&redirect_uri=urn%3aietf%3awg%3aoauth%3a2.0%3aoob&response_type=code&scope=email%20https%3a%2f%2fwww.googleapis.com%2fauth%2fdocs.test%20https%3a%2f%2fwww.googleapis.com%2fauth%2fdrive%20https%3a%2f%2fwww.googleapis.com%2fauth%2fdrive.photos.readonly%20https%3a%2f%2fwww.googleapis.com%2fauth%2fpeopleapi.readonly\n",
            "\n",
            "Enter your authorization code:\n",
            "··········\n",
            "Mounted at /content/gdrive\n"
          ],
          "name": "stdout"
        }
      ]
    },
    {
      "cell_type": "code",
      "metadata": {
        "id": "9qLKl9g7723P",
        "colab_type": "code",
        "colab": {}
      },
      "source": [
        "np.save('/content/gdrive/My Drive/cross embeddings experiments/X_test_array_K5', test_matrix_similar)"
      ],
      "execution_count": 0,
      "outputs": []
    },
    {
      "cell_type": "code",
      "metadata": {
        "id": "vfmOdJBGD6W1",
        "colab_type": "code",
        "colab": {}
      },
      "source": [
        "test_similar5 = test_matrix_similar\n",
        "test_similar1 = np.load('/content/gdrive/My Drive/cross embeddings experiments/X_test_array_K1.npy')\n",
        "test_similar3 = np.load('/content/gdrive/My Drive/cross embeddings experiments/X_test_array_K3.npy')\n"
      ],
      "execution_count": 0,
      "outputs": []
    },
    {
      "cell_type": "markdown",
      "metadata": {
        "id": "cqts257w3JU0",
        "colab_type": "text"
      },
      "source": [
        "#### Logistic regression"
      ]
    },
    {
      "cell_type": "code",
      "metadata": {
        "id": "Lg_kKspc8TE3",
        "colab_type": "code",
        "colab": {}
      },
      "source": [
        "random.seed(13)\n",
        "np.random.seed(13)\n",
        "torch.manual_seed(13)\n",
        "torch.backends.cudnn.deterministic = True\n",
        "torch.backends.cudnn.benchmark = False\n",
        "os.environ['PYTHONHASHSEED'] = str(13)\n",
        "torch.cuda.manual_seed(13)"
      ],
      "execution_count": 0,
      "outputs": []
    },
    {
      "cell_type": "code",
      "metadata": {
        "id": "MZ2bdUrW3MAg",
        "colab_type": "code",
        "colab": {}
      },
      "source": [
        "from tqdm import tnrange\n",
        "def iterate_minibatches(data, labels, batch_size=100, shuffle=True, verbose=True):\n",
        "    indices = np.arange(len(data))\n",
        "    if shuffle:\n",
        "        indices = np.random.permutation(indices)        \n",
        "    irange = tnrange if verbose else range\n",
        " #   print(indices)\n",
        "    for start in irange(0, len(indices), batch_size):\n",
        "        yield data[indices[start: start + batch_size]], labels[indices[start: start + batch_size]]"
      ],
      "execution_count": 0,
      "outputs": []
    },
    {
      "cell_type": "code",
      "metadata": {
        "id": "AJXe_Opm3NOv",
        "colab_type": "code",
        "colab": {}
      },
      "source": [
        "class LogisticRegression(nn.Module):\n",
        "    def __init__(self, emb_dim, num_labels):\n",
        "        super().__init__()\n",
        "        self.linear = nn.Linear(emb_dim, num_labels)\n",
        "        nn.init.xavier_normal_(self.linear.weight)\n",
        "\n",
        "    def forward(self, emb):\n",
        "        return F.log_softmax(self.linear(emb), dim=1)"
      ],
      "execution_count": 0,
      "outputs": []
    },
    {
      "cell_type": "code",
      "metadata": {
        "id": "H2zs68jp3Ps7",
        "colab_type": "code",
        "colab": {}
      },
      "source": [
        "N_EPOCHS = 600\n",
        "LEARNING_RATE = 4e-3\n",
        "model = LogisticRegression(300,225).to(DEVICE) \n",
        "optimizer = torch.optim.Adam(model.parameters(), lr=LEARNING_RATE)\n",
        "#loss_function = nn.NLLLoss()\n",
        "loss_function = nn.NLLLoss()"
      ],
      "execution_count": 0,
      "outputs": []
    },
    {
      "cell_type": "code",
      "metadata": {
        "id": "A1H_FPMG3TmH",
        "colab_type": "code",
        "colab": {}
      },
      "source": [
        "def train_model_epoch(train_dataset, labels, model, optimizer, batch_size):\n",
        "    model.train()\n",
        "    train_loss = 0\n",
        "    train_predictions = np.array([])\n",
        "    pred_labels = np.array([])\n",
        "    \n",
        "    for texts, labs in iterate_minibatches(np.array(train_dataset), np.array(labels), batch_size=batch_size, shuffle=True, verbose=False):\n",
        "        emb_ix = torch.tensor(texts, dtype=torch.float32).to(DEVICE) #cuda\n",
        "     #   print(labels[i: i+batch_size])\n",
        "        res_labels = torch.tensor(labs).to(DEVICE)     #cuda \n",
        "      #  print(labels.shape)\n",
        "        optimizer.zero_grad()\n",
        "        output = model(emb_ix)\n",
        " \n",
        "        loss = loss_function(output, res_labels)\n",
        "        train_loss += loss.item()\n",
        "   #     train_acc += (output.argmax(1) == res_labels).sum().item()\n",
        "      #  print(train_acc)\n",
        "        \n",
        "        y_pred = output.argmax(1).cpu().numpy()\n",
        "        train_predictions = np.hstack((train_predictions, y_pred))\n",
        "        pred_labels = np.hstack((pred_labels, res_labels.cpu().numpy()))\n",
        "     #   print(train_f1)\n",
        "     #   break\n",
        "        loss.backward()\n",
        "        optimizer.step()\n",
        "\n",
        "    train_f1_micro = f1_score(pred_labels, train_predictions, average='micro')*100\n",
        "    train_f1_weighted = f1_score(pred_labels, train_predictions, average='weighted')*100\n",
        "\n",
        "    return train_loss / (len(train_dataset)//batch_size), train_f1_micro, train_f1_weighted"
      ],
      "execution_count": 0,
      "outputs": []
    },
    {
      "cell_type": "code",
      "metadata": {
        "id": "soAMC1vG3bdO",
        "colab_type": "code",
        "colab": {}
      },
      "source": [
        "def test(test_dataset, labels, model, batch_size):\n",
        "    model.eval()\n",
        "#    acc = 0\n",
        "    test_predictions = np.array([])\n",
        "    test_loss = 0\n",
        "    for texts, labs in iterate_minibatches(np.array(test_dataset), np.array(labels), batch_size=batch_size, shuffle=False, verbose=False):\n",
        "        with torch.no_grad():\n",
        "            emb_ix = torch.tensor(texts, dtype = torch.float32).to(DEVICE) #cuda\n",
        "            res_labels = torch.tensor(labs).to(DEVICE)   #cuda\n",
        "        #  print(labels.shape)\n",
        "            output = model(emb_ix)\n",
        "            y_pred = output.argmax(1).cpu().numpy()\n",
        "            loss = loss_function(output, res_labels)\n",
        "            test_loss += loss.item()\n",
        "            test_predictions = np.hstack((test_predictions, y_pred))\n",
        "\n",
        "    test_f1_micro = f1_score(labels, test_predictions, average='micro')*100\n",
        "    test_f1_weighted = f1_score(labels, test_predictions, average='weighted')*100\n",
        "\n",
        "\n",
        "    return test_loss / (len(test_dataset)//batch_size), test_f1_micro, test_f1_weighted"
      ],
      "execution_count": 0,
      "outputs": []
    },
    {
      "cell_type": "code",
      "metadata": {
        "id": "v-Z-vNmR3iV4",
        "colab_type": "code",
        "outputId": "ea805be6-ec99-4de3-b8df-82e1602e6bce",
        "colab": {
          "base_uri": "https://localhost:8080/",
          "height": 724,
          "referenced_widgets": [
            "5c8d8ed2cbf1416193c719c734ec7b0d",
            "c79304a43d494618acd5ed01e650083b",
            "3eeef65bdc694ed39e90d94569908ee0",
            "f99b44152af2446faf0ecb5ca99b1c04",
            "df336d90eb1449aeb3827b7500a7d0c0",
            "5454d3ded7f94c3b9ac00d53a96738af",
            "3bc4b6fa8ef64e4ba705f7593364a841",
            "583f503653544420bb066853f7a047d1"
          ]
        }
      },
      "source": [
        "print('Training...')\n",
        "best_f1 = 0\n",
        "max_step = 2\n",
        "step=0\n",
        "for epoch in tnrange(N_EPOCHS+1):\n",
        "    train_loss, train_f1_micro, train_f1_weighted = train_model_epoch(train_matrix, y_train, model, optimizer, batch_size=300)\n",
        " #   train_loss, train_acc = train_model_epoch_sample(train_texts, labels, model, optimizer)\n",
        "    val_loss, val_f1_micro, val_f1_weighted = test(val_matrix, y_val, model, batch_size=300)\n",
        "    if val_f1_micro < best_f1 + 0.1:\n",
        "      step += 1\n",
        "      \n",
        "      if step > max_step:\n",
        "        break\n",
        "    else:\n",
        "      best_f1 = val_f1_micro\n",
        "      step = 0\n",
        "      weights_model = copy.deepcopy(model.state_dict())\n",
        "           \n",
        "    \n",
        "      new_model = LogisticRegression(300,225).to(DEVICE)\n",
        "      new_model.load_state_dict(weights_model)\n",
        "\n",
        "    if epoch % 10 == 0:\n",
        "     #   test_loss, test_f1_micro, test_f1_weighted = test(X_val, y_val, model, batch_size=300)\n",
        "        print(f'\\nTrain loss: {train_loss:.8f} | Train f1 micro: {train_f1_micro:.4f}  | Train f1 weighted: {train_f1_weighted:.4f}' )   \n",
        "     #   print(f'Test accuracy {test_acc:.4f}')\n",
        "        print(f'\\nVal f1 micro: {val_f1_micro:.4f} | Val f1 weighted: {val_f1_weighted:.4f}')\n",
        "print('Finished training.')"
      ],
      "execution_count": 0,
      "outputs": [
        {
          "output_type": "stream",
          "text": [
            "Training...\n"
          ],
          "name": "stdout"
        },
        {
          "output_type": "stream",
          "text": [
            "/usr/local/lib/python3.6/dist-packages/ipykernel_launcher.py:5: TqdmDeprecationWarning: Please use `tqdm.notebook.trange` instead of `tqdm.tnrange`\n",
            "  \"\"\"\n"
          ],
          "name": "stderr"
        },
        {
          "output_type": "display_data",
          "data": {
            "application/vnd.jupyter.widget-view+json": {
              "model_id": "5c8d8ed2cbf1416193c719c734ec7b0d",
              "version_minor": 0,
              "version_major": 2
            },
            "text/plain": [
              "HBox(children=(IntProgress(value=0, max=601), HTML(value='')))"
            ]
          },
          "metadata": {
            "tags": []
          }
        },
        {
          "output_type": "stream",
          "text": [
            "\n",
            "Train loss: 5.24823990 | Train f1 micro: 9.3874  | Train f1 weighted: 6.9598\n",
            "\n",
            "Val f1 micro: 15.9269 | Val f1 weighted: 11.1718\n",
            "\n",
            "Train loss: 3.97991458 | Train f1 micro: 29.7478  | Train f1 weighted: 24.4521\n",
            "\n",
            "Val f1 micro: 29.4244 | Val f1 weighted: 24.1010\n",
            "\n",
            "Train loss: 3.37353516 | Train f1 micro: 35.4495  | Train f1 weighted: 31.3817\n",
            "\n",
            "Val f1 micro: 34.8925 | Val f1 weighted: 30.8584\n",
            "\n",
            "Train loss: 3.02740513 | Train f1 micro: 38.7443  | Train f1 weighted: 35.5592\n",
            "\n",
            "Val f1 micro: 37.5525 | Val f1 weighted: 34.3597\n",
            "\n",
            "Train loss: 2.80880737 | Train f1 micro: 40.8866  | Train f1 weighted: 38.3521\n",
            "\n",
            "Val f1 micro: 39.3148 | Val f1 weighted: 36.6850\n",
            "\n",
            "Train loss: 2.66178766 | Train f1 micro: 42.5114  | Train f1 weighted: 40.4801\n",
            "\n",
            "Val f1 micro: 40.7148 | Val f1 weighted: 38.6011\n",
            "\n",
            "Train loss: 2.55492818 | Train f1 micro: 43.7483  | Train f1 weighted: 42.0709\n",
            "\n",
            "Val f1 micro: 41.8595 | Val f1 weighted: 40.1480\n",
            "\n",
            "Train loss: 2.47622732 | Train f1 micro: 44.7671  | Train f1 weighted: 43.3392\n",
            "\n",
            "Val f1 micro: 42.5183 | Val f1 weighted: 41.0106\n",
            "Finished training.\n"
          ],
          "name": "stdout"
        }
      ]
    },
    {
      "cell_type": "code",
      "metadata": {
        "id": "3Y6RhnuJ6ShS",
        "colab_type": "code",
        "colab": {}
      },
      "source": [
        "def compute_f1(model, data, labels):\n",
        "    model.eval()\n",
        "    emb_ix = torch.tensor(data, dtype = torch.float32).to(DEVICE)\n",
        "    output = new_model(emb_ix)\n",
        "    y_pred = output.argmax(1).cpu().numpy()\n",
        "    print('f1_micro= ', np.round(f1_score(labels, y_pred, average='micro')*100, 2))\n",
        "    print('f1_weighted= ', np.round(f1_score(labels, y_pred, average='weighted')*100, 2))"
      ],
      "execution_count": 0,
      "outputs": []
    },
    {
      "cell_type": "code",
      "metadata": {
        "id": "dQceIZik7mn5",
        "colab_type": "code",
        "outputId": "3387408c-ea8c-43d3-c118-9d3c8e3b28c2",
        "colab": {
          "base_uri": "https://localhost:8080/",
          "height": 345
        }
      },
      "source": [
        "print('Train f1')\n",
        "compute_f1(new_model, train_matrix, y_train)\n",
        "print('Val f1')\n",
        "compute_f1(new_model, val_matrix, y_val)\n",
        "print('Test f1')\n",
        "compute_f1(new_model, test_matrix, y_test)\n",
        "print('Test f1 english embeddings, 1 similar')\n",
        "compute_f1(new_model, test_similar1, y_test)\n",
        "print('Test f1 english embeddings, 3 similar')\n",
        "compute_f1(new_model, test_similar3, y_test)\n",
        "print('Test f1 english embeddings, 5 similar')\n",
        "compute_f1(new_model, test_similar5, y_test)"
      ],
      "execution_count": 0,
      "outputs": [
        {
          "output_type": "stream",
          "text": [
            "Train f1\n",
            "f1_micro=  44.79\n",
            "f1_weighted=  43.33\n",
            "Val f1\n",
            "f1_micro=  42.47\n",
            "f1_weighted=  40.98\n",
            "Test f1\n",
            "f1_micro=  23.87\n",
            "f1_weighted=  21.9\n",
            "Test f1 english embeddings, 1 similar\n",
            "f1_micro=  25.98\n",
            "f1_weighted=  23.82\n",
            "Test f1 english embeddings, 3 similar\n",
            "f1_micro=  25.73\n",
            "f1_weighted=  23.63\n",
            "Test f1 english embeddings, 5 similar\n",
            "f1_micro=  25.03\n",
            "f1_weighted=  23.03\n"
          ],
          "name": "stdout"
        }
      ]
    }
  ]
}